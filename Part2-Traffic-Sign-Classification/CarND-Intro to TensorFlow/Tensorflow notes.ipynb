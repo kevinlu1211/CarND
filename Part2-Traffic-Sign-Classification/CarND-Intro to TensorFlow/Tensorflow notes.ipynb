{
 "cells": [
  {
   "cell_type": "code",
   "execution_count": 2,
   "metadata": {
    "collapsed": true
   },
   "outputs": [],
   "source": [
    "import tensorflow as tf\n",
    "import numpy as np"
   ]
  },
  {
   "cell_type": "code",
   "execution_count": 16,
   "metadata": {
    "collapsed": false
   },
   "outputs": [
    {
     "name": "stdout",
     "output_type": "stream",
     "text": [
      "0.12.1\n"
     ]
    }
   ],
   "source": [
    "print(tf.__version__)\n",
    "session = tf.InteractiveSession()"
   ]
  },
  {
   "cell_type": "code",
   "execution_count": 37,
   "metadata": {
    "collapsed": false
   },
   "outputs": [
    {
     "name": "stdout",
     "output_type": "stream",
     "text": [
      "[[[[ 0.07135518  1.4067804  -1.46384131]\n",
      "   [-0.82587093 -0.23383764 -0.17479868]]\n",
      "\n",
      "  [[ 0.97639385  1.09180426 -1.1754418 ]\n",
      "   [-3.07314672 -1.03097413  1.19073967]]]\n",
      "\n",
      "\n",
      " [[[-1.29151613 -2.05434197  0.28282473]\n",
      "   [-0.44421948 -1.46595107 -0.92635151]]\n",
      "\n",
      "  [[ 0.79374907  0.21626931 -0.08926941]\n",
      "   [ 0.92807732 -0.03165952 -0.04967937]]]]\n"
     ]
    }
   ],
   "source": [
    "# Using the tf.split method\n",
    "# We can imagine that:\n",
    "# 2 is the number of images\n",
    "# 2 is the width of the image pixel-wise\n",
    "# 2 is the height of the image pixel-wise\n",
    "# 3 is the RBG of each pixel\n",
    "X = tf.constant(np.random.randn(2, 2, 2, 3))\n",
    "print(X.eval())"
   ]
  },
  {
   "cell_type": "code",
   "execution_count": 39,
   "metadata": {
    "collapsed": false
   },
   "outputs": [
    {
     "name": "stdout",
     "output_type": "stream",
     "text": [
      "[[[[ 0.07135518  1.4067804  -1.46384131]\n",
      "   [-0.82587093 -0.23383764 -0.17479868]]\n",
      "\n",
      "  [[ 0.97639385  1.09180426 -1.1754418 ]\n",
      "   [-3.07314672 -1.03097413  1.19073967]]]\n",
      "\n",
      "\n",
      " [[[-1.29151613 -2.05434197  0.28282473]\n",
      "   [-0.44421948 -1.46595107 -0.92635151]]\n",
      "\n",
      "  [[ 0.79374907  0.21626931 -0.08926941]\n",
      "   [ 0.92807732 -0.03165952 -0.04967937]]]]\n",
      "\n",
      "[[[[ 0.07135518  1.4067804  -1.46384131]\n",
      "   [-0.82587093 -0.23383764 -0.17479868]]\n",
      "\n",
      "  [[ 0.97639385  1.09180426 -1.1754418 ]\n",
      "   [-3.07314672 -1.03097413  1.19073967]]]]\n"
     ]
    }
   ],
   "source": [
    "# tf.split(arg1, arg2, arg3)\n",
    "# arg1 is the axis of the split\n",
    "# arg2 is the number of equal partitions after the split\n",
    "# arg3 is the input data\n",
    "\n",
    "# Split by image\n",
    "split0, split1 = tf.split(0, 2, X)\n",
    "print(X.eval())\n",
    "print()\n",
    "print(split0.eval())"
   ]
  },
  {
   "cell_type": "code",
   "execution_count": 40,
   "metadata": {
    "collapsed": false
   },
   "outputs": [
    {
     "name": "stdout",
     "output_type": "stream",
     "text": [
      "[[[[ 0.07135518  1.4067804  -1.46384131]\n",
      "   [-0.82587093 -0.23383764 -0.17479868]]\n",
      "\n",
      "  [[ 0.97639385  1.09180426 -1.1754418 ]\n",
      "   [-3.07314672 -1.03097413  1.19073967]]]\n",
      "\n",
      "\n",
      " [[[-1.29151613 -2.05434197  0.28282473]\n",
      "   [-0.44421948 -1.46595107 -0.92635151]]\n",
      "\n",
      "  [[ 0.79374907  0.21626931 -0.08926941]\n",
      "   [ 0.92807732 -0.03165952 -0.04967937]]]]\n",
      "\n",
      "[[[[ 0.07135518  1.4067804  -1.46384131]\n",
      "   [-0.82587093 -0.23383764 -0.17479868]]]\n",
      "\n",
      "\n",
      " [[[-1.29151613 -2.05434197  0.28282473]\n",
      "   [-0.44421948 -1.46595107 -0.92635151]]]]\n"
     ]
    }
   ],
   "source": [
    "split0, split1 = tf.split(1, 2, X)\n",
    "print(X.eval())\n",
    "print()\n",
    "print(split0.eval())"
   ]
  },
  {
   "cell_type": "code",
   "execution_count": 41,
   "metadata": {
    "collapsed": false
   },
   "outputs": [
    {
     "name": "stdout",
     "output_type": "stream",
     "text": [
      "[[[[ 0.07135518  1.4067804  -1.46384131]\n",
      "   [-0.82587093 -0.23383764 -0.17479868]]\n",
      "\n",
      "  [[ 0.97639385  1.09180426 -1.1754418 ]\n",
      "   [-3.07314672 -1.03097413  1.19073967]]]\n",
      "\n",
      "\n",
      " [[[-1.29151613 -2.05434197  0.28282473]\n",
      "   [-0.44421948 -1.46595107 -0.92635151]]\n",
      "\n",
      "  [[ 0.79374907  0.21626931 -0.08926941]\n",
      "   [ 0.92807732 -0.03165952 -0.04967937]]]]\n",
      "\n",
      "[[[[ 0.07135518  1.4067804  -1.46384131]]\n",
      "\n",
      "  [[ 0.97639385  1.09180426 -1.1754418 ]]]\n",
      "\n",
      "\n",
      " [[[-1.29151613 -2.05434197  0.28282473]]\n",
      "\n",
      "  [[ 0.79374907  0.21626931 -0.08926941]]]]\n"
     ]
    }
   ],
   "source": [
    "split0, split1 = tf.split(2, 2, X)\n",
    "print(X.eval())\n",
    "print()\n",
    "print(split0.eval())"
   ]
  },
  {
   "cell_type": "code",
   "execution_count": 57,
   "metadata": {
    "collapsed": false
   },
   "outputs": [
    {
     "name": "stdout",
     "output_type": "stream",
     "text": [
      "[[[[ 0.07135518  1.4067804  -1.46384131]\n",
      "   [-0.82587093 -0.23383764 -0.17479868]]\n",
      "\n",
      "  [[ 0.97639385  1.09180426 -1.1754418 ]\n",
      "   [-3.07314672 -1.03097413  1.19073967]]]\n",
      "\n",
      "\n",
      " [[[-1.29151613 -2.05434197  0.28282473]\n",
      "   [-0.44421948 -1.46595107 -0.92635151]]\n",
      "\n",
      "  [[ 0.79374907  0.21626931 -0.08926941]\n",
      "   [ 0.92807732 -0.03165952 -0.04967937]]]]\n",
      "\n",
      "[[[[ 0.07135518]\n",
      "   [-0.82587093]]\n",
      "\n",
      "  [[ 0.97639385]\n",
      "   [-3.07314672]]]\n",
      "\n",
      "\n",
      " [[[-1.29151613]\n",
      "   [-0.44421948]]\n",
      "\n",
      "  [[ 0.79374907]\n",
      "   [ 0.92807732]]]]\n"
     ]
    }
   ],
   "source": [
    "split0, split1, split2 = tf.split(3, 3, X)\n",
    "print(X.eval())\n",
    "print()\n",
    "print(split0.eval())"
   ]
  },
  {
   "cell_type": "code",
   "execution_count": 54,
   "metadata": {
    "collapsed": false
   },
   "outputs": [
    {
     "name": "stdout",
     "output_type": "stream",
     "text": [
      "[(array([1, 2, 3]), array([11, 22, 33])), (array([4, 5, 6]), array([44, 55, 66]))]\n"
     ]
    }
   ],
   "source": [
    "# Generic zip function in python\n",
    "x = np.array([[1,2,3],[4,5,6]])\n",
    "y = np.array([[11,22,33],[44,55,66]])\n",
    "z = list(zip(x,y))\n",
    "zipped_list = z[:]\n",
    "print(zipped_list)"
   ]
  },
  {
   "cell_type": "code",
   "execution_count": 58,
   "metadata": {
    "collapsed": false
   },
   "outputs": [
    {
     "data": {
      "text/plain": [
       "array([[1, 2, 3],\n",
       "       [4, 5, 6]])"
      ]
     },
     "execution_count": 58,
     "metadata": {},
     "output_type": "execute_result"
    }
   ],
   "source": [
    "# Mimicking the tf.nn.local_response_normalization\n",
    "x"
   ]
  },
  {
   "cell_type": "code",
   "execution_count": 60,
   "metadata": {
    "collapsed": false
   },
   "outputs": [
    {
     "name": "stdout",
     "output_type": "stream",
     "text": [
      "[[[[ 0.15598753 -0.14767144 -0.09557633]\n",
      "   [ 0.07094406  1.4968308  -1.03763217]]\n",
      "\n",
      "  [[-2.08347437 -0.45481982  0.11317302]\n",
      "   [-0.87570811  0.12161626 -0.44293157]]]\n",
      "\n",
      "\n",
      " [[[-1.55761709 -1.10371149 -0.28278131]\n",
      "   [-0.35618879 -1.01916274 -1.07957081]]\n",
      "\n",
      "  [[-0.05809574 -0.84932452 -1.70572208]\n",
      "   [ 0.13609637  0.13374197 -1.52302799]]]]\n"
     ]
    }
   ],
   "source": [
    "X = tf.constant(np.random.randn(2, 2, 2, 3))\n",
    "print(X.eval())"
   ]
  },
  {
   "cell_type": "code",
   "execution_count": 64,
   "metadata": {
    "collapsed": false
   },
   "outputs": [
    {
     "data": {
      "text/plain": [
       "array([ 0.13609637,  0.13374197, -1.52302799])"
      ]
     },
     "execution_count": 64,
     "metadata": {},
     "output_type": "execute_result"
    }
   ],
   "source": [
    "X[1,1,1,0:3].eval()"
   ]
  },
  {
   "cell_type": "code",
   "execution_count": 26,
   "metadata": {
    "collapsed": false
   },
   "outputs": [
    {
     "name": "stdout",
     "output_type": "stream",
     "text": [
      "0.1\n"
     ]
    }
   ],
   "source": [
    "# Initializing tf.variables\n",
    "v = tf.Variable(0.1)\n",
    "tf.global_variables_initializer().run()\n",
    "print(v.eval())"
   ]
  },
  {
   "cell_type": "code",
   "execution_count": null,
   "metadata": {
    "collapsed": true
   },
   "outputs": [],
   "source": []
  }
 ],
 "metadata": {
  "kernelspec": {
   "display_name": "Python 3",
   "language": "python",
   "name": "python3"
  },
  "language_info": {
   "codemirror_mode": {
    "name": "ipython",
    "version": 3
   },
   "file_extension": ".py",
   "mimetype": "text/x-python",
   "name": "python",
   "nbconvert_exporter": "python",
   "pygments_lexer": "ipython3",
   "version": "3.5.2"
  },
  "widgets": {
   "state": {},
   "version": "1.1.2"
  }
 },
 "nbformat": 4,
 "nbformat_minor": 2
}
