{
 "cells": [
  {
   "cell_type": "markdown",
   "metadata": {},
   "source": [
    "# LeNet Lab\n",
    "![LeNet Architecture](lenet.png)\n",
    "Source: Yan LeCun"
   ]
  },
  {
   "cell_type": "markdown",
   "metadata": {},
   "source": [
    "## Load Data\n",
    "\n",
    "Load the MNIST data, which comes pre-loaded with TensorFlow.\n",
    "\n",
    "You do not need to modify this section."
   ]
  },
  {
   "cell_type": "code",
   "execution_count": 20,
   "metadata": {
    "collapsed": false
   },
   "outputs": [],
   "source": [
    "# Load pickled data\n",
    "import pickle\n",
    "\n",
    "# TODO: Fill this in based on where you saved the training and testing data\n",
    "\n",
    "training_file = \"train.p\"\n",
    "testing_file = \"test.p\"\n",
    "\n",
    "with open(training_file, mode='rb') as f:\n",
    "    train = pickle.load(f)\n",
    "with open(testing_file, mode='rb') as f:\n",
    "    test = pickle.load(f)\n",
    "    \n",
    "X_train, y_train = train['features'], train['labels']\n",
    "X_test, y_test = test['features'], test['labels']"
   ]
  },
  {
   "cell_type": "code",
   "execution_count": 21,
   "metadata": {
    "collapsed": false
   },
   "outputs": [
    {
     "name": "stdout",
     "output_type": "stream",
     "text": [
      "(31367, 32, 32, 3)\n",
      "(7842, 32, 32, 3)\n",
      "(31367,)\n",
      "(7842,)\n"
     ]
    }
   ],
   "source": [
    "from sklearn.model_selection import train_test_split\n",
    "X_train, X_validation, y_train, y_validation = train_test_split(X_train, y_train, test_size=0.2, random_state = 0)\n",
    "print(X_train.shape)\n",
    "print(X_validation.shape)\n",
    "print(y_train.shape)\n",
    "print(y_validation.shape)"
   ]
  },
  {
   "cell_type": "markdown",
   "metadata": {},
   "source": [
    "## Visualize Data\n",
    "\n",
    "View a sample from the dataset.\n",
    "\n",
    "You do not need to modify this section."
   ]
  },
  {
   "cell_type": "code",
   "execution_count": 22,
   "metadata": {
    "collapsed": false
   },
   "outputs": [
    {
     "name": "stdout",
     "output_type": "stream",
     "text": [
      "18\n"
     ]
    },
    {
     "data": {
      "image/png": "[encoded data removed]",
      "text/plain": [
       "<matplotlib.figure.Figure at 0x11e8ba978>"
      ]
     },
     "metadata": {},
     "output_type": "display_data"
    }
   ],
   "source": [
    "import random\n",
    "import numpy as np\n",
    "import matplotlib.pyplot as plt\n",
    "%matplotlib inline\n",
    "\n",
    "index = random.randint(0, len(X_train))\n",
    "image = X_train[index].squeeze()\n",
    "\n",
    "plt.figure(figsize=(1,1))\n",
    "plt.imshow(image, cmap=\"gray\")\n",
    "print(y_train[index])"
   ]
  },
  {
   "cell_type": "markdown",
   "metadata": {},
   "source": [
    "## Preprocess Data\n",
    "\n",
    "Shuffle the training data.\n",
    "\n",
    "You do not need to modify this section."
   ]
  },
  {
   "cell_type": "code",
   "execution_count": 23,
   "metadata": {
    "collapsed": false
   },
   "outputs": [],
   "source": [
    "from sklearn.utils import shuffle\n",
    "\n",
    "X_train, y_train = shuffle(X_train, y_train)"
   ]
  },
  {
   "cell_type": "markdown",
   "metadata": {},
   "source": [
    "## Setup TensorFlow\n",
    "The `EPOCH` and `BATCH_SIZE` values affect the training speed and model accuracy.\n",
    "\n",
    "You do not need to modify this section."
   ]
  },
  {
   "cell_type": "code",
   "execution_count": 24,
   "metadata": {
    "collapsed": false
   },
   "outputs": [
    {
     "name": "stdout",
     "output_type": "stream",
     "text": [
      "0.12.1\n"
     ]
    }
   ],
   "source": [
    "import tensorflow as tf\n",
    "print(tf.__version__)\n",
    "EPOCHS = 10\n",
    "BATCH_SIZE = 128"
   ]
  },
  {
   "cell_type": "markdown",
   "metadata": {},
   "source": [
    "## TODO: Implement LeNet-5\n",
    "Implement the [LeNet-5](http://yann.lecun.com/exdb/lenet/) neural network architecture.\n",
    "\n",
    "This is the only cell you need to edit.\n",
    "### Input\n",
    "The LeNet architecture accepts a 32x32xC image as input, where C is the number of color channels. Since MNIST images are grayscale, C is 1 in this case.\n",
    "\n",
    "### Architecture\n",
    "**Layer 1: Convolutional.** The output shape should be 28x28x6.\n",
    "\n",
    "**Activation.** Your choice of activation function.\n",
    "\n",
    "**Pooling.** The output shape should be 14x14x6.\n",
    "\n",
    "**Layer 2: Convolutional.** The output shape should be 10x10x16.\n",
    "\n",
    "**Activation.** Your choice of activation function.\n",
    "\n",
    "**Pooling.** The output shape should be 5x5x16.\n",
    "\n",
    "**Flatten.** Flatten the output shape of the final pooling layer such that it's 1D instead of 3D. The easiest way to do is by using `tf.contrib.layers.flatten`, which is already imported for you.\n",
    "\n",
    "**Layer 3: Fully Connected.** This should have 120 outputs.\n",
    "\n",
    "**Activation.** Your choice of activation function.\n",
    "\n",
    "**Layer 4: Fully Connected.** This should have 84 outputs.\n",
    "\n",
    "**Activation.** Your choice of activation function.\n",
    "\n",
    "**Layer 5: Fully Connected (Logits).** This should have 10 outputs.\n",
    "\n",
    "### Output\n",
    "Return the result of the 2nd fully connected layer."
   ]
  },
  {
   "cell_type": "code",
   "execution_count": 29,
   "metadata": {
    "collapsed": false
   },
   "outputs": [],
   "source": [
    "from tensorflow.contrib.layers import flatten\n",
    "\n",
    "def LeNet(x):    \n",
    "    # Hyperparameters\n",
    "    mu = 0\n",
    "    sigma = 0.1\n",
    "    layer_depth = {\n",
    "        'layer_1' : 6,\n",
    "        'layer_2' : 16,\n",
    "        'flatten' : 400,\n",
    "        'fc_1' : 120, \n",
    "        'fc_2' : 84,\n",
    "        'logits' : 43\n",
    "    }\n",
    "    \n",
    "    weights = {\n",
    "        'layer_1' : tf.Variable(tf.truncated_normal(\n",
    "        [5, 5, 3, layer_depth['layer_1']],mean = mu, stddev = sigma)),\n",
    "        'layer_2' : tf.Variable(tf.truncated_normal(\n",
    "        [5, 5, layer_depth['layer_1'], layer_depth['layer_2']],mean = mu, stddev = sigma)),\n",
    "        'fc_1' : tf.Variable(tf.truncated_normal(\n",
    "        [layer_depth['flatten'], layer_depth['fc_1']],mean = mu, stddev = sigma)),\n",
    "        'fc_2' : tf.Variable(tf.truncated_normal(\n",
    "        [layer_depth['fc_1'], layer_depth['fc_2']],mean = mu, stddev = sigma)),\n",
    "        'logits' : tf.Variable(tf.truncated_normal(\n",
    "        [layer_depth['fc_2'], layer_depth['logits']],mean = mu, stddev = sigma))\n",
    "        \n",
    "                                \n",
    "\n",
    "        \n",
    "    }\n",
    "    \n",
    "    biases = {\n",
    "        'layer_1' : tf.Variable(tf.zeros(layer_depth['layer_1'])),\n",
    "        'layer_2' : tf.Variable(tf.zeros(layer_depth['layer_2'])),\n",
    "        'fc_1' : tf.Variable(tf.zeros(layer_depth['fc_1'])),\n",
    "        'fc_2' : tf.Variable(tf.zeros(layer_depth['fc_2'])),\n",
    "        'logits' : tf.Variable(tf.zeros(layer_depth['logits']))\n",
    "    }\n",
    "    # TODO: Layer 1: Convolutional. Input = 32x32x1. Output = 28x28x6.\n",
    "    conv1 = tf.nn.conv2d(x, weights['layer_1'], strides = [1,1,1,1], padding = \"VALID\")\n",
    "    conv1 = tf.nn.bias_add(conv1, biases['layer_1'])\n",
    "    \n",
    "    # TODO: Activation.\n",
    "    conv1 = tf.nn.relu(conv1)\n",
    "#     with tf.Session() as sess:\n",
    "#         sess.run(print(conv1.get_shape()))\n",
    "        \n",
    "    # TODO: Pooling. Input = 28x28x6. Output = 14x14x6.\n",
    "    pool1 = tf.nn.max_pool(conv1, ksize = [1,2,2,1], strides = [1,2,2,1], padding = \"VALID\")\n",
    "#     with tf.Session() as sess:\n",
    "#         sess.run(print(pool1.get_shape()))\n",
    "        \n",
    "    # TODO: Layer 2: Convolutional. Output = 10x10x16.\n",
    "    conv2 = tf.nn.conv2d(pool1, weights['layer_2'], strides = [1,1,1,1], padding = \"VALID\")\n",
    "    conv2 = tf.nn.bias_add(conv2, biases['layer_2'])\n",
    "#     with tf.Session() as sess:\n",
    "#         sess.run(print(conv2.get_shape()))\n",
    "        \n",
    "    # TODO: Activation.\n",
    "    conv2 = tf.nn.relu(conv2) \n",
    "\n",
    "    # TODO: Pooling. Input = 10x10x16. Output = 5x5x16.\n",
    "    pool2 = tf.nn.max_pool(conv2, ksize = [1, 2, 2, 1], strides = [1,2,2,1], padding = \"VALID\")\n",
    "#     with tf.Session() as sess:\n",
    "#         sess.run(print(pool2.get_shape()))\n",
    "\n",
    "    # TODO: Flatten. Input = 5x5x16. Output = 400.\n",
    "    flatten = tf.reshape(pool2, [-1, layer_depth['flatten']])\n",
    "#     with tf.Session() as sess:\n",
    "#         sess.run(print(flatten.get_shape()))\n",
    "    # TODO: Layer 3: Fully Connected. Input = 400. Output = 120.\n",
    "    fc_1 = tf.add(tf.matmul(flatten, weights['fc_1']), biases['fc_1'])\n",
    "    \n",
    "    # TODO: Activation.\n",
    "    fc_1 = tf.nn.relu(fc_1)\n",
    "    \n",
    "#     with tf.Session() as sess:\n",
    "#         sess.run(print(fc_1.get_shape()))\n",
    "        \n",
    "    # TODO: Layer 4: Fully Connected. Input = 120. Output = 84.\n",
    "    fc_2 = tf.add(tf.matmul(fc_1, weights['fc_2']), biases['fc_2'])\n",
    "    \n",
    "    # TODO: Activation.\n",
    "    fc_2 = tf.nn.relu(fc_2)\n",
    "   \n",
    "#     with tf.Session() as sess:\n",
    "#         sess.run(print(fc_2.get_shape()))\n",
    "        \n",
    "    # TODO: Layer 5: Fully Connected. Input = 84. Output = 10.\n",
    "    logits = tf.add(tf.matmul(fc_2, weights['logits']), biases['logits'])\n",
    "#     with tf.Session() as sess:\n",
    "#         sess.run(print(logits.get_shape()))\n",
    "    return logits"
   ]
  },
  {
   "cell_type": "code",
   "execution_count": 99,
   "metadata": {
    "collapsed": true
   },
   "outputs": [],
   "source": [
    "\"# Using the inception module\"\n",
    "def create_weight(size, stddev = 0.1, Name = None):\n",
    "    return tf.Variable(tf.truncated_normal(size, stddev), name = Name)\n",
    "\n",
    "def inception(x):\n",
    "    # Input is 32 x 32 x 3\n",
    "\n",
    "    # First we have a inception layer\n",
    "\n",
    "    # The inception layer consists of: \n",
    "\n",
    "    # - 1 1 x 1 convolution with depth 8 (layer_1_depth) \n",
    "    #   which we denote conv_1x1_ly1_1\n",
    "\n",
    "    # - 1 1 x 1 convolution with depth 4 (layer_1_reduce) \n",
    "    #   which we denote conv_1x1_ly1_2\n",
    "    #   followed by a 3 x 3 convolution with depth 8\n",
    "    #   which we denote conv_3x3_ly1\n",
    "\n",
    "    # - 1 1 x 1 convolution with depth 4 (layer_1_reduce) \n",
    "    #   which we denote conv_1x1_ly1_3\n",
    "    #   followed by a 5 x 5 convolution with depth 8\n",
    "    #   which we denote conv_5x5_ly1\n",
    "\n",
    "    # - 1 3 x 3 max pooling with depth 3 (input_depth) \n",
    "    #   which we denote maxpool_3x3_ly1\n",
    "    #   followed by a 1 x 1 convolution with depth 8\n",
    "    #   which we denote conv_1x1_ly1_4\n",
    "\n",
    "    # Then these layers are then concatenated \n",
    "    # Then we will end up with a concatenated layer ? x ? with depth 8\n",
    "\n",
    "    # So we have 1 1 x 1 convolution\n",
    "    input_depth = 3\n",
    "    ly1_depth = 16 # this is the depth that each of the \n",
    "    ly1_reduce = 8 \n",
    "\n",
    "    # 1 x 1 convolution with depth 16\n",
    "    conv_1x1_ly1_1_W = create_weight([1, 1, input_depth, ly1_depth])\n",
    "    conv_1x1_ly1_1_b = create_weight([ly1_depth])\n",
    "    conv_1x1_ly1_1 = tf.nn.conv2d(x, conv_1x1_ly1_1_W, strides = [1,1,1,1], padding = \"SAME\") + conv_1x1_ly1_1_b\n",
    "\n",
    "    # 1 x 1 convolution with depth 8, followed by a 3 x 3 convolution with depth 8\n",
    "    conv_1x1_ly1_2_W = create_weight([1, 1, input_depth, ly1_reduce])\n",
    "    conv_1x1_ly1_2_b = create_weight([ly1_reduce])\n",
    "    conv_1x1_ly1_2 = tf.nn.conv2d(x, conv_1x1_ly1_2_W, strides = [1,1,1,1], padding = \"SAME\") + conv_1x1_ly1_2_b\n",
    "\n",
    "    # Hit it with a relu activation\n",
    "    conv_1x1_ly1_2 = tf.nn.relu(conv_1x1_ly1_2)\n",
    "\n",
    "    # Now follow this with a 3 x 3 convolution with depth 16\n",
    "    conv_3x3_ly1_W = create_weight([3, 3, input_depth, ly1_depth])\n",
    "    conv_3x3_ly1_b = create_weight([ly1_depth])\n",
    "    conv_3x3_ly1 = tf.nn.conv2d(x, conv_3x3_ly1_W, strides = [1,1,1,1], padding = \"SAME\") + conv_3x3_ly1_b\n",
    "\n",
    "    # 1 x 1 convolution with depth 8, followed by a 5 x 5 convolution with depth 16\n",
    "    conv_1x1_ly1_3_W = create_weight([1, 1, input_depth, ly1_reduce])\n",
    "    conv_1x1_ly1_3_b = create_weight([ly1_reduce])\n",
    "    conv_1x1_ly1_3 = tf.nn.conv2d(x, conv_1x1_ly1_3_W, strides = [1,1,1,1], padding = \"SAME\") + conv_1x1_ly1_3_b\n",
    "\n",
    "    # Hit it with a relu activation\n",
    "    conv_1x1_ly1_3 = tf.nn.relu(conv_1x1_ly1_3)\n",
    "\n",
    "    # Now follow this up with a 5x5 with depth 16\n",
    "    conv_5x5_ly1_W = create_weight([5,5, ly1_reduce, ly1_depth])\n",
    "    conv_5x5_ly1_b = create_weight([ly1_depth])\n",
    "    conv_5x5_ly1 = tf.nn.conv2d(conv_1x1_ly1_3, conv_5x5_ly1_W, strides = [1,1,1,1], padding = \"SAME\") + conv_5x5_ly1_b\n",
    "\n",
    "    # 3 x 3 max pooling followed by a 1 x 1 convolution with depth 16\n",
    "    maxpool_3x3_ly1 = tf.nn.max_pool(x, ksize = [1,3,3,1], strides = [1,1,1,1], padding = \"SAME\")\n",
    "    conv_1x1_ly1_4_W = create_weight([1,1,input_depth, ly1_depth])\n",
    "    conv_1x1_ly1_4_b = create_weight([ly1_depth])\n",
    "    conv_1x1_ly1_4 = tf.nn.conv2d(maxpool_3x3_ly1, conv_1x1_ly1_4_W, strides = [1,1,1,1], padding = \"SAME\") + conv_1x1_ly1_4_b\n",
    "\n",
    "    # Now concatenate the layers conv_1x1_ly1_1, conv_1x1_ly1_4, conv_3x3_ly1, conv_5x5_ly1\n",
    "    inception_ly1 = tf.nn.relu(tf.concat(3, [conv_1x1_ly1_1, conv_1x1_ly1_4, conv_3x3_ly1, conv_5x5_ly1]))\n",
    "    print(inception_ly1.get_shape())\n",
    "    # Now for the second inception layer\n",
    "    ly2_depth = 32 \n",
    "    ly2_reduce = 8\n",
    "                             \n",
    "    # 1 x 1 convolution with depth 32\n",
    "    conv_1x1_ly2_1_W = create_weight([1, 1, ly1_depth*4, ly2_depth])\n",
    "    conv_1x1_ly2_1_b = create_weight([ly2_depth])\n",
    "    conv_1x1_ly2_1 = tf.nn.conv2d(inception_ly1, conv_1x1_ly2_1_W, strides = [1,1,1,1], padding = \"SAME\") + conv_1x1_ly2_1_b\n",
    "\n",
    "    # 1 x 1 convolution with depth 8, followed by a 3 x 3 convolution with depth 32\n",
    "    conv_1x1_ly2_2_W = create_weight([1, 1, ly1_depth*4, ly2_reduce])\n",
    "    conv_1x1_ly2_2_b = create_weight([ly2_reduce])\n",
    "    conv_1x1_ly2_2 = tf.nn.conv2d(inception_ly1, conv_1x1_ly2_2_W, strides = [1,1,1,1], padding = \"SAME\") + conv_1x1_ly2_2_b\n",
    "\n",
    "    # Hit it with a relu activation\n",
    "    conv_1x1_ly2_2 = tf.nn.relu(conv_1x1_ly2_2)\n",
    "\n",
    "    # Now follow this with a 3 x 3 convolution with depth 32\n",
    "    conv_3x3_ly2_W = create_weight([3, 3, ly2_reduce, ly2_depth])\n",
    "    conv_3x3_ly2_b = create_weight([ly2_depth])\n",
    "    conv_3x3_ly2 = tf.nn.conv2d(conv_1x1_ly2_2, conv_3x3_ly2_W, strides = [1,1,1,1], padding = \"SAME\") + conv_3x3_ly2_b\n",
    "\n",
    "    # 1 x 1 convolution with depth 8, followed by a 5 x 5 convolution with depth 32\n",
    "    conv_1x1_ly2_3_W = create_weight([1, 1, ly1_depth*4, ly2_reduce])\n",
    "    conv_1x1_ly2_3_b = create_weight([ly2_reduce])\n",
    "    conv_1x1_ly2_3 = tf.nn.conv2d(inception_ly1, conv_1x1_ly2_3_W, strides = [1,1,1,1], padding = \"SAME\") + conv_1x1_ly2_3_b\n",
    "\n",
    "    # Hit it with a relu activation\n",
    "    conv_1x1_ly2_3 = tf.nn.relu(conv_1x1_ly2_3)\n",
    "\n",
    "    # Now follow this up with a 5x5 with depth 32 \n",
    "    conv_5x5_ly2_W = create_weight([5,5, ly2_reduce, ly2_depth])\n",
    "    conv_5x5_ly2_b = create_weight([ly2_depth])\n",
    "    conv_5x5_ly2 = tf.nn.conv2d(conv_1x1_ly2_3, conv_5x5_ly2_W, strides = [1,1,1,1], padding = \"SAME\") + conv_5x5_ly2_b\n",
    "\n",
    "    # 3 x 3 max pooling followed by a 1 x 1 convolution with depth 32\n",
    "    maxpool_3x3_ly2 = tf.nn.max_pool(inception_ly1, ksize = [1,3,3,1], strides = [1,1,1,1], padding = \"SAME\")\n",
    "    conv_1x1_ly2_4_W = create_weight([1,1,ly1_depth*4, ly2_depth])\n",
    "    conv_1x1_ly2_4_b = create_weight([ly2_depth])\n",
    "    conv_1x1_ly2_4 = tf.nn.conv2d(maxpool_3x3_ly2, conv_1x1_ly2_4_W, strides = [1,1,1,1], padding = \"SAME\") + conv_1x1_ly2_4_b\n",
    "\n",
    "    # Now concatenate the layers conv_1x1_ly2_1, conv_1x1_ly2_4, conv_3x3_ly2, conv_5x5_ly2\n",
    "    inception_ly2 = tf.nn.relu(tf.concat(3, [conv_1x1_ly2_1, conv_1x1_ly2_4, conv_3x3_ly2, conv_5x5_ly2]))\n",
    "    \n",
    "    # Now use the fully connected layers inception_ly2 output is \n",
    "    # 32 * 32 (for the image sizes) \n",
    "    #    * 4 (as we are concatenating 4 layers) \n",
    "    #    * ly2_depth (which is the depth of layer 2)\n",
    "        \n",
    "    inception_ly2_flatten = tf.reshape(inception_ly2, [-1, 32*32*4*ly2_depth])\n",
    "                               \n",
    "    # Number of nodes in the next fully connected layer\n",
    "    fc_1_width = 700 \n",
    "    fc_1_W = create_weight([32 * 32 * 4 * ly2_depth, fc_1_width])\n",
    "    fc_1_b = create_weight([fc_1_width])\n",
    "    fc_1 = tf.matmul(inception_ly2_flatten,fc_1_W) + fc_1_b\n",
    "    fc_1 = tf.nn.relu(fc_1)\n",
    "     \n",
    "    fc_2_width = 43 # the number of outputs\n",
    "    fc_2_W = create_weight([fc_1_width, fc_2_width])\n",
    "    fc_2_b = create_weight([fc_2_width])\n",
    "    logits = tf.matmul(fc_1, fc_2_W) + fc_2_b\n",
    "    return logits               \n",
    "                               "
   ]
  },
  {
   "cell_type": "markdown",
   "metadata": {},
   "source": [
    "## Features and Labels\n",
    "Train LeNet to classify [MNIST](http://yann.lecun.com/exdb/mnist/) data.\n",
    "\n",
    "`x` is a placeholder for a batch of input images.\n",
    "`y` is a placeholder for a batch of output labels.\n",
    "\n",
    "You do not need to modify this section."
   ]
  },
  {
   "cell_type": "code",
   "execution_count": 100,
   "metadata": {
    "collapsed": false
   },
   "outputs": [],
   "source": [
    "x = tf.placeholder(tf.float32, (None, 32, 32, 3))\n",
    "y = tf.placeholder(tf.int32, (None))\n",
    "one_hot_y = tf.one_hot(y, 43)"
   ]
  },
  {
   "cell_type": "markdown",
   "metadata": {},
   "source": [
    "## Training Pipeline\n",
    "Create a training pipeline that uses the model to classify MNIST data.\n",
    "\n",
    "You do not need to modify this section."
   ]
  },
  {
   "cell_type": "code",
   "execution_count": 101,
   "metadata": {
    "collapsed": false
   },
   "outputs": [
    {
     "name": "stdout",
     "output_type": "stream",
     "text": [
      "(?, 32, 32, 64)\n"
     ]
    }
   ],
   "source": [
    "rate = 0.001\n",
    "logits = inception(x)"
   ]
  },
  {
   "cell_type": "code",
   "execution_count": 102,
   "metadata": {
    "collapsed": true
   },
   "outputs": [],
   "source": [
    "cross_entropy = tf.nn.softmax_cross_entropy_with_logits(logits, one_hot_y)"
   ]
  },
  {
   "cell_type": "code",
   "execution_count": 103,
   "metadata": {
    "collapsed": true
   },
   "outputs": [],
   "source": [
    "loss_operation = tf.reduce_mean(cross_entropy)"
   ]
  },
  {
   "cell_type": "code",
   "execution_count": 104,
   "metadata": {
    "collapsed": false
   },
   "outputs": [],
   "source": [
    "optimizer = tf.train.AdamOptimizer(learning_rate = rate)\n",
    "training_operation = optimizer.minimize(loss_operation)"
   ]
  },
  {
   "cell_type": "markdown",
   "metadata": {},
   "source": [
    "## Model Evaluation\n",
    "Evaluate how well the loss and accuracy of the model for a given dataset.\n",
    "\n",
    "You do not need to modify this section."
   ]
  },
  {
   "cell_type": "code",
   "execution_count": null,
   "metadata": {
    "collapsed": true
   },
   "outputs": [],
   "source": [
    "correct_prediction = tf.equal(tf.argmax(logits, 1), tf.argmax(one_hot_y, 1))\n",
    "accuracy_operation = tf.reduce_mean(tf.cast(correct_prediction, tf.float32))\n",
    "saver = tf.train.Saver()\n",
    "\n",
    "def evaluate(X_data, y_data):\n",
    "    num_examples = len(X_data)\n",
    "    total_accuracy = 0\n",
    "    sess = tf.get_default_session()\n",
    "    for offset in range(0, num_examples, BATCH_SIZE):\n",
    "        batch_x, batch_y = X_data[offset:offset+BATCH_SIZE], y_data[offset:offset+BATCH_SIZE]\n",
    "        accuracy = sess.run(accuracy_operation, feed_dict={x: batch_x, y: batch_y})\n",
    "        total_accuracy += (accuracy * len(batch_x))\n",
    "    return total_accuracy / num_examples"
   ]
  },
  {
   "cell_type": "markdown",
   "metadata": {},
   "source": [
    "## Train the Model\n",
    "Run the training data through the training pipeline to train the model.\n",
    "\n",
    "Before each epoch, shuffle the training set.\n",
    "\n",
    "After each epoch, measure the loss and accuracy of the validation set.\n",
    "\n",
    "Save the model after training.\n",
    "\n",
    "You do not need to modify this section."
   ]
  },
  {
   "cell_type": "code",
   "execution_count": null,
   "metadata": {
    "collapsed": false
   },
   "outputs": [
    {
     "name": "stdout",
     "output_type": "stream",
     "text": [
      "Training...\n",
      "\n",
      "EPOCH 1 ...\n",
      "Validation Accuracy = 0.363\n",
      "\n",
      "EPOCH 2 ...\n",
      "Validation Accuracy = 0.558\n",
      "\n",
      "EPOCH 3 ...\n",
      "Validation Accuracy = 0.751\n",
      "\n",
      "EPOCH 4 ...\n",
      "Validation Accuracy = 0.729\n",
      "\n"
     ]
    }
   ],
   "source": [
    "with tf.Session() as sess:\n",
    "    sess.run(tf.global_variables_initializer())\n",
    "    num_examples = len(X_train)\n",
    "    \n",
    "    print(\"Training...\")\n",
    "    print()\n",
    "    for i in range(EPOCHS):\n",
    "        X_train, y_train = shuffle(X_train, y_train)\n",
    "        for offset in range(0, num_examples, BATCH_SIZE):\n",
    "            end = offset + BATCH_SIZE\n",
    "            batch_x, batch_y = X_train[offset:end], y_train[offset:end]\n",
    "            sess.run(training_operation, feed_dict={x: batch_x, y: batch_y})\n",
    "            \n",
    "        validation_accuracy = evaluate(X_validation, y_validation)\n",
    "        print(\"EPOCH {} ...\".format(i+1))\n",
    "        print(\"Validation Accuracy = {:.3f}\".format(validation_accuracy))\n",
    "        print()\n",
    "        \n",
    "    saver.save(sess, 'lenet')\n",
    "    print(\"Model saved\")"
   ]
  },
  {
   "cell_type": "markdown",
   "metadata": {},
   "source": [
    "## Evaluate the Model\n",
    "Once you are completely satisfied with your model, evaluate the performance of the model on the test set.\n",
    "\n",
    "Be sure to only do this once!\n",
    "\n",
    "If you were to measure the performance of your trained model on the test set, then improve your model, and then measure the performance of your model on the test set again, that would invalidate your test results. You wouldn't get a true measure of how well your model would perform against real data.\n",
    "\n",
    "You do not need to modify this section."
   ]
  },
  {
   "cell_type": "code",
   "execution_count": 14,
   "metadata": {
    "collapsed": false
   },
   "outputs": [
    {
     "name": "stdout",
     "output_type": "stream",
     "text": [
      "Test Accuracy = 0.852\n"
     ]
    }
   ],
   "source": [
    "with tf.Session() as sess:\n",
    "    saver.restore(sess, tf.train.latest_checkpoint('.'))\n",
    "\n",
    "    test_accuracy = evaluate(X_test, y_test)\n",
    "    print(\"Test Accuracy = {:.3f}\".format(test_accuracy))"
   ]
  },
  {
   "cell_type": "code",
   "execution_count": null,
   "metadata": {
    "collapsed": true
   },
   "outputs": [],
   "source": []
  }
 ],
 "metadata": {
  "anaconda-cloud": {},
  "kernelspec": {
   "display_name": "Python [conda env:CarND-LeNet-Lab]",
   "language": "python",
   "name": "conda-env-CarND-LeNet-Lab-py"
  },
  "language_info": {
   "codemirror_mode": {
    "name": "ipython",
    "version": 3
   },
   "file_extension": ".py",
   "mimetype": "text/x-python",
   "name": "python",
   "nbconvert_exporter": "python",
   "pygments_lexer": "ipython3",
   "version": "3.5.2"
  }
 },
 "nbformat": 4,
 "nbformat_minor": 0
}
