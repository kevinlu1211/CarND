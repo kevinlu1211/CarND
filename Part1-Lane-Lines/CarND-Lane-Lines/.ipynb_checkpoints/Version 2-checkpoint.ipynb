{
 "cells": [
  {
   "cell_type": "markdown",
   "metadata": {},
   "source": [
    "# **Finding Lane Lines on the Road** \n",
    "***\n",
    "In this project, you will use the tools you learned about in the lesson to identify lane lines on the road.  You can develop your pipeline on a series of individual images, and later apply the result to a video stream (really just a series of images). Check out the video clip \"raw-lines-example.mp4\" (also contained in this repository) to see what the output should look like after using the helper functions below. \n",
    "\n",
    "Once you have a result that looks roughly like \"raw-lines-example.mp4\", you'll need to get creative and try to average and/or extrapolate the line segments you've detected to map out the full extent of the lane lines.  You can see an example of the result you're going for in the video \"P1_example.mp4\".  Ultimately, you would like to draw just one line for the left side of the lane, and one for the right.\n",
    "\n",
    "---\n",
    "Let's have a look at our first image called 'test_images/solidWhiteRight.jpg'.  Run the 2 cells below (hit Shift-Enter or the \"play\" button above) to display the image.\n",
    "\n",
    "**Note** If, at any point, you encounter frozen display windows or other confounding issues, you can always start again with a clean slate by going to the \"Kernel\" menu above and selecting \"Restart & Clear Output\".\n",
    "\n",
    "---"
   ]
  },
  {
   "cell_type": "markdown",
   "metadata": {},
   "source": [
    "**The tools you have are color selection, region of interest selection, grayscaling, Gaussian smoothing, Canny Edge Detection and Hough Transform line detection.  You  are also free to explore and try other techniques that were not presented in the lesson.  Your goal is piece together a pipeline to detect the line segments in the image, then average/extrapolate them and draw them onto the image for display (as below).  Once you have a working pipeline, try it out on the video stream below.**\n",
    "\n",
    "---\n",
    "\n",
    "<figure>\n",
    " <img src=\"line-segments-example.jpg\" width=\"380\" alt=\"Combined Image\" />\n",
    " <figcaption>\n",
    " <p></p> \n",
    " <p style=\"text-align: center;\"> Your output should look something like this (above) after detecting line segments using the helper functions below </p> \n",
    " </figcaption>\n",
    "</figure>\n",
    " <p></p> \n",
    "<figure>\n",
    " <img src=\"laneLines_thirdPass.jpg\" width=\"380\" alt=\"Combined Image\" />\n",
    " <figcaption>\n",
    " <p></p> \n",
    " <p style=\"text-align: center;\"> Your goal is to connect/average/extrapolate line segments to get output like this</p> \n",
    " </figcaption>\n",
    "</figure>"
   ]
  },
  {
   "cell_type": "code",
   "execution_count": 127,
   "metadata": {
    "collapsed": false
   },
   "outputs": [],
   "source": [
    "#importing some useful packages\n",
    "import matplotlib.pyplot as plt\n",
    "import matplotlib.image as mpimg\n",
    "import numpy as np\n",
    "import cv2\n",
    "import pandas as pd\n",
    "%matplotlib inline"
   ]
  },
  {
   "cell_type": "code",
   "execution_count": 128,
   "metadata": {
    "collapsed": false
   },
   "outputs": [
    {
     "name": "stdout",
     "output_type": "stream",
     "text": [
      "3.5.2 |Continuum Analytics, Inc.| (default, Jul  2 2016, 17:52:12) \n",
      "[GCC 4.2.1 Compatible Apple LLVM 4.2 (clang-425.0.28)]\n"
     ]
    }
   ],
   "source": [
    "import sys\n",
    "print (sys.version)"
   ]
  },
  {
   "cell_type": "markdown",
   "metadata": {},
   "source": [
    "**Some OpenCV functions (beyond those introduced in the lesson) that might be useful for this project are:**\n",
    "\n",
    "`cv2.inRange()` for color selection  \n",
    "`cv2.fillPoly()` for regions selection  \n",
    "`cv2.line()` to draw lines on an image given endpoints  \n",
    "`cv2.addWeighted()` to coadd / overlay two images\n",
    "`cv2.cvtColor()` to grayscale or change color\n",
    "`cv2.imwrite()` to output images to file  \n",
    "`cv2.bitwise_and()` to apply a mask to an image\n",
    "\n",
    "**Check out the OpenCV documentation to learn about these and discover even more awesome functionality!**"
   ]
  },
  {
   "cell_type": "markdown",
   "metadata": {},
   "source": [
    "Below are some helper functions to help get you started. They should look familiar from the lesson!"
   ]
  },
  {
   "cell_type": "code",
   "execution_count": 129,
   "metadata": {
    "collapsed": true
   },
   "outputs": [],
   "source": [
    "import math\n",
    "\n",
    "def grayscale(img):\n",
    "    \"\"\"Applies the Grayscale transform\n",
    "    This will return an image with only one color channel\n",
    "    but NOTE: to see the returned image as grayscale\n",
    "    you should call plt.imshow(gray, cmap='gray')\"\"\"\n",
    "    return cv2.cvtColor(img, cv2.COLOR_RGB2GRAY)\n",
    "    # Or use BGR2GRAY if you read an image with cv2.imread()\n",
    "    # return cv2.cvtColor(img, cv2.COLOR_BGR2GRAY)\n",
    "    \n",
    "def canny(img, low_threshold, high_threshold):\n",
    "    \"\"\"Applies the Canny transform\"\"\"\n",
    "    return cv2.Canny(img, low_threshold, high_threshold)\n",
    "\n",
    "def gaussian_blur(img, kernel_size):\n",
    "    \"\"\"Applies a Gaussian Noise kernel\"\"\"\n",
    "    return cv2.GaussianBlur(img, (kernel_size, kernel_size), 0)\n",
    "\n",
    "def region_of_interest(img, vertices):\n",
    "    \"\"\"\n",
    "    Applies an image mask.\n",
    "    \n",
    "    Only keeps the region of the image defined by the polygon\n",
    "    formed from `vertices`. The rest of the image is set to black.\n",
    "    \"\"\"\n",
    "    #defining a blank mask to start with\n",
    "    mask = np.zeros_like(img)   \n",
    "    \n",
    "    #defining a 3 channel or 1 channel color to fill the mask with depending on the input image\n",
    "    if len(img.shape) > 2:\n",
    "        channel_count = img.shape[2]  # i.e. 3 or 4 depending on your image\n",
    "        ignore_mask_color = (255,) * channel_count\n",
    "    else:\n",
    "        ignore_mask_color = 255\n",
    "        \n",
    "    #filling pixels inside the polygon defined by \"vertices\" with the fill color    \n",
    "    cv2.fillPoly(mask, vertices, ignore_mask_color)\n",
    "    \n",
    "    #returning the image only where mask pixels are nonzero\n",
    "    masked_image = cv2.bitwise_and(img, mask)\n",
    "    return masked_image\n",
    "\n",
    "\n",
    "def draw_lines(img, lines, color=[255, 0, 0], thickness=2):\n",
    "    \"\"\"\n",
    "    NOTE: this is the function you might want to use as a starting point once you want to \n",
    "    average/extrapolate the line segments you detect to map out the full\n",
    "    extent of the lane (going from the result shown in raw-lines-example.mp4\n",
    "    to that shown in P1_example.mp4).  \n",
    "    \n",
    "    Think about things like separating line segments by their \n",
    "    slope ((y2-y1)/(x2-x1)) to decide which segments are part of the left\n",
    "    line vs. the right line.  Then, you can average the position of each of \n",
    "    the lines and extrapolate to the top and bottom of the lane.\n",
    "    \n",
    "    This function draws `lines` with `color` and `thickness`.    \n",
    "    Lines are drawn on the image inplace (mutates the image).\n",
    "    If you want to make the lines semi-transparent, think about combining\n",
    "    this function with the weighted_img() function below\n",
    "    \"\"\"\n",
    "    for line in lines:\n",
    "        for x1,y1,x2,y2 in line:\n",
    "            cv2.line(img, (x1, y1), (x2, y2), color, thickness)\n",
    "\n",
    "def hough_lines(img, rho, theta, threshold, min_line_len, max_line_gap):\n",
    "    \"\"\"\n",
    "    `img` should be the output of a Canny transform.\n",
    "        \n",
    "    Returns an image with hough lines drawn.\n",
    "    \"\"\"\n",
    "    lines = cv2.HoughLinesP(img, rho, theta, threshold, np.array([]), minLineLength=min_line_len, maxLineGap=max_line_gap)\n",
    "    line_img = np.zeros((img.shape[0], img.shape[1], 3), dtype=np.uint8)\n",
    "    draw_lines(line_img, lines)\n",
    "    return line_img\n",
    "\n",
    "# Python 3 has support for cool math symbols.\n",
    "\n",
    "def weighted_img(img, initial_img, α=0.8, β=1., λ=0.):\n",
    "    \"\"\"\n",
    "    `img` is the output of the hough_lines(), An image with lines drawn on it.\n",
    "    Should be a blank image (all black) with lines drawn on it.\n",
    "    \n",
    "    `initial_img` should be the image before any processing.\n",
    "    \n",
    "    The result image is computed as follows:\n",
    "    \n",
    "    initial_img * α + img * β + λ\n",
    "    NOTE: initial_img and img must be the same shape!\n",
    "    \"\"\"\n",
    "    return cv2.addWeighted(initial_img, α, img, β, λ)"
   ]
  },
  {
   "cell_type": "markdown",
   "metadata": {},
   "source": [
    "## Test on Images\n",
    "\n",
    "Now you should build your pipeline to work on the images in the directory \"test_images\"  \n",
    "**You should make sure your pipeline works well on these images before you try the videos.**"
   ]
  },
  {
   "cell_type": "code",
   "execution_count": 130,
   "metadata": {
    "collapsed": false
   },
   "outputs": [
    {
     "name": "stdout",
     "output_type": "stream",
     "text": [
      "['.DS_Store', 'solidWhiteCurve.jpg', 'solidWhiteCurveWithLines.jpg', 'solidWhiteRight.jpg', 'solidWhiteRightWithLines.jpg', 'solidYellowCurve.jpg', 'solidYellowCurve2.jpg', 'solidYellowCurve2WithLines.jpg', 'solidYellowCurveWithLines.jpg', 'solidYellowLeft.jpg', 'solidYellowLeftWithLines.jpg', 'whiteCarLaneSwitch.jpg', 'whiteCarLaneSwitchWithLines.jpg']\n"
     ]
    }
   ],
   "source": [
    "import os\n",
    "image_names = os.listdir(\"test_images/\")\n",
    "print(image_names)"
   ]
  },
  {
   "cell_type": "code",
   "execution_count": 131,
   "metadata": {
    "collapsed": false
   },
   "outputs": [
    {
     "name": "stdout",
     "output_type": "stream",
     "text": [
      "solidYellowCurve2\n"
     ]
    }
   ],
   "source": [
    "image_name = image_names[6].split(\".\")[0]\n",
    "print(image_name)"
   ]
  },
  {
   "cell_type": "markdown",
   "metadata": {},
   "source": [
    "run your solution on all test_images and make copies into the test_images directory."
   ]
  },
  {
   "cell_type": "code",
   "execution_count": 132,
   "metadata": {
    "collapsed": false
   },
   "outputs": [
    {
     "name": "stdout",
     "output_type": "stream",
     "text": [
      "This image is: <class 'numpy.ndarray'> with dimensions: (540, 960, 3)\n"
     ]
    },
    {
     "data": {
      "text/plain": [
       "<matplotlib.image.AxesImage at 0x1200b7a58>"
      ]
     },
     "execution_count": 132,
     "metadata": {},
     "output_type": "execute_result"
    },
    {
     "data": {
      "image/png": "[encoded data removed]",
      "text/plain": [
       "<matplotlib.figure.Figure at 0x11f4b5f28>"
      ]
     },
     "metadata": {},
     "output_type": "display_data"
    }
   ],
   "source": [
    "#reading in an image\n",
    "image = mpimg.imread('test_images/'+image_name+'.jpg')\n",
    "#printing out some stats and plotting\n",
    "print('This image is:', type(image), 'with dimensions:', image.shape)\n",
    "plt.imshow(image)  #call as plt.imshow(gray, cmap='gray') to show a grayscaled image"
   ]
  },
  {
   "cell_type": "code",
   "execution_count": 133,
   "metadata": {
    "collapsed": false
   },
   "outputs": [
    {
     "data": {
      "text/plain": [
       "<matplotlib.image.AxesImage at 0x11f88a470>"
      ]
     },
     "execution_count": 133,
     "metadata": {},
     "output_type": "execute_result"
    },
    {
     "data": {
      "image/png": "[encoded data removed]",
      "text/plain": [
       "<matplotlib.figure.Figure at 0x11f7aa4e0>"
      ]
     },
     "metadata": {},
     "output_type": "display_data"
    }
   ],
   "source": [
    "# Now start line detection and extrapolation\n",
    "\n",
    "# First transform the image into a grayscale image\n",
    "gray = grayscale(image)\n",
    "plt.imshow(gray, cmap='gray')"
   ]
  },
  {
   "cell_type": "code",
   "execution_count": 134,
   "metadata": {
    "collapsed": false
   },
   "outputs": [
    {
     "data": {
      "text/plain": [
       "<matplotlib.image.AxesImage at 0x11d8e12e8>"
      ]
     },
     "execution_count": 134,
     "metadata": {},
     "output_type": "execute_result"
    },
    {
     "data": {
      "image/png": "[encoded data removed]",
      "text/plain": [
       "<matplotlib.figure.Figure at 0x11e057ba8>"
      ]
     },
     "metadata": {},
     "output_type": "display_data"
    }
   ],
   "source": [
    "# Now apply Gaussian smoothing filter\n",
    "kernel_size = 5 \n",
    "blur_gray = gaussian_blur(gray, kernel_size)\n",
    "plt.imshow(blur_gray, cmap='gray')"
   ]
  },
  {
   "cell_type": "code",
   "execution_count": 135,
   "metadata": {
    "collapsed": false
   },
   "outputs": [
    {
     "data": {
      "text/plain": [
       "<matplotlib.image.AxesImage at 0x12042d400>"
      ]
     },
     "execution_count": 135,
     "metadata": {},
     "output_type": "execute_result"
    },
    {
     "data": {
      "image/png": "[encoded data removed]",
      "text/plain": [
       "<matplotlib.figure.Figure at 0x11ccba860>"
      ]
     },
     "metadata": {},
     "output_type": "display_data"
    }
   ],
   "source": [
    "# Now use the Canny algorithm to detect the edges\n",
    "# Note here that the higher the threshold used, the more the most obvious edges are detected\n",
    "low_threshold = 50\n",
    "high_threshold = 150\n",
    "edges = canny(blur_gray, low_threshold, high_threshold)\n",
    "plt.imshow(edges, cmap='Greys_r')"
   ]
  },
  {
   "cell_type": "code",
   "execution_count": 136,
   "metadata": {
    "collapsed": false
   },
   "outputs": [
    {
     "data": {
      "text/plain": [
       "<matplotlib.image.AxesImage at 0x120451940>"
      ]
     },
     "execution_count": 136,
     "metadata": {},
     "output_type": "execute_result"
    },
    {
     "data": {
      "image/png": "[encoded data removed]",
      "text/plain": [
       "<matplotlib.figure.Figure at 0x11e3369b0>"
      ]
     },
     "metadata": {},
     "output_type": "display_data"
    }
   ],
   "source": [
    "# Now lets include a region of interest\n",
    "imshape = image.shape\n",
    "y_cutoff = 315\n",
    "vertices = np.array([[(150, imshape[0]),(465, y_cutoff), (535,y_cutoff), (850, imshape[0])]],dtype=np.int32)\n",
    "trunc_edge = region_of_interest(edges, vertices)\n",
    "plt.imshow(trunc_edge, cmap = 'gray')"
   ]
  },
  {
   "cell_type": "code",
   "execution_count": 137,
   "metadata": {
    "collapsed": false
   },
   "outputs": [
    {
     "data": {
      "text/plain": [
       "<matplotlib.image.AxesImage at 0x1153c2da0>"
      ]
     },
     "execution_count": 137,
     "metadata": {},
     "output_type": "execute_result"
    },
    {
     "data": {
      "image/png": "[encoded data removed]",
      "text/plain": [
       "<matplotlib.figure.Figure at 0x11d91fe10>"
      ]
     },
     "metadata": {},
     "output_type": "display_data"
    }
   ],
   "source": [
    "# Now apply the Hough Transform!\n",
    "\n",
    "# First define how big each square in the grid is to be\n",
    "rho = 5\n",
    "theta = np.pi/90\n",
    "\n",
    "# Now specify the number of intersections needed in a square grid a candidate lines needs to have, \n",
    "# Remember here that the candidate lines (a number of points, where each point is mapped to a line in (m, b) space)\n",
    "# are first transformed into a (m, b) space, and then represented by polar coordinates (rho, theta) \n",
    "# where rho is the distance from the origin a point on a line in (m, b) space and theta is the angle the line make\n",
    "# with the x axis\n",
    "threshold = 50 \n",
    "\n",
    "# Now specify the minimum length that a line has to have,and the maximum gap\n",
    "min_line_length = 75 \n",
    "max_line_gap = 25 \n",
    "\n",
    "\n",
    "# Apply Hough Transform\n",
    "lines = hough_lines(trunc_edge, rho, theta, threshold, min_line_length, max_line_gap)\n",
    "plt.imshow(lines)"
   ]
  },
  {
   "cell_type": "code",
   "execution_count": 138,
   "metadata": {
    "collapsed": false
   },
   "outputs": [
    {
     "data": {
      "text/plain": [
       "array([[[390, 373, 465, 315]],\n",
       "\n",
       "       [[179, 538, 255, 479]],\n",
       "\n",
       "       [[700, 445, 844, 535]],\n",
       "\n",
       "       [[360, 394, 460, 322]],\n",
       "\n",
       "       [[355, 403, 476, 315]],\n",
       "\n",
       "       [[485, 315, 591, 376]],\n",
       "\n",
       "       [[237, 481, 365, 389]],\n",
       "\n",
       "       [[496, 319, 591, 374]],\n",
       "\n",
       "       [[510, 328, 587, 376]],\n",
       "\n",
       "       [[700, 446, 790, 502]],\n",
       "\n",
       "       [[307, 432, 460, 321]],\n",
       "\n",
       "       [[504, 325, 591, 375]],\n",
       "\n",
       "       [[701, 447, 781, 497]],\n",
       "\n",
       "       [[381, 383, 460, 325]]], dtype=int32)"
      ]
     },
     "execution_count": 138,
     "metadata": {},
     "output_type": "execute_result"
    }
   ],
   "source": [
    "# But to get a better idea of the output of cv2.HoughLinesP, do it myself\n",
    "lines = cv2.HoughLinesP(trunc_edge, rho, theta, threshold, np.array([]),minLineLength=min_line_length, maxLineGap=max_line_gap)\n",
    "\n",
    "# See that we get 4-tuple which specifies the starting and ending points of the lines\n",
    "# (x_0, y_0, x_1, y_1)\n",
    "lines"
   ]
  },
  {
   "cell_type": "code",
   "execution_count": 139,
   "metadata": {
    "collapsed": false
   },
   "outputs": [
    {
     "data": {
      "text/plain": [
       "<matplotlib.image.AxesImage at 0x10a600d30>"
      ]
     },
     "execution_count": 139,
     "metadata": {},
     "output_type": "execute_result"
    },
    {
     "data": {
      "image/png": "[encoded data removed]",
      "text/plain": [
       "<matplotlib.figure.Figure at 0x11ebc97f0>"
      ]
     },
     "metadata": {},
     "output_type": "display_data"
    }
   ],
   "source": [
    "# Create a blank to draw lines on\n",
    "line_img = np.copy(image)*0\n",
    "for line in lines:\n",
    "    for x1,y1,x2,y2 in line:\n",
    "        cv2.line(line_img, (x1,y1), (x2,y2), color=[255,0,0], thickness = 2)\n",
    "        \n",
    "# Now see that we get the same result good!\n",
    "plt.imshow(line_img)"
   ]
  },
  {
   "cell_type": "code",
   "execution_count": 140,
   "metadata": {
    "collapsed": false
   },
   "outputs": [
    {
     "data": {
      "text/html": [
       "<div>\n",
       "<table border=\"1\" class=\"dataframe\">\n",
       "  <thead>\n",
       "    <tr style=\"text-align: right;\">\n",
       "      <th></th>\n",
       "      <th>x_0</th>\n",
       "      <th>y_0</th>\n",
       "      <th>x_1</th>\n",
       "      <th>y_1</th>\n",
       "    </tr>\n",
       "  </thead>\n",
       "  <tbody>\n",
       "    <tr>\n",
       "      <th>0</th>\n",
       "      <td>390.0</td>\n",
       "      <td>373.0</td>\n",
       "      <td>465.0</td>\n",
       "      <td>315.0</td>\n",
       "    </tr>\n",
       "    <tr>\n",
       "      <th>1</th>\n",
       "      <td>179.0</td>\n",
       "      <td>538.0</td>\n",
       "      <td>255.0</td>\n",
       "      <td>479.0</td>\n",
       "    </tr>\n",
       "    <tr>\n",
       "      <th>2</th>\n",
       "      <td>700.0</td>\n",
       "      <td>445.0</td>\n",
       "      <td>844.0</td>\n",
       "      <td>535.0</td>\n",
       "    </tr>\n",
       "    <tr>\n",
       "      <th>3</th>\n",
       "      <td>360.0</td>\n",
       "      <td>394.0</td>\n",
       "      <td>460.0</td>\n",
       "      <td>322.0</td>\n",
       "    </tr>\n",
       "    <tr>\n",
       "      <th>4</th>\n",
       "      <td>355.0</td>\n",
       "      <td>403.0</td>\n",
       "      <td>476.0</td>\n",
       "      <td>315.0</td>\n",
       "    </tr>\n",
       "    <tr>\n",
       "      <th>5</th>\n",
       "      <td>485.0</td>\n",
       "      <td>315.0</td>\n",
       "      <td>591.0</td>\n",
       "      <td>376.0</td>\n",
       "    </tr>\n",
       "    <tr>\n",
       "      <th>6</th>\n",
       "      <td>237.0</td>\n",
       "      <td>481.0</td>\n",
       "      <td>365.0</td>\n",
       "      <td>389.0</td>\n",
       "    </tr>\n",
       "    <tr>\n",
       "      <th>7</th>\n",
       "      <td>496.0</td>\n",
       "      <td>319.0</td>\n",
       "      <td>591.0</td>\n",
       "      <td>374.0</td>\n",
       "    </tr>\n",
       "    <tr>\n",
       "      <th>8</th>\n",
       "      <td>510.0</td>\n",
       "      <td>328.0</td>\n",
       "      <td>587.0</td>\n",
       "      <td>376.0</td>\n",
       "    </tr>\n",
       "    <tr>\n",
       "      <th>9</th>\n",
       "      <td>700.0</td>\n",
       "      <td>446.0</td>\n",
       "      <td>790.0</td>\n",
       "      <td>502.0</td>\n",
       "    </tr>\n",
       "    <tr>\n",
       "      <th>10</th>\n",
       "      <td>307.0</td>\n",
       "      <td>432.0</td>\n",
       "      <td>460.0</td>\n",
       "      <td>321.0</td>\n",
       "    </tr>\n",
       "    <tr>\n",
       "      <th>11</th>\n",
       "      <td>504.0</td>\n",
       "      <td>325.0</td>\n",
       "      <td>591.0</td>\n",
       "      <td>375.0</td>\n",
       "    </tr>\n",
       "    <tr>\n",
       "      <th>12</th>\n",
       "      <td>701.0</td>\n",
       "      <td>447.0</td>\n",
       "      <td>781.0</td>\n",
       "      <td>497.0</td>\n",
       "    </tr>\n",
       "    <tr>\n",
       "      <th>13</th>\n",
       "      <td>381.0</td>\n",
       "      <td>383.0</td>\n",
       "      <td>460.0</td>\n",
       "      <td>325.0</td>\n",
       "    </tr>\n",
       "  </tbody>\n",
       "</table>\n",
       "</div>"
      ],
      "text/plain": [
       "      x_0    y_0    x_1    y_1\n",
       "0   390.0  373.0  465.0  315.0\n",
       "1   179.0  538.0  255.0  479.0\n",
       "2   700.0  445.0  844.0  535.0\n",
       "3   360.0  394.0  460.0  322.0\n",
       "4   355.0  403.0  476.0  315.0\n",
       "5   485.0  315.0  591.0  376.0\n",
       "6   237.0  481.0  365.0  389.0\n",
       "7   496.0  319.0  591.0  374.0\n",
       "8   510.0  328.0  587.0  376.0\n",
       "9   700.0  446.0  790.0  502.0\n",
       "10  307.0  432.0  460.0  321.0\n",
       "11  504.0  325.0  591.0  375.0\n",
       "12  701.0  447.0  781.0  497.0\n",
       "13  381.0  383.0  460.0  325.0"
      ]
     },
     "execution_count": 140,
     "metadata": {},
     "output_type": "execute_result"
    }
   ],
   "source": [
    "# Now we start the extrapolation\n",
    "\n",
    "# First create a data frame to store the lines\n",
    "lines_df = pd.DataFrame(columns=\"x_0 y_0 x_1 y_1\".split(\" \"))\n",
    "\n",
    "# As lines is a 3 dimensional array 8 x 1 x 4\n",
    "lines\n",
    "for i in range(lines.shape[0]):\n",
    "    lines_df.loc[i] = lines[i,0]\n",
    "lines_df"
   ]
  },
  {
   "cell_type": "code",
   "execution_count": 141,
   "metadata": {
    "collapsed": true
   },
   "outputs": [],
   "source": [
    "# pre-allocate empty slope, and distance column\n",
    "lines_df[\"slope\"] = np.nan\n",
    "lines_df[\"length\"] = np.nan\n",
    "lines_df[\"lane\"] = \"\""
   ]
  },
  {
   "cell_type": "code",
   "execution_count": 142,
   "metadata": {
    "collapsed": false
   },
   "outputs": [],
   "source": [
    "# define the slope function\n",
    "def slope(row):\n",
    "    return (row[\"y_1\"] - row[\"y_0\"])/(row[\"x_1\"] - row[\"x_0\"])\n",
    "\n",
    "def length(row):\n",
    "    y1y0_diff = row[\"y_1\"] - row[\"y_0\"]\n",
    "    x1x0_diff = row[\"x_1\"] - row[\"x_0\"]\n",
    "    return((y1y0_diff**2 + x1x0_diff)**0.5)\n",
    "# Can use a for loop\n",
    "# for i in range(lines_df.shape[0]):\n",
    "#     line_slope = slope(lines_df.loc[i])\n",
    "#     lines_df.loc[i,\"slope\"] = line_slope\n",
    "    \n",
    "# Or use lambda functions\n",
    "lines_df[\"slope\"] = lines_df.apply(slope, axis = 1)\n",
    "lines_df[\"length\"] = lines_df.apply(length, axis = 1)"
   ]
  },
  {
   "cell_type": "code",
   "execution_count": 143,
   "metadata": {
    "collapsed": false
   },
   "outputs": [
    {
     "data": {
      "text/html": [
       "<div>\n",
       "<table border=\"1\" class=\"dataframe\">\n",
       "  <thead>\n",
       "    <tr style=\"text-align: right;\">\n",
       "      <th></th>\n",
       "      <th>x_0</th>\n",
       "      <th>y_0</th>\n",
       "      <th>x_1</th>\n",
       "      <th>y_1</th>\n",
       "      <th>slope</th>\n",
       "      <th>length</th>\n",
       "      <th>lane</th>\n",
       "    </tr>\n",
       "  </thead>\n",
       "  <tbody>\n",
       "    <tr>\n",
       "      <th>0</th>\n",
       "      <td>390.0</td>\n",
       "      <td>373.0</td>\n",
       "      <td>465.0</td>\n",
       "      <td>315.0</td>\n",
       "      <td>-0.773333</td>\n",
       "      <td>58.642988</td>\n",
       "      <td>Left</td>\n",
       "    </tr>\n",
       "    <tr>\n",
       "      <th>1</th>\n",
       "      <td>179.0</td>\n",
       "      <td>538.0</td>\n",
       "      <td>255.0</td>\n",
       "      <td>479.0</td>\n",
       "      <td>-0.776316</td>\n",
       "      <td>59.640590</td>\n",
       "      <td>Left</td>\n",
       "    </tr>\n",
       "    <tr>\n",
       "      <th>2</th>\n",
       "      <td>700.0</td>\n",
       "      <td>445.0</td>\n",
       "      <td>844.0</td>\n",
       "      <td>535.0</td>\n",
       "      <td>0.625000</td>\n",
       "      <td>90.796476</td>\n",
       "      <td>Right</td>\n",
       "    </tr>\n",
       "    <tr>\n",
       "      <th>3</th>\n",
       "      <td>360.0</td>\n",
       "      <td>394.0</td>\n",
       "      <td>460.0</td>\n",
       "      <td>322.0</td>\n",
       "      <td>-0.720000</td>\n",
       "      <td>72.691127</td>\n",
       "      <td>Left</td>\n",
       "    </tr>\n",
       "    <tr>\n",
       "      <th>4</th>\n",
       "      <td>355.0</td>\n",
       "      <td>403.0</td>\n",
       "      <td>476.0</td>\n",
       "      <td>315.0</td>\n",
       "      <td>-0.727273</td>\n",
       "      <td>88.684835</td>\n",
       "      <td>Left</td>\n",
       "    </tr>\n",
       "    <tr>\n",
       "      <th>5</th>\n",
       "      <td>485.0</td>\n",
       "      <td>315.0</td>\n",
       "      <td>591.0</td>\n",
       "      <td>376.0</td>\n",
       "      <td>0.575472</td>\n",
       "      <td>61.862751</td>\n",
       "      <td>Right</td>\n",
       "    </tr>\n",
       "    <tr>\n",
       "      <th>6</th>\n",
       "      <td>237.0</td>\n",
       "      <td>481.0</td>\n",
       "      <td>365.0</td>\n",
       "      <td>389.0</td>\n",
       "      <td>-0.718750</td>\n",
       "      <td>92.693042</td>\n",
       "      <td>Left</td>\n",
       "    </tr>\n",
       "    <tr>\n",
       "      <th>7</th>\n",
       "      <td>496.0</td>\n",
       "      <td>319.0</td>\n",
       "      <td>591.0</td>\n",
       "      <td>374.0</td>\n",
       "      <td>0.578947</td>\n",
       "      <td>55.856960</td>\n",
       "      <td>Right</td>\n",
       "    </tr>\n",
       "    <tr>\n",
       "      <th>8</th>\n",
       "      <td>510.0</td>\n",
       "      <td>328.0</td>\n",
       "      <td>587.0</td>\n",
       "      <td>376.0</td>\n",
       "      <td>0.623377</td>\n",
       "      <td>48.795492</td>\n",
       "      <td>Right</td>\n",
       "    </tr>\n",
       "    <tr>\n",
       "      <th>9</th>\n",
       "      <td>700.0</td>\n",
       "      <td>446.0</td>\n",
       "      <td>790.0</td>\n",
       "      <td>502.0</td>\n",
       "      <td>0.622222</td>\n",
       "      <td>56.797887</td>\n",
       "      <td>Right</td>\n",
       "    </tr>\n",
       "    <tr>\n",
       "      <th>10</th>\n",
       "      <td>307.0</td>\n",
       "      <td>432.0</td>\n",
       "      <td>460.0</td>\n",
       "      <td>321.0</td>\n",
       "      <td>-0.725490</td>\n",
       "      <td>111.687063</td>\n",
       "      <td>Left</td>\n",
       "    </tr>\n",
       "    <tr>\n",
       "      <th>11</th>\n",
       "      <td>504.0</td>\n",
       "      <td>325.0</td>\n",
       "      <td>591.0</td>\n",
       "      <td>375.0</td>\n",
       "      <td>0.574713</td>\n",
       "      <td>50.862560</td>\n",
       "      <td>Right</td>\n",
       "    </tr>\n",
       "    <tr>\n",
       "      <th>12</th>\n",
       "      <td>701.0</td>\n",
       "      <td>447.0</td>\n",
       "      <td>781.0</td>\n",
       "      <td>497.0</td>\n",
       "      <td>0.625000</td>\n",
       "      <td>50.793700</td>\n",
       "      <td>Right</td>\n",
       "    </tr>\n",
       "    <tr>\n",
       "      <th>13</th>\n",
       "      <td>381.0</td>\n",
       "      <td>383.0</td>\n",
       "      <td>460.0</td>\n",
       "      <td>325.0</td>\n",
       "      <td>-0.734177</td>\n",
       "      <td>58.677082</td>\n",
       "      <td>Left</td>\n",
       "    </tr>\n",
       "  </tbody>\n",
       "</table>\n",
       "</div>"
      ],
      "text/plain": [
       "      x_0    y_0    x_1    y_1     slope      length   lane\n",
       "0   390.0  373.0  465.0  315.0 -0.773333   58.642988   Left\n",
       "1   179.0  538.0  255.0  479.0 -0.776316   59.640590   Left\n",
       "2   700.0  445.0  844.0  535.0  0.625000   90.796476  Right\n",
       "3   360.0  394.0  460.0  322.0 -0.720000   72.691127   Left\n",
       "4   355.0  403.0  476.0  315.0 -0.727273   88.684835   Left\n",
       "5   485.0  315.0  591.0  376.0  0.575472   61.862751  Right\n",
       "6   237.0  481.0  365.0  389.0 -0.718750   92.693042   Left\n",
       "7   496.0  319.0  591.0  374.0  0.578947   55.856960  Right\n",
       "8   510.0  328.0  587.0  376.0  0.623377   48.795492  Right\n",
       "9   700.0  446.0  790.0  502.0  0.622222   56.797887  Right\n",
       "10  307.0  432.0  460.0  321.0 -0.725490  111.687063   Left\n",
       "11  504.0  325.0  591.0  375.0  0.574713   50.862560  Right\n",
       "12  701.0  447.0  781.0  497.0  0.625000   50.793700  Right\n",
       "13  381.0  383.0  460.0  325.0 -0.734177   58.677082   Left"
      ]
     },
     "execution_count": 143,
     "metadata": {},
     "output_type": "execute_result"
    }
   ],
   "source": [
    "# Now determine whether this line is on the left lane or the right line, and create a weight\n",
    "# for each slope to be used later for extrapolation\n",
    "slope_avg = np.average(lines_df[\"slope\"])\n",
    "\n",
    "# Allocate empty columns \n",
    "for i in range(lines_df.shape[0]):\n",
    "    if lines_df.loc[i,\"slope\"] > 0:\n",
    "        lines_df.loc[i,\"lane\"] = \"Right\"\n",
    "    else:\n",
    "        lines_df.loc[i,\"lane\"] = \"Left\"\n",
    "lines_df"
   ]
  },
  {
   "cell_type": "code",
   "execution_count": 161,
   "metadata": {
    "collapsed": false
   },
   "outputs": [
    {
     "name": "stdout",
     "output_type": "stream",
     "text": [
      "      x_0    y_0    x_1    y_1     slope     length   lane\n",
      "5   485.0  315.0  591.0  376.0  0.575472  61.862751  Right\n",
      "7   496.0  319.0  591.0  374.0  0.578947  55.856960  Right\n",
      "11  504.0  325.0  591.0  375.0  0.574713  50.862560  Right\n",
      "8   510.0  328.0  587.0  376.0  0.623377  48.795492  Right\n",
      "2   700.0  445.0  844.0  535.0  0.625000  90.796476  Right\n",
      "9   700.0  446.0  790.0  502.0  0.622222  56.797887  Right\n",
      "12  701.0  447.0  781.0  497.0  0.625000  50.793700  Right\n",
      "[ 485.  701.]\n",
      "[ 315.  447.]\n"
     ]
    }
   ],
   "source": [
    "# Get the most left and most right point of the in the data set\n",
    "left_lane = lines_df[lines_df.lane == \"Left\"].sort_values(by=\"x_0\")\n",
    "left_lane_most_left = left_lane.head(1)[[\"x_0\", \"y_0\"]].values.reshape(2)\n",
    "left_lane_most_right = left_lane.tail(1)[[\"x_0\", \"y_0\"]].values.reshape(2)\n",
    "left_lane_x = np.column_stack((left_lane_most_left, left_lane_most_right))[0]\n",
    "left_lane_y = np.column_stack((left_lane_most_left, left_lane_most_right))[1]\n",
    "\n",
    "right_lane = lines_df[lines_df.lane == \"Right\"].sort_values(by=\"x_0\")\n",
    "right_lane_most_left = right_lane.head(1)[[\"x_0\", \"y_0\"]].values.reshape(2)\n",
    "right_lane_most_right = right_lane.tail(1)[[\"x_0\", \"y_0\"]].values.reshape(2)\n",
    "right_lane_x = np.column_stack((right_lane_most_left, right_lane_most_right))[0]\n",
    "right_lane_y = np.column_stack((right_lane_most_left, right_lane_most_right))[1]\n",
    "\n",
    "print(right_lane.sort_values(by=\"x_0\"))\n",
    "print(right_lane_x)\n",
    "print(right_lane_y)"
   ]
  },
  {
   "cell_type": "code",
   "execution_count": 162,
   "metadata": {
    "collapsed": true
   },
   "outputs": [],
   "source": [
    "# Calculate slope and intercept for left and right lanes\n",
    "left_lane_fit = np.polyfit(left_lane_x, left_lane_y, 1)\n",
    "slope_left = left_lane_fit[0]\n",
    "intercept_left = left_lane_fit[1]\n"
   ]
  },
  {
   "cell_type": "code",
   "execution_count": 163,
   "metadata": {
    "collapsed": false
   },
   "outputs": [],
   "source": [
    "# Now the right hand line\n",
    "right_lane_fit = np.polyfit(right_lane_x, right_lane_y, 1)\n",
    "slope_right = right_lane_fit[0]\n",
    "intercept_right = right_lane_fit[1]"
   ]
  },
  {
   "cell_type": "code",
   "execution_count": 164,
   "metadata": {
    "collapsed": false
   },
   "outputs": [
    {
     "name": "stdout",
     "output_type": "stream",
     "text": [
      "-0.781990521327\n",
      "677.976303318\n",
      "0.611111111111\n",
      "18.6111111111\n"
     ]
    }
   ],
   "source": [
    "print(slope_left)\n",
    "print(intercept_left)\n",
    "\n",
    "print(slope_right)\n",
    "print(intercept_right)"
   ]
  },
  {
   "cell_type": "code",
   "execution_count": 165,
   "metadata": {
    "collapsed": false
   },
   "outputs": [
    {
     "name": "stdout",
     "output_type": "stream",
     "text": [
      "540\n",
      "176.442424242\n",
      "315\n",
      "464.16969697\n",
      "[[176, 540, 464, 315]]\n"
     ]
    }
   ],
   "source": [
    "# To find the extrapolated lines:\n",
    "# image.shape[1] = slope_left * x_left + intercept_left\n",
    "y_left_start = image.shape[0]\n",
    "x_left_start = (y_left_start - intercept_left)/slope_left\n",
    "print(y_left_start)\n",
    "print(x_left_start)\n",
    "\n",
    "# y_cutoff = slope_left * x_left + intercept_left\n",
    "y_left_end = y_cutoff\n",
    "x_left_end = (y_left_end - intercept_left)/slope_left\n",
    "print(y_left_end)\n",
    "print(x_left_end)\n",
    "\n",
    "left_line = [[int(i) for i in [x_left_start, y_left_start, x_left_end, y_left_end]]]\n",
    "print(left_line)"
   ]
  },
  {
   "cell_type": "code",
   "execution_count": 166,
   "metadata": {
    "collapsed": false
   },
   "outputs": [
    {
     "name": "stdout",
     "output_type": "stream",
     "text": [
      "540\n",
      "853.181818182\n",
      "315\n",
      "485.0\n",
      "[[853, 540, 484, 315]]\n"
     ]
    }
   ],
   "source": [
    "# To find the extrapolated lines:\n",
    "# image.shape[1] = slope_right * x_right + intercept_right\n",
    "y_right_start = image.shape[0]\n",
    "x_right_start = (y_right_start - intercept_right)/slope_right\n",
    "print(y_right_start)\n",
    "print(x_right_start)\n",
    "y_right_end = y_cutoff \n",
    "x_right_end = (y_right_end - intercept_right)/slope_right\n",
    "print(y_right_end)\n",
    "print(x_right_end)\n",
    "\n",
    "right_line = [[int(i) for i in [x_right_start, y_right_start, x_right_end, y_right_end]]]\n",
    "\n",
    "print(right_line)"
   ]
  },
  {
   "cell_type": "code",
   "execution_count": 167,
   "metadata": {
    "collapsed": false,
    "scrolled": true
   },
   "outputs": [
    {
     "data": {
      "image/png": "[encoded data removed]",
      "text/plain": [
       "<matplotlib.figure.Figure at 0x119e56320>"
      ]
     },
     "metadata": {},
     "output_type": "display_data"
    }
   ],
   "source": [
    "# Now draw the lines on the original image\n",
    "final_lines = [left_line, right_line]\n",
    "\n",
    "# Create an empty image\n",
    "final_lines_img = np.zeros((image.shape[0], image.shape[1], 3), dtype=np.uint8)\n",
    "draw_lines(final_lines_img, final_lines, thickness = 5)\n",
    "plt.imshow(final_lines_img)\n",
    "\n",
    "final_image = weighted_img(final_lines_img, image)\n",
    "plt.imshow(final_image)\n",
    "# finally save the image\n",
    "plt.savefig('test_images/' + image_name + 'WithLines.jpg')"
   ]
  },
  {
   "cell_type": "markdown",
   "metadata": {},
   "source": [
    "## Test on Videos\n",
    "\n",
    "You know what's cooler than drawing lanes over images? Drawing lanes over video!\n",
    "\n",
    "We can test our solution on two provided videos:\n",
    "\n",
    "`solidWhiteRight.mp4`\n",
    "\n",
    "`solidYellowLeft.mp4`"
   ]
  },
  {
   "cell_type": "code",
   "execution_count": 169,
   "metadata": {
    "collapsed": false
   },
   "outputs": [],
   "source": [
    "# Import everything needed to edit/save/watch video clips\n",
    "from moviepy.editor import VideoFileClip\n",
    "from IPython.display import HTML"
   ]
  },
  {
   "cell_type": "code",
   "execution_count": null,
   "metadata": {
    "collapsed": false
   },
   "outputs": [],
   "source": [
    "def process_image(image):\n",
    "    # NOTE: The output you return should be a color image (3 channel) for processing video below\n",
    "    # TODO: put your pipeline here,\n",
    "    # you should return the final output (image with lines are drawn on lanes)\n",
    "    \n",
    "\n",
    "    # Now start line detection and extrapolation\n",
    "\n",
    "    # First transform the image into a grayscale image\n",
    "    gray = grayscale(image)\n",
    "    plt.imshow(gray, cmap='gray')\n",
    "\n",
    "\n",
    "    # In[460]:\n",
    "\n",
    "    # Now apply Gaussian smoothing filter\n",
    "    kernel_size = 5 \n",
    "    blur_gray = gaussian_blur(gray, kernel_size)\n",
    "    plt.imshow(blur_gray, cmap='gray')\n",
    "\n",
    "\n",
    "    # In[461]:\n",
    "\n",
    "    # Now use the Canny algorithm to detect the edges\n",
    "    # Note here that the higher the threshold used, the more the most obvious edges are detected\n",
    "    low_threshold = 50\n",
    "    high_threshold = 150\n",
    "    edges = canny(blur_gray, low_threshold, high_threshold)\n",
    "    plt.imshow(edges, cmap='Greys_r')\n",
    "\n",
    "\n",
    "    # In[462]:\n",
    "\n",
    "    # Now lets include a region of interest\n",
    "    imshape = image.shape\n",
    "    y_cutoff = 310 \n",
    "    vertices = np.array([[(150, imshape[0]),(465, y_cutoff), (535,y_cutoff), (850, imshape[0])]],dtype=np.int32)\n",
    "    trunc_edge = region_of_interest(edges, vertices)\n",
    "    plt.imshow(trunc_edge, cmap = 'gray')\n",
    "\n",
    "\n",
    "    # In[463]:\n",
    "\n",
    "    # First define how big each square in the grid is to be\n",
    "    rho = 1 \n",
    "    theta = np.pi/180\n",
    "\n",
    "    # Now specify the number of intersections needed in a square grid a candidate lines needs to have, \n",
    "    # Remember here that the candidate lines (a number of points, where each point is mapped to a line in (m, b) space)\n",
    "    # are first transformed into a (m, b) space, and then represented by polar coordinates (rho, theta) \n",
    "    # where rho is the distance from the origin a point on a line in (m, b) space and theta is the angle the line make\n",
    "    # with the x axis\n",
    "    threshold = 50 \n",
    "\n",
    "    # Now specify the minimum length that a line has to have,and the maximum gap\n",
    "    min_line_length = 50\n",
    "    max_line_gap = 25\n",
    "\n",
    "    # Apply Hough Transform\n",
    "    lines = hough_lines(trunc_edge, rho, theta, threshold, min_line_length, max_line_gap)\n",
    "    plt.imshow(lines)\n",
    "\n",
    "\n",
    "    # In[464]:\n",
    "\n",
    "    # But to get a better idea of the output of cv2.HoughLinesP, do it myself\n",
    "    lines = cv2.HoughLinesP(trunc_edge, rho, theta, threshold, np.array([]),minLineLength=min_line_length, maxLineGap=max_line_gap)\n",
    "\n",
    "    # See that we get 4-tuple which specifies the starting and ending points of the lines\n",
    "    # (x_0, y_0, x_1, y_1)\n",
    "    lines\n",
    "\n",
    "\n",
    "    # In[465]:\n",
    "\n",
    "    # Create a blank to draw lines on\n",
    "    line_img = np.copy(image)*0\n",
    "    for line in lines:\n",
    "        for x1,y1,x2,y2 in line:\n",
    "            cv2.line(line_img, (x1,y1), (x2,y2), color=[255,0,0], thickness = 2)\n",
    "\n",
    "    # Now see that we get the same result good!\n",
    "    plt.imshow(line_img)\n",
    "\n",
    "\n",
    "    # In[466]:\n",
    "\n",
    "    # Now we start the extrapolation\n",
    "\n",
    "    # First create a data frame to store the lines\n",
    "    lines_df = pd.DataFrame(columns=\"x_0 y_0 x_1 y_1\".split(\" \"))\n",
    "\n",
    "    # As lines is a 3 dimensional array 8 x 1 x 4\n",
    "    for i in range(lines.shape[0]):\n",
    "        lines_df.loc[i] = lines[i,0]\n",
    "\n",
    "\n",
    "    # In[467]:\n",
    "\n",
    "    # pre-allocate empty slope, and distance column\n",
    "    lines_df[\"slope\"] = np.nan\n",
    "    lines_df[\"length\"] = np.nan\n",
    "    lines_df[\"lane\"] = \"\"\n",
    "\n",
    " \n",
    "\n",
    "    # Or use lambda functions\n",
    "    lines_df[\"slope\"] = lines_df.apply(slope, axis = 1)\n",
    "    lines_df[\"length\"] = lines_df.apply(length, axis = 1)\n",
    "\n",
    "\n",
    "    # In[469]:\n",
    "\n",
    "    # Now determine whether this line is on the left lane or the right line, and create a weight\n",
    "    # for each slope to be used later for extrapolation\n",
    "    slope_avg = np.average(lines_df[\"slope\"])\n",
    "\n",
    "    # Allocate empty columns \n",
    "    for i in range(lines_df.shape[0]):\n",
    "        if lines_df.loc[i,\"slope\"] > 0:\n",
    "            lines_df.loc[i,\"lane\"] = \"Right\"\n",
    "        else:\n",
    "            lines_df.loc[i,\"lane\"] = \"Left\"\n",
    "    lines_df\n",
    "\n",
    "\n",
    "    # In[470]:\n",
    "\n",
    "    # Get the most left and most right point of the in the data set\n",
    "    left_lane = lines_df[lines_df.lane == \"Left\"].sort_values(by=\"x_0\")\n",
    "    left_lane_most_left = left_lane.head(1)[[\"x_0\", \"y_0\"]].values.reshape(2)\n",
    "    left_lane_most_right = left_lane.tail(1)[[\"x_1\", \"y_1\"]].values.reshape(2)\n",
    "    left_lane_x = np.column_stack((left_lane_most_left, left_lane_most_right))[0]\n",
    "    left_lane_y = np.column_stack((left_lane_most_left, left_lane_most_right))[1]\n",
    "\n",
    "    right_lane = lines_df[lines_df.lane == \"Right\"].sort_values(by=\"x_0\")\n",
    "    right_lane_most_left = right_lane.head(1)[[\"x_0\", \"y_0\"]].values.reshape(2)\n",
    "    right_lane_most_right = right_lane.tail(1)[[\"x_1\", \"y_1\"]].values.reshape(2)\n",
    "    right_lane_x = np.column_stack((right_lane_most_left, right_lane_most_right))[0]\n",
    "    right_lane_y = np.column_stack((right_lane_most_left, right_lane_most_right))[1]\n",
    "\n",
    "    \n",
    "    # In[472]:\n",
    "    \n",
    "    left_line = []\n",
    "    # # Now get the slopes for left hand line\n",
    "    if (len(left_lane_x) & len(left_lane_y)):\n",
    "        left_lane_fit = np.polyfit(left_lane_x, left_lane_y, 1)\n",
    "        slope_left = left_lane_fit[0]\n",
    "        intercept_left = left_lane_fit[1]\n",
    "        \n",
    "#         print(slope_left)\n",
    "#         print(intercept_left)\n",
    "        \n",
    "        # To find the extrapolated lines:\n",
    "    \n",
    "        # image.shape[1] = slope_left * x_left + intercept_left\n",
    "        y_left_start = image.shape[0]\n",
    "        x_left_start = (y_left_start - intercept_left)/slope_left\n",
    "\n",
    "        # y_cutoff = slope_left * x_left + intercept_left\n",
    "        y_left_end = y_cutoff\n",
    "        x_left_end = (y_left_end - intercept_left)/slope_left\n",
    "        \n",
    "#         print(y_left_start)\n",
    "#         print(x_left_start)\n",
    "\n",
    "#         # y_cutoff = slope_left * x_left + intercept_left\n",
    "#         print(y_left_end)\n",
    "#         print(x_left_end)\n",
    "        \n",
    "        left_line = [[int(i) for i in [x_left_start, y_left_start, x_left_end, y_left_end]]]\n",
    "    else:\n",
    "        plt.imshow(trunc_edge, cmap = \"gray\")\n",
    "        return\n",
    "\n",
    "    # In[473]:\n",
    "    \n",
    "    right_line = []\n",
    "    # Now the right hand line\n",
    "    if (len(right_lane_x) & len(right_lane_y)):\n",
    "        right_lane_fit = np.polyfit(right_lane_x, right_lane_y, 1)\n",
    "        slope_right = right_lane_fit[0]\n",
    "        intercept_right = right_lane_fit[1]\n",
    "    \n",
    "        # To find the extrapolated lines:\n",
    "        # image.shape[1] = slope_right * x_right + intercept_right\n",
    "        y_right_start = image.shape[0]\n",
    "        x_right_start = (y_right_start - intercept_right)/slope_right\n",
    "\n",
    "        y_right_end = y_cutoff \n",
    "        x_right_end = (y_right_end - intercept_right)/slope_right\n",
    "\n",
    "        right_line = [[int(i) for i in [x_right_start, y_right_start, x_right_end, y_right_end]]]\n",
    "\n",
    "\n",
    "   \n",
    "\n",
    "\n",
    "\n",
    "\n",
    "\n",
    "    # In[477]:\n",
    "\n",
    "    # Now draw the lines on the original image\n",
    "    final_lines = [left_line, right_line]\n",
    "    print(final_lines)\n",
    "    # Create an empty image\n",
    "    final_lines_img = np.zeros((image.shape[0], image.shape[1], 3), dtype=np.uint8)\n",
    "    draw_lines(final_lines_img, final_lines, thickness = 5)\n",
    "\n",
    "    result = weighted_img(final_lines_img, image)\n",
    "\n",
    "    return result"
   ]
  },
  {
   "cell_type": "markdown",
   "metadata": {},
   "source": [
    "Let's try the one with the solid white lane on the right first ..."
   ]
  },
  {
   "cell_type": "code",
   "execution_count": null,
   "metadata": {
    "collapsed": false
   },
   "outputs": [
    {
     "name": "stdout",
     "output_type": "stream",
     "text": [
      "-0.716738197425\n",
      "646.266094421\n",
      "540\n",
      "148.263473054\n",
      "310\n",
      "469.161676647\n",
      "[[[148, 540, 469, 310]], [[849, 540, 486, 310]]]\n",
      "[MoviePy] >>>> Building video white.mp4\n",
      "[MoviePy] Writing video white.mp4\n"
     ]
    },
    {
     "name": "stderr",
     "output_type": "stream",
     "text": [
      "\n",
      "\n",
      "\n",
      "\n",
      "\n",
      "\n",
      "\n",
      "\n",
      "  0%|          | 0/222 [00:00<?, ?it/s]\u001b[A\u001b[A\u001b[A\u001b[A\u001b[A\u001b[A\u001b[A\u001b[A\n",
      "\n",
      "\n",
      "\n",
      "\n",
      "\n",
      "\n",
      "\n",
      "  0%|          | 1/222 [00:00<00:56,  3.93it/s]"
     ]
    },
    {
     "name": "stdout",
     "output_type": "stream",
     "text": [
      "-0.716738197425\n",
      "646.266094421\n",
      "540\n",
      "148.263473054\n",
      "310\n",
      "469.161676647\n",
      "[[[148, 540, 469, 310]], [[849, 540, 486, 310]]]\n"
     ]
    },
    {
     "name": "stderr",
     "output_type": "stream",
     "text": [
      "\u001b[A\u001b[A\u001b[A\u001b[A\u001b[A\u001b[A\u001b[A\u001b[A\n",
      "\n",
      "\n",
      "\n",
      "\n",
      "\n",
      "\n",
      "\n",
      "  1%|          | 2/222 [00:00<00:58,  3.77it/s]"
     ]
    },
    {
     "name": "stdout",
     "output_type": "stream",
     "text": [
      "-0.602666666667\n",
      "630.002666667\n",
      "540\n",
      "149.340707965\n",
      "310\n",
      "530.977876106\n",
      "[[[149, 540, 530, 310]], [[851, 540, 469, 310]]]\n",
      "-0.707547169811"
     ]
    },
    {
     "name": "stderr",
     "output_type": "stream",
     "text": [
      "\u001b[A\u001b[A\u001b[A\u001b[A\u001b[A\u001b[A\u001b[A\u001b[A\n",
      "\n",
      "\n",
      "\n",
      "\n",
      "\n",
      "\n",
      "\n",
      "  1%|▏         | 3/222 [00:00<00:53,  4.10it/s]\u001b[A\u001b[A\u001b[A\u001b[A\u001b[A\u001b[A\u001b[A\u001b[A"
     ]
    },
    {
     "name": "stdout",
     "output_type": "stream",
     "text": [
      "\n",
      "645.839622642\n",
      "540\n",
      "149.586666667\n",
      "310\n",
      "474.653333333\n",
      "[[[149, 540, 474, 310]], [[847, 540, 485, 310]]]\n",
      "-0.749140893471\n",
      "664.604810997\n",
      "540\n",
      "166.330275229\n",
      "310\n",
      "473.348623853\n",
      "[[[166, 540, 473, 310]], [[851, 540, 481, 310]]]\n"
     ]
    },
    {
     "name": "stderr",
     "output_type": "stream",
     "text": [
      "\n",
      "\n",
      "\n",
      "\n",
      "\n",
      "\n",
      "\n",
      "\n",
      "  2%|▏         | 4/222 [00:00<00:49,  4.37it/s]\u001b[A\u001b[A\u001b[A\u001b[A\u001b[A\u001b[A\u001b[A\u001b[A\n",
      "\n",
      "\n",
      "\n",
      "\n",
      "\n",
      "\n",
      "\n",
      "  2%|▏         | 5/222 [00:01<00:56,  3.84it/s]"
     ]
    },
    {
     "name": "stdout",
     "output_type": "stream",
     "text": [
      "-0.678260869565\n",
      "633.173913043\n",
      "540\n",
      "137.371794872\n",
      "310\n",
      "476.474358974\n",
      "[[[137, 540, 476, 310]], [[851, 540, 468, 310]]]\n"
     ]
    },
    {
     "name": "stderr",
     "output_type": "stream",
     "text": [
      "\u001b[A\u001b[A\u001b[A\u001b[A\u001b[A\u001b[A\u001b[A\u001b[A\n",
      "\n",
      "\n",
      "\n",
      "\n",
      "\n",
      "\n",
      "\n",
      "  3%|▎         | 6/222 [00:01<00:55,  3.87it/s]"
     ]
    },
    {
     "name": "stdout",
     "output_type": "stream",
     "text": [
      "-0.704761904762\n",
      "642.371428571\n",
      "540\n",
      "145.256756757\n",
      "310\n",
      "471.608108108\n",
      "[[[145, 540, 471, 310]], [[873, 540, 486, 310]]]\n"
     ]
    },
    {
     "name": "stderr",
     "output_type": "stream",
     "text": [
      "\u001b[A\u001b[A\u001b[A\u001b[A\u001b[A\u001b[A\u001b[A\u001b[A\n",
      "\n",
      "\n",
      "\n",
      "\n",
      "\n",
      "\n",
      "\n",
      "  3%|▎         | 7/222 [00:01<01:00,  3.58it/s]"
     ]
    },
    {
     "name": "stdout",
     "output_type": "stream",
     "text": [
      "-0.715384615385\n",
      "645.515384615\n",
      "540\n",
      "147.494623656\n",
      "310\n",
      "469.0\n",
      "[[[147, 540, 469, 310]], [[849, 540, 486, 310]]]\n"
     ]
    },
    {
     "name": "stderr",
     "output_type": "stream",
     "text": [
      "\u001b[A\u001b[A\u001b[A\u001b[A\u001b[A\u001b[A\u001b[A\u001b[A\n",
      "\n",
      "\n",
      "\n",
      "\n",
      "\n",
      "\n",
      "\n",
      "  4%|▎         | 8/222 [00:02<01:01,  3.50it/s]"
     ]
    },
    {
     "name": "stdout",
     "output_type": "stream",
     "text": [
      "-0.713286713287\n",
      "649.097902098\n",
      "540\n",
      "152.950980392\n",
      "310\n",
      "475.401960784\n",
      "[[[152, 540, 475, 310]], [[874, 540, 486, 310]]]\n"
     ]
    },
    {
     "name": "stderr",
     "output_type": "stream",
     "text": [
      "\u001b[A\u001b[A\u001b[A\u001b[A\u001b[A\u001b[A\u001b[A\u001b[A\n",
      "\n",
      "\n",
      "\n",
      "\n",
      "\n",
      "\n",
      "\n",
      "  4%|▍         | 9/222 [00:02<00:55,  3.81it/s]"
     ]
    },
    {
     "name": "stdout",
     "output_type": "stream",
     "text": [
      "-0.696428571429\n",
      "640.714285714\n",
      "540\n",
      "144.615384615\n",
      "310\n",
      "474.871794872\n",
      "[[[144, 540, 474, 310]], [[849, 540, 487, 310]]]\n",
      "-0.68253968254\n",
      "636.253968254\n",
      "540\n",
      "141.023255814\n",
      "310\n",
      "478.0\n",
      "[[[141, 540, 477, 310]], [[870, 540, 481, 310]]]\n"
     ]
    },
    {
     "name": "stderr",
     "output_type": "stream",
     "text": [
      "\u001b[A\u001b[A\u001b[A\u001b[A\u001b[A\u001b[A\u001b[A\u001b[A\n",
      "\n",
      "\n",
      "\n",
      "\n",
      "\n",
      "\n",
      "\n",
      "  5%|▍         | 10/222 [00:02<00:52,  4.02it/s]\u001b[A\u001b[A\u001b[A\u001b[A\u001b[A\u001b[A\u001b[A\u001b[A\n",
      "\n",
      "\n",
      "\n",
      "\n",
      "\n",
      "\n",
      "\n",
      "  5%|▍         | 11/222 [00:02<00:53,  3.96it/s]"
     ]
    },
    {
     "name": "stdout",
     "output_type": "stream",
     "text": [
      "-0.666666666667\n",
      "629.666666667\n",
      "540\n",
      "134.5\n",
      "310\n",
      "479.5\n",
      "[[[134, 540, 479, 310]], [[840, 540, 475, 310]]]\n"
     ]
    },
    {
     "name": "stderr",
     "output_type": "stream",
     "text": [
      "\u001b[A\u001b[A\u001b[A\u001b[A\u001b[A\u001b[A\u001b[A\u001b[A\n",
      "\n",
      "\n",
      "\n",
      "\n",
      "\n",
      "\n",
      "\n",
      "  5%|▌         | 12/222 [00:03<00:54,  3.86it/s]"
     ]
    },
    {
     "name": "stdout",
     "output_type": "stream",
     "text": [
      "-0.597122302158\n",
      "618.532374101\n",
      "540\n",
      "131.518072289\n",
      "310\n",
      "516.698795181\n",
      "[[[131, 540, 516, 310]], [[839, 540, 462, 310]]]\n"
     ]
    },
    {
     "name": "stderr",
     "output_type": "stream",
     "text": [
      "\u001b[A\u001b[A\u001b[A\u001b[A\u001b[A\u001b[A\u001b[A\u001b[A\n",
      "\n",
      "\n",
      "\n",
      "\n",
      "\n",
      "\n",
      "\n",
      "  6%|▌         | 13/222 [00:03<00:53,  3.88it/s]"
     ]
    },
    {
     "name": "stdout",
     "output_type": "stream",
     "text": [
      "-0.586666666667\n",
      "617.893333333\n",
      "540\n",
      "132.772727273\n",
      "310\n",
      "524.818181818\n",
      "[[[132, 540, 524, 310]], [[836, 540, 469, 310]]]\n"
     ]
    },
    {
     "name": "stderr",
     "output_type": "stream",
     "text": [
      "\u001b[A\u001b[A\u001b[A\u001b[A\u001b[A\u001b[A\u001b[A\u001b[A\n",
      "\n",
      "\n",
      "\n",
      "\n",
      "\n",
      "\n",
      "\n",
      "  6%|▋         | 14/222 [00:03<00:53,  3.91it/s]"
     ]
    },
    {
     "name": "stdout",
     "output_type": "stream",
     "text": [
      "-0.628491620112\n",
      "640.444134078\n",
      "540\n",
      "159.817777778\n",
      "310\n",
      "525.773333333\n",
      "[[[159, 540, 525, 310]], [[834, 540, 483, 310]]]\n"
     ]
    },
    {
     "name": "stderr",
     "output_type": "stream",
     "text": [
      "\u001b[A\u001b[A\u001b[A\u001b[A\u001b[A\u001b[A\u001b[A\u001b[A\n",
      "\n",
      "\n",
      "\n",
      "\n",
      "\n",
      "\n",
      "\n",
      "  7%|▋         | 15/222 [00:03<00:51,  4.03it/s]\u001b[A\u001b[A\u001b[A\u001b[A\u001b[A\u001b[A\u001b[A\u001b[A\n",
      "\n",
      "\n",
      "\n",
      "\n",
      "\n",
      "\n",
      "\n",
      "  7%|▋         | 16/222 [00:04<00:46,  4.47it/s]"
     ]
    },
    {
     "name": "stdout",
     "output_type": "stream",
     "text": [
      "-0.730519480519\n",
      "655.613636364\n",
      "540\n",
      "158.262222222\n",
      "310\n",
      "473.106666667\n",
      "[[[158, 540, 473, 310]], [[838, 540, 486, 310]]]\n",
      "-0.683168316832\n",
      "632.772277228\n",
      "540\n",
      "135.797101449\n",
      "310\n",
      "472.463768116\n",
      "[[[135, 540, 472, 310]], [[836, 540, 489, 310]]]\n"
     ]
    },
    {
     "name": "stderr",
     "output_type": "stream",
     "text": [
      "\u001b[A\u001b[A\u001b[A\u001b[A\u001b[A\u001b[A\u001b[A\u001b[A\n",
      "\n",
      "\n",
      "\n",
      "\n",
      "\n",
      "\n",
      "\n",
      "  8%|▊         | 17/222 [00:04<00:41,  4.93it/s]\u001b[A\u001b[A\u001b[A\u001b[A\u001b[A\u001b[A\u001b[A\u001b[A\n",
      "\n",
      "\n",
      "\n",
      "\n",
      "\n",
      "\n",
      "\n",
      "  8%|▊         | 18/222 [00:04<00:38,  5.30it/s]"
     ]
    },
    {
     "name": "stdout",
     "output_type": "stream",
     "text": [
      "-0.728155339806\n",
      "648.59223301\n",
      "540\n",
      "149.133333333\n",
      "310\n",
      "465.0\n",
      "[[[149, 540, 464, 310]], [[838, 540, 497, 310]]]\n",
      "-0.744897959184\n",
      "658.673469388\n",
      "540\n",
      "159.315068493\n",
      "310\n",
      "468.082191781\n",
      "[[[159, 540, 468, 310]], [[837, 540, 495, 310]]]\n"
     ]
    },
    {
     "name": "stderr",
     "output_type": "stream",
     "text": [
      "\u001b[A\u001b[A\u001b[A\u001b[A\u001b[A\u001b[A\u001b[A\u001b[A\n",
      "\n",
      "\n",
      "\n",
      "\n",
      "\n",
      "\n",
      "\n",
      "  9%|▊         | 19/222 [00:04<00:36,  5.49it/s]\u001b[A\u001b[A\u001b[A\u001b[A\u001b[A\u001b[A\u001b[A\u001b[A\n",
      "\n",
      "\n",
      "\n",
      "\n",
      "\n",
      "\n",
      "\n",
      "  9%|▉         | 20/222 [00:04<00:35,  5.76it/s]"
     ]
    },
    {
     "name": "stdout",
     "output_type": "stream",
     "text": [
      "-0.747967479675\n",
      "660.048780488\n",
      "540\n",
      "160.5\n",
      "310\n",
      "468.0\n",
      "[[[160, 540, 468, 310]], [[838, 540, 486, 310]]]\n",
      "-0.708333333333\n",
      "642.916666667\n",
      "540\n",
      "145.294117647\n",
      "310\n",
      "470.0\n",
      "[[[145, 540, 469, 310]], [[834, 540, 483, 310]]]\n"
     ]
    },
    {
     "name": "stderr",
     "output_type": "stream",
     "text": [
      "\u001b[A\u001b[A\u001b[A\u001b[A\u001b[A\u001b[A\u001b[A\u001b[A\n",
      "\n",
      "\n",
      "\n",
      "\n",
      "\n",
      "\n",
      "\n",
      "  9%|▉         | 21/222 [00:04<00:37,  5.41it/s]"
     ]
    },
    {
     "name": "stdout",
     "output_type": "stream",
     "text": [
      "-0.677777777778\n",
      "634.3\n",
      "540\n",
      "139.131147541\n",
      "310\n",
      "478.475409836\n",
      "[[[139, 540, 478, 310]], [[835, 540, 483, 310]]]\n"
     ]
    },
    {
     "name": "stderr",
     "output_type": "stream",
     "text": [
      "\u001b[A\u001b[A\u001b[A\u001b[A\u001b[A\u001b[A\u001b[A\u001b[A\n",
      "\n",
      "\n",
      "\n",
      "\n",
      "\n",
      "\n",
      "\n",
      " 10%|▉         | 22/222 [00:05<00:43,  4.63it/s]"
     ]
    },
    {
     "name": "stdout",
     "output_type": "stream",
     "text": [
      "-0.705882352941\n",
      "643.0\n",
      "540\n",
      "145.916666667\n",
      "310\n",
      "471.75\n",
      "[[[145, 540, 471, 310]], [[836, 540, 480, 310]]]\n"
     ]
    },
    {
     "name": "stderr",
     "output_type": "stream",
     "text": [
      "\u001b[A\u001b[A\u001b[A\u001b[A\u001b[A\u001b[A\u001b[A\u001b[A\n",
      "\n",
      "\n",
      "\n",
      "\n",
      "\n",
      "\n",
      "\n",
      " 10%|█         | 23/222 [00:05<00:44,  4.52it/s]\u001b[A\u001b[A\u001b[A\u001b[A\u001b[A\u001b[A\u001b[A\u001b[A\n",
      "\n",
      "\n",
      "\n",
      "\n",
      "\n",
      "\n",
      "\n",
      " 11%|█         | 24/222 [00:05<00:40,  4.93it/s]"
     ]
    },
    {
     "name": "stdout",
     "output_type": "stream",
     "text": [
      "-0.742424242424\n",
      "659.681818182\n",
      "540\n",
      "161.204081633\n",
      "310\n",
      "471.0\n",
      "[[[161, 540, 471, 310]], [[836, 540, 485, 310]]]\n",
      "-0.745535714286\n",
      "660.165178571\n",
      "540\n",
      "161.179640719\n",
      "310\n",
      "469.682634731\n",
      "[[[161, 540, 469, 310]], [[836, 540, 467, 310]]]\n"
     ]
    },
    {
     "name": "stderr",
     "output_type": "stream",
     "text": [
      "\u001b[A\u001b[A\u001b[A\u001b[A\u001b[A\u001b[A\u001b[A\u001b[A\n",
      "\n",
      "\n",
      "\n",
      "\n",
      "\n",
      "\n",
      "\n",
      " 11%|█▏        | 25/222 [00:05<00:43,  4.52it/s]"
     ]
    },
    {
     "name": "stdout",
     "output_type": "stream",
     "text": [
      "-0.726277372263\n",
      "656.434306569\n",
      "540\n",
      "160.316582915\n",
      "310\n",
      "477.0\n",
      "[[[160, 540, 477, 310]], [[835, 540, 467, 310]]]\n",
      "-0.742671009772\n",
      "659.055374593\n",
      "540\n",
      "160.307017544\n",
      "310\n",
      "470.0\n",
      "[[[160, 540, 470, 310]], [[836, 540, 467, 310]]]\n"
     ]
    },
    {
     "name": "stderr",
     "output_type": "stream",
     "text": [
      "\u001b[A\u001b[A\u001b[A\u001b[A\u001b[A\u001b[A\u001b[A\u001b[A\n",
      "\n",
      "\n",
      "\n",
      "\n",
      "\n",
      "\n",
      "\n",
      " 12%|█▏        | 26/222 [00:05<00:40,  4.82it/s]\u001b[A\u001b[A\u001b[A\u001b[A\u001b[A\u001b[A\u001b[A\u001b[A\n",
      "\n",
      "\n",
      "\n",
      "\n",
      "\n",
      "\n",
      "\n",
      " 12%|█▏        | 27/222 [00:06<00:45,  4.27it/s]"
     ]
    },
    {
     "name": "stdout",
     "output_type": "stream",
     "text": [
      "-0.742671009772\n",
      "659.798045603\n",
      "540\n",
      "161.307017544\n",
      "310\n",
      "471.0\n",
      "[[[161, 540, 470, 310]], [[836, 540, 467, 310]]]\n"
     ]
    },
    {
     "name": "stderr",
     "output_type": "stream",
     "text": [
      "\u001b[A\u001b[A\u001b[A\u001b[A\u001b[A\u001b[A\u001b[A\u001b[A\n",
      "\n",
      "\n",
      "\n",
      "\n",
      "\n",
      "\n",
      "\n",
      " 13%|█▎        | 28/222 [00:06<00:46,  4.14it/s]"
     ]
    },
    {
     "name": "stdout",
     "output_type": "stream",
     "text": [
      "-0.747540983607\n",
      "661.344262295\n",
      "540\n",
      "162.324561404\n",
      "310\n",
      "470.0\n",
      "[[[162, 540, 470, 310]], [[838, 540, 467, 310]]]\n"
     ]
    },
    {
     "name": "stderr",
     "output_type": "stream",
     "text": [
      "\u001b[A\u001b[A\u001b[A\u001b[A\u001b[A\u001b[A\u001b[A\u001b[A\n",
      "\n",
      "\n",
      "\n",
      "\n",
      "\n",
      "\n",
      "\n",
      " 13%|█▎        | 29/222 [00:06<00:47,  4.05it/s]"
     ]
    },
    {
     "name": "stdout",
     "output_type": "stream",
     "text": [
      "-0.725806451613\n",
      "650.741935484\n",
      "540\n",
      "152.577777778\n",
      "310\n",
      "469.466666667\n",
      "[[[152, 540, 469, 310]], [[834, 540, 470, 310]]]\n"
     ]
    },
    {
     "name": "stderr",
     "output_type": "stream",
     "text": [
      "\u001b[A\u001b[A\u001b[A\u001b[A\u001b[A\u001b[A\u001b[A\u001b[A\n",
      "\n",
      "\n",
      "\n",
      "\n",
      "\n",
      "\n",
      "\n",
      " 14%|█▎        | 30/222 [00:07<00:48,  3.99it/s]"
     ]
    },
    {
     "name": "stdout",
     "output_type": "stream",
     "text": [
      "-0.709401709402\n",
      "642.709401709\n",
      "540\n",
      "144.78313253\n",
      "310\n",
      "469.0\n",
      "[[[144, 540, 469, 310]], [[838, 540, 488, 310]]]\n"
     ]
    },
    {
     "name": "stderr",
     "output_type": "stream",
     "text": [
      "\u001b[A\u001b[A\u001b[A\u001b[A\u001b[A\u001b[A\u001b[A\u001b[A\n",
      "\n",
      "\n",
      "\n",
      "\n",
      "\n",
      "\n",
      "\n",
      " 14%|█▍        | 31/222 [00:07<00:46,  4.10it/s]\u001b[A\u001b[A\u001b[A\u001b[A\u001b[A\u001b[A\u001b[A\u001b[A\n",
      "\n",
      "\n",
      "\n",
      "\n",
      "\n",
      "\n",
      "\n",
      " 14%|█▍        | 32/222 [00:07<00:41,  4.61it/s]"
     ]
    },
    {
     "name": "stdout",
     "output_type": "stream",
     "text": [
      "-0.478260869565\n",
      "563.086956522\n",
      "540\n",
      "48.2727272727\n",
      "310\n",
      "529.181818182\n",
      "[[[48, 540, 529, 310]], [[836, 540, 489, 310]]]\n",
      "-0.729927007299\n",
      "656.98540146\n",
      "540\n",
      "160.27\n",
      "310\n",
      "475.37\n",
      "[[[160, 540, 475, 310]], [[839, 540, 488, 310]]]\n"
     ]
    },
    {
     "name": "stderr",
     "output_type": "stream",
     "text": [
      "\u001b[A\u001b[A\u001b[A\u001b[A\u001b[A\u001b[A\u001b[A\u001b[A\n",
      "\n",
      "\n",
      "\n",
      "\n",
      "\n",
      "\n",
      "\n",
      " 15%|█▍        | 33/222 [00:07<00:38,  4.96it/s]\u001b[A\u001b[A\u001b[A\u001b[A\u001b[A\u001b[A\u001b[A\u001b[A"
     ]
    },
    {
     "name": "stdout",
     "output_type": "stream",
     "text": [
      "-0.691358024691\n",
      "637.555555556\n",
      "540\n",
      "141.107142857\n",
      "310\n",
      "473.785714286\n",
      "[[[141, 540, 473, 310]], [[839, 540, 489, 310]]]\n",
      "-0.727810650888\n",
      "655.343195266\n",
      "540\n",
      "158.479674797\n",
      "310\n",
      "474.495934959\n",
      "[[[158, 540, 474, 310]], [[840, 540, 488, 310]]]\n"
     ]
    },
    {
     "name": "stderr",
     "output_type": "stream",
     "text": [
      "\n",
      "\n",
      "\n",
      "\n",
      "\n",
      "\n",
      "\n",
      "\n",
      " 15%|█▌        | 34/222 [00:07<00:38,  4.88it/s]\u001b[A\u001b[A\u001b[A\u001b[A\u001b[A\u001b[A\u001b[A\u001b[A\n",
      "\n",
      "\n",
      "\n",
      "\n",
      "\n",
      "\n",
      "\n",
      " 16%|█▌        | 35/222 [00:08<00:39,  4.78it/s]"
     ]
    },
    {
     "name": "stdout",
     "output_type": "stream",
     "text": [
      "-0.695\n",
      "640.26\n",
      "540\n",
      "144.258992806\n",
      "310\n",
      "475.194244604\n",
      "[[[144, 540, 475, 310]], [[837, 540, 470, 310]]]\n",
      "-0.704081632653\n",
      "641.989795918\n",
      "540\n",
      "144.855072464\n",
      "310\n",
      "471.52173913\n",
      "[[[144, 540, 471, 310]], [[838, 540, 467, 310]]]\n"
     ]
    },
    {
     "name": "stderr",
     "output_type": "stream",
     "text": [
      "\u001b[A\u001b[A\u001b[A\u001b[A\u001b[A\u001b[A\u001b[A\u001b[A\n",
      "\n",
      "\n",
      "\n",
      "\n",
      "\n",
      "\n",
      "\n",
      " 16%|█▌        | 36/222 [00:08<00:37,  4.92it/s]\u001b[A\u001b[A\u001b[A\u001b[A\u001b[A\u001b[A\u001b[A\u001b[A\n",
      "\n",
      "\n",
      "\n",
      "\n",
      "\n",
      "\n",
      "\n",
      " 17%|█▋        | 37/222 [00:08<00:40,  4.54it/s]\u001b[A\u001b[A\u001b[A\u001b[A\u001b[A\u001b[A\u001b[A\u001b[A\n",
      "\n",
      "\n",
      "\n",
      "\n",
      "\n",
      "\n",
      "\n",
      " 17%|█▋        | 38/222 [00:08<00:36,  5.02it/s]"
     ]
    },
    {
     "name": "stdout",
     "output_type": "stream",
     "text": [
      "-0.762711864407\n",
      "667.949152542\n",
      "540\n",
      "167.755555556\n",
      "310\n",
      "469.311111111\n",
      "[[[167, 540, 469, 310]], [[836, 540, 485, 310]]]\n",
      "-0.626740947075\n",
      "642.038997214\n",
      "540\n",
      "162.808888889\n",
      "310\n",
      "529.786666667\n",
      "[[[162, 540, 529, 310]], [[836, 540, 466, 310]]]\n"
     ]
    },
    {
     "name": "stderr",
     "output_type": "stream",
     "text": [
      "\u001b[A\u001b[A\u001b[A\u001b[A\u001b[A\u001b[A\u001b[A\u001b[A\n",
      "\n",
      "\n",
      "\n",
      "\n",
      "\n",
      "\n",
      "\n",
      " 18%|█▊        | 39/222 [00:08<00:34,  5.33it/s]\u001b[A\u001b[A\u001b[A\u001b[A\u001b[A\u001b[A\u001b[A\u001b[A"
     ]
    },
    {
     "name": "stdout",
     "output_type": "stream",
     "text": [
      "-0.735785953177\n",
      "659.404682274\n",
      "540\n",
      "162.281818182\n",
      "310\n",
      "474.872727273\n",
      "[[[162, 540, 474, 310]], [[835, 540, 488, 310]]]\n",
      "-0.632311977716\n",
      "641.066852368\n",
      "540\n",
      "159.837004405\n",
      "310\n",
      "523.581497797\n",
      "[[[159, 540, 523, 310]], [[834, 540, 489, 310]]]\n"
     ]
    },
    {
     "name": "stderr",
     "output_type": "stream",
     "text": [
      "\n",
      "\n",
      "\n",
      "\n",
      "\n",
      "\n",
      "\n",
      "\n",
      " 18%|█▊        | 40/222 [00:08<00:34,  5.31it/s]\u001b[A\u001b[A\u001b[A\u001b[A\u001b[A\u001b[A\u001b[A\u001b[A\n",
      "\n",
      "\n",
      "\n",
      "\n",
      "\n",
      "\n",
      "\n",
      " 18%|█▊        | 41/222 [00:09<00:32,  5.62it/s]\u001b[A\u001b[A\u001b[A\u001b[A\u001b[A\u001b[A\u001b[A\u001b[A"
     ]
    },
    {
     "name": "stdout",
     "output_type": "stream",
     "text": [
      "-0.676470588235\n",
      "630.558823529\n",
      "540\n",
      "133.869565217\n",
      "310\n",
      "473.869565217\n",
      "[[[133, 540, 473, 310]], [[860, 540, 485, 310]]]\n"
     ]
    },
    {
     "name": "stderr",
     "output_type": "stream",
     "text": [
      "\n",
      "\n",
      "\n",
      "\n",
      "\n",
      "\n",
      "\n",
      "\n",
      "\r",
      " 19%|█▉        | 42/222 [00:09<00:34,  5.26it/s]"
     ]
    },
    {
     "name": "stdout",
     "output_type": "stream",
     "text": [
      "-0.715596330275\n",
      "645.321100917\n",
      "540\n",
      "147.179487179\n",
      "310\n",
      "468.58974359\n",
      "[[[147, 540, 468, 310]], [[835, 540, 490, 310]]]\n"
     ]
    },
    {
     "name": "stderr",
     "output_type": "stream",
     "text": [
      "\u001b[A\u001b[A\u001b[A\u001b[A\u001b[A\u001b[A\u001b[A\u001b[A\n",
      "\n",
      "\n",
      "\n",
      "\n",
      "\n",
      "\n",
      "\n",
      " 19%|█▉        | 43/222 [00:09<00:38,  4.69it/s]"
     ]
    },
    {
     "name": "stdout",
     "output_type": "stream",
     "text": [
      "-0.715447154472\n",
      "644.398373984\n",
      "540\n",
      "145.920454545\n",
      "310\n",
      "467.397727273\n",
      "[[[145, 540, 467, 310]], [[836, 540, 490, 310]]]\n",
      "-0.518518518519\n",
      "584.259259259\n",
      "540\n",
      "85.3571428571\n",
      "310\n",
      "528.928571429\n",
      "[[[85, 540, 528, 310]], [[833, 540, 488, 310]]]\n"
     ]
    },
    {
     "name": "stderr",
     "output_type": "stream",
     "text": [
      "\u001b[A\u001b[A\u001b[A\u001b[A\u001b[A\u001b[A\u001b[A\u001b[A\n",
      "\n",
      "\n",
      "\n",
      "\n",
      "\n",
      "\n",
      "\n",
      " 20%|█▉        | 44/222 [00:09<00:35,  5.08it/s]\u001b[A\u001b[A\u001b[A\u001b[A\u001b[A\u001b[A\u001b[A\u001b[A\n",
      "\n",
      "\n",
      "\n",
      "\n",
      "\n",
      "\n",
      "\n",
      " 20%|██        | 45/222 [00:09<00:33,  5.34it/s]\u001b[A\u001b[A\u001b[A\u001b[A\u001b[A\u001b[A\u001b[A\u001b[A\n",
      "\n",
      "\n",
      "\n",
      "\n",
      "\n",
      "\n",
      "\n",
      " 21%|██        | 46/222 [00:10<00:31,  5.57it/s]"
     ]
    },
    {
     "name": "stdout",
     "output_type": "stream",
     "text": [
      "-0.769230769231\n",
      "669.230769231\n",
      "540\n",
      "168.0\n",
      "310\n",
      "467.0\n",
      "[[[168, 540, 467, 310]], [[855, 540, 488, 310]]]\n",
      "-0.413793103448\n",
      "531.310344828\n",
      "540\n",
      "-21.0\n",
      "310\n",
      "534.833333333\n",
      "[[[-20, 540, 534, 310]], [[857, 540, 484, 310]]]\n"
     ]
    },
    {
     "name": "stderr",
     "output_type": "stream",
     "text": [
      "\u001b[A\u001b[A\u001b[A\u001b[A\u001b[A\u001b[A\u001b[A\u001b[A\n",
      "\n",
      "\n",
      "\n",
      "\n",
      "\n",
      "\n",
      "\n",
      " 21%|██        | 47/222 [00:10<00:36,  4.80it/s]"
     ]
    },
    {
     "name": "stdout",
     "output_type": "stream",
     "text": [
      "-0.75956284153\n",
      "663.43715847\n",
      "540\n",
      "162.510791367\n",
      "310\n",
      "465.316546763\n",
      "[[[162, 540, 465, 310]], [[855, 540, 489, 310]]]\n"
     ]
    },
    {
     "name": "stderr",
     "output_type": "stream",
     "text": [
      "\u001b[A\u001b[A\u001b[A\u001b[A\u001b[A\u001b[A\u001b[A\u001b[A\n",
      "\n",
      "\n",
      "\n",
      "\n",
      "\n",
      "\n",
      "\n",
      " 22%|██▏       | 48/222 [00:10<00:37,  4.66it/s]"
     ]
    },
    {
     "name": "stdout",
     "output_type": "stream",
     "text": [
      "-0.755319148936\n",
      "661.468085106\n",
      "540\n",
      "160.816901408\n",
      "310\n",
      "465.323943662\n",
      "[[[160, 540, 465, 310]], [[834, 540, 483, 310]]]\n"
     ]
    },
    {
     "name": "stderr",
     "output_type": "stream",
     "text": [
      "\u001b[A\u001b[A\u001b[A\u001b[A\u001b[A\u001b[A\u001b[A\u001b[A\n",
      "\n",
      "\n",
      "\n",
      "\n",
      "\n",
      "\n",
      "\n",
      " 22%|██▏       | 49/222 [00:10<00:40,  4.26it/s]"
     ]
    },
    {
     "name": "stdout",
     "output_type": "stream",
     "text": [
      "-0.606349206349\n",
      "628.726984127\n",
      "540\n",
      "146.329842932\n",
      "310\n",
      "525.64921466\n",
      "[[[146, 540, 525, 310]], [[855, 540, 488, 310]]]\n"
     ]
    },
    {
     "name": "stderr",
     "output_type": "stream",
     "text": [
      "\u001b[A\u001b[A\u001b[A\u001b[A\u001b[A\u001b[A\u001b[A\u001b[A\n",
      "\n",
      "\n",
      "\n",
      "\n",
      "\n",
      "\n",
      "\n",
      " 23%|██▎       | 50/222 [00:11<00:41,  4.19it/s]"
     ]
    },
    {
     "name": "stdout",
     "output_type": "stream",
     "text": [
      "-0.72347266881\n",
      "653.926045016\n",
      "540\n",
      "157.471111111\n",
      "310\n",
      "475.382222222\n",
      "[[[157, 540, 475, 310]], [[856, 540, 480, 310]]]\n"
     ]
    },
    {
     "name": "stderr",
     "output_type": "stream",
     "text": [
      "\u001b[A\u001b[A\u001b[A\u001b[A\u001b[A\u001b[A\u001b[A\u001b[A\n",
      "\n",
      "\n",
      "\n",
      "\n",
      "\n",
      "\n",
      "\n",
      " 23%|██▎       | 51/222 [00:11<00:43,  3.95it/s]"
     ]
    },
    {
     "name": "stdout",
     "output_type": "stream",
     "text": [
      "-0.635854341737\n",
      "639.37254902\n",
      "540\n",
      "156.281938326\n",
      "310\n",
      "518.0\n",
      "[[[156, 540, 517, 310]], [[834, 540, 488, 310]]]\n",
      "-0.733788395904\n",
      "653.938566553\n",
      "540\n",
      "155.274418605\n",
      "310\n",
      "468.71627907\n",
      "[[[155, 540, 468, 310]], [[834, 540, 494, 310]]]\n"
     ]
    },
    {
     "name": "stderr",
     "output_type": "stream",
     "text": [
      "\u001b[A\u001b[A\u001b[A\u001b[A\u001b[A\u001b[A\u001b[A\u001b[A\n",
      "\n",
      "\n",
      "\n",
      "\n",
      "\n",
      "\n",
      "\n",
      " 23%|██▎       | 52/222 [00:11<00:39,  4.25it/s]\u001b[A\u001b[A\u001b[A\u001b[A\u001b[A\u001b[A\u001b[A\u001b[A\n",
      "\n",
      "\n",
      "\n",
      "\n",
      "\n",
      "\n",
      "\n",
      " 24%|██▍       | 53/222 [00:11<00:41,  4.10it/s]"
     ]
    },
    {
     "name": "stdout",
     "output_type": "stream",
     "text": [
      "-0.46875\n",
      "556.15625\n",
      "540\n",
      "34.4666666667\n",
      "310\n",
      "525.133333333\n",
      "[[[34, 540, 525, 310]], [[832, 540, 483, 310]]]\n"
     ]
    },
    {
     "name": "stderr",
     "output_type": "stream",
     "text": [
      "\u001b[A\u001b[A\u001b[A\u001b[A\u001b[A\u001b[A\u001b[A\u001b[A\n",
      "\n",
      "\n",
      "\n",
      "\n",
      "\n",
      "\u001b[A\u001b[A\u001b[A\u001b[A\u001b[A\u001b[A\n",
      "\n",
      "\n",
      "\n",
      "\n",
      "\n",
      "\n",
      "\n",
      " 24%|██▍       | 54/222 [00:12<01:01,  2.72it/s]"
     ]
    },
    {
     "name": "stdout",
     "output_type": "stream",
     "text": [
      "-0.683333333333\n",
      "634.216666667\n",
      "540\n",
      "137.87804878\n",
      "310\n",
      "474.463414634\n",
      "[[[137, 540, 474, 310]], [[859, 540, 487, 310]]]\n"
     ]
    },
    {
     "name": "stderr",
     "output_type": "stream",
     "text": [
      "\u001b[A\u001b[A\u001b[A\u001b[A\u001b[A\u001b[A\u001b[A\u001b[A\n",
      "\n",
      "\n",
      "\n",
      "\n",
      "\n",
      "\n",
      "\n",
      " 25%|██▍       | 55/222 [00:12<00:55,  3.01it/s]"
     ]
    },
    {
     "name": "stdout",
     "output_type": "stream",
     "text": [
      "-0.705426356589\n",
      "642.255813953\n",
      "540\n",
      "144.956043956\n",
      "310\n",
      "471.0\n",
      "[[[144, 540, 470, 310]], [[834, 540, 491, 310]]]\n"
     ]
    },
    {
     "name": "stderr",
     "output_type": "stream",
     "text": [
      "\u001b[A\u001b[A\u001b[A\u001b[A\u001b[A\u001b[A\u001b[A\u001b[A\n",
      "\n",
      "\n",
      "\n",
      "\n",
      "\n",
      "\n",
      "\n",
      " 25%|██▌       | 56/222 [00:13<00:52,  3.18it/s]\u001b[A\u001b[A\u001b[A\u001b[A\u001b[A\u001b[A\u001b[A\u001b[A\n",
      "\n",
      "\n",
      "\n",
      "\n",
      "\n",
      "\n",
      "\n",
      " 26%|██▌       | 57/222 [00:13<00:43,  3.79it/s]"
     ]
    },
    {
     "name": "stdout",
     "output_type": "stream",
     "text": [
      "-0.705263157895\n",
      "641.126315789\n",
      "540\n",
      "143.388059701\n",
      "310\n",
      "469.507462687\n",
      "[[[143, 540, 469, 310]], [[831, 540, 481, 310]]]\n",
      "-0.707317073171\n",
      "642.317073171\n",
      "540\n",
      "144.655172414\n",
      "310\n",
      "469.827586207\n",
      "[[[144, 540, 469, 310]], [[854, 540, 488, 310]]]\n"
     ]
    },
    {
     "name": "stderr",
     "output_type": "stream",
     "text": [
      "\u001b[A\u001b[A\u001b[A\u001b[A\u001b[A\u001b[A\u001b[A\u001b[A\n",
      "\n",
      "\n",
      "\n",
      "\n",
      "\n",
      "\n",
      "\n",
      " 26%|██▌       | 58/222 [00:13<00:49,  3.32it/s]"
     ]
    },
    {
     "name": "stdout",
     "output_type": "stream",
     "text": [
      "-0.546255506608\n",
      "597.50660793\n",
      "540\n",
      "105.274193548\n",
      "310\n",
      "526.322580645\n",
      "[[[105, 540, 526, 310]], [[831, 540, 482, 310]]]\n"
     ]
    },
    {
     "name": "stderr",
     "output_type": "stream",
     "text": [
      "\u001b[A\u001b[A\u001b[A\u001b[A\u001b[A\u001b[A\u001b[A\u001b[A\n",
      "\n",
      "\n",
      "\n",
      "\n",
      "\n",
      "\n",
      "\n",
      " 27%|██▋       | 59/222 [00:13<00:49,  3.29it/s]"
     ]
    },
    {
     "name": "stdout",
     "output_type": "stream",
     "text": [
      "-0.563492063492\n",
      "605.452380952\n",
      "540\n",
      "116.154929577\n",
      "310\n",
      "524.323943662\n",
      "[[[116, 540, 524, 310]], [[830, 540, 480, 310]]]\n"
     ]
    },
    {
     "name": "stderr",
     "output_type": "stream",
     "text": [
      "\u001b[A\u001b[A\u001b[A\u001b[A\u001b[A\u001b[A\u001b[A\u001b[A\n",
      "\n",
      "\n",
      "\n",
      "\n",
      "\n",
      "\n",
      "\n",
      " 27%|██▋       | 60/222 [00:14<00:46,  3.45it/s]"
     ]
    },
    {
     "name": "stdout",
     "output_type": "stream",
     "text": [
      "-0.699152542373\n",
      "641.699152542\n",
      "540\n",
      "145.460606061\n",
      "310\n",
      "474.43030303\n",
      "[[[145, 540, 474, 310]], [[830, 540, 477, 310]]]\n"
     ]
    },
    {
     "name": "stderr",
     "output_type": "stream",
     "text": [
      "\u001b[A\u001b[A\u001b[A\u001b[A\u001b[A\u001b[A\u001b[A\u001b[A\n",
      "\n",
      "\n",
      "\n",
      "\n",
      "\n",
      "\n",
      "\n",
      " 27%|██▋       | 61/222 [00:14<00:48,  3.29it/s]"
     ]
    },
    {
     "name": "stdout",
     "output_type": "stream",
     "text": [
      "-0.697508896797\n",
      "643.711743772\n",
      "540\n",
      "148.68877551\n",
      "310\n",
      "478.433673469\n",
      "[[[148, 540, 478, 310]], [[847, 540, 472, 310]]]\n"
     ]
    },
    {
     "name": "stderr",
     "output_type": "stream",
     "text": [
      "\u001b[A\u001b[A\u001b[A\u001b[A\u001b[A\u001b[A\u001b[A\u001b[A\n",
      "\n",
      "\n",
      "\n",
      "\n",
      "\n",
      "\n",
      "\n",
      " 28%|██▊       | 62/222 [00:14<00:47,  3.34it/s]"
     ]
    },
    {
     "name": "stdout",
     "output_type": "stream",
     "text": [
      "-0.708074534161\n",
      "645.919254658\n",
      "540\n",
      "149.587719298\n",
      "310\n",
      "474.412280702\n",
      "[[[149, 540, 474, 310]], [[826, 540, 478, 310]]]\n"
     ]
    },
    {
     "name": "stderr",
     "output_type": "stream",
     "text": [
      "\u001b[A\u001b[A\u001b[A\u001b[A\u001b[A\u001b[A\u001b[A\u001b[A\n",
      "\n",
      "\n",
      "\n",
      "\n",
      "\n",
      "\n",
      "\n",
      " 28%|██▊       | 63/222 [00:15<00:44,  3.57it/s]"
     ]
    },
    {
     "name": "stdout",
     "output_type": "stream",
     "text": [
      "-0.615803814714\n",
      "631.986376022\n",
      "540\n",
      "149.376106195\n",
      "310\n",
      "522.871681416\n",
      "[[[149, 540, 522, 310]], [[845, 540, 485, 310]]]\n"
     ]
    },
    {
     "name": "stderr",
     "output_type": "stream",
     "text": [
      "\u001b[A\u001b[A\u001b[A\u001b[A\u001b[A\u001b[A\u001b[A\u001b[A\n",
      "\n",
      "\n",
      "\n",
      "\n",
      "\n",
      "\n",
      "\n",
      " 29%|██▉       | 64/222 [00:15<00:43,  3.65it/s]"
     ]
    },
    {
     "name": "stdout",
     "output_type": "stream",
     "text": [
      "-0.700636942675\n",
      "644.796178344\n",
      "540\n",
      "149.572727273\n",
      "310\n",
      "477.845454545\n",
      "[[[149, 540, 477, 310]], [[846, 540, 472, 310]]]\n"
     ]
    },
    {
     "name": "stderr",
     "output_type": "stream",
     "text": [
      "\u001b[A\u001b[A\u001b[A\u001b[A\u001b[A\u001b[A\u001b[A\u001b[A\n",
      "\n",
      "\n",
      "\n",
      "\n",
      "\n",
      "\n",
      "\n",
      " 29%|██▉       | 65/222 [00:15<00:41,  3.76it/s]"
     ]
    },
    {
     "name": "stdout",
     "output_type": "stream",
     "text": [
      "-0.681415929204\n",
      "635.353982301\n",
      "540\n",
      "139.935064935\n",
      "310\n",
      "477.467532468\n",
      "[[[139, 540, 477, 310]], [[844, 540, 473, 310]]]\n"
     ]
    },
    {
     "name": "stderr",
     "output_type": "stream",
     "text": [
      "\u001b[A\u001b[A\u001b[A\u001b[A\u001b[A\u001b[A\u001b[A\u001b[A\n",
      "\n",
      "\n",
      "\n",
      "\n",
      "\n",
      "\n",
      "\n",
      " 30%|██▉       | 66/222 [00:15<00:43,  3.58it/s]"
     ]
    },
    {
     "name": "stdout",
     "output_type": "stream",
     "text": [
      "-0.710526315789\n",
      "644.105263158\n",
      "540\n",
      "146.518518519\n",
      "310\n",
      "470.222222222\n",
      "[[[146, 540, 470, 310]], [[846, 540, 483, 310]]]\n"
     ]
    },
    {
     "name": "stderr",
     "output_type": "stream",
     "text": [
      "\u001b[A\u001b[A\u001b[A\u001b[A\u001b[A\u001b[A\u001b[A\u001b[A\n",
      "\n",
      "\n",
      "\n",
      "\n",
      "\n",
      "\n",
      "\n",
      " 30%|███       | 67/222 [00:16<00:41,  3.76it/s]"
     ]
    },
    {
     "name": "stdout",
     "output_type": "stream",
     "text": [
      "-0.706349206349\n",
      "640.865079365\n",
      "540\n",
      "142.797752809\n",
      "310\n",
      "468.415730337\n",
      "[[[142, 540, 468, 310]], [[848, 540, 467, 310]]]\n"
     ]
    },
    {
     "name": "stderr",
     "output_type": "stream",
     "text": [
      "\u001b[A\u001b[A\u001b[A\u001b[A\u001b[A\u001b[A\u001b[A\u001b[A\n",
      "\n",
      "\n",
      "\n",
      "\n",
      "\n",
      "\n",
      "\n",
      " 31%|███       | 68/222 [00:16<00:40,  3.84it/s]"
     ]
    },
    {
     "name": "stdout",
     "output_type": "stream",
     "text": [
      "-0.68275862069\n",
      "633.627586207\n",
      "540\n",
      "137.131313131\n",
      "310\n",
      "474.0\n",
      "[[[137, 540, 474, 310]], [[847, 540, 484, 310]]]\n"
     ]
    },
    {
     "name": "stderr",
     "output_type": "stream",
     "text": [
      "\u001b[A\u001b[A\u001b[A\u001b[A\u001b[A\u001b[A\u001b[A\u001b[A\n",
      "\n",
      "\n",
      "\n",
      "\n",
      "\n",
      "\n",
      "\n",
      " 31%|███       | 69/222 [00:16<00:38,  3.99it/s]"
     ]
    },
    {
     "name": "stdout",
     "output_type": "stream",
     "text": [
      "-0.705882352941\n",
      "641.058823529\n",
      "540\n",
      "143.166666667\n",
      "310\n",
      "469.0\n",
      "[[[143, 540, 468, 310]], [[846, 540, 484, 310]]]\n"
     ]
    },
    {
     "name": "stderr",
     "output_type": "stream",
     "text": [
      "\u001b[A\u001b[A\u001b[A\u001b[A\u001b[A\u001b[A\u001b[A\u001b[A\n",
      "\n",
      "\n",
      "\n",
      "\n",
      "\n",
      "\n",
      "\n",
      " 32%|███▏      | 70/222 [00:16<00:37,  4.01it/s]"
     ]
    },
    {
     "name": "stdout",
     "output_type": "stream",
     "text": [
      "-0.709302325581\n",
      "642.953488372\n",
      "540\n",
      "145.147540984\n",
      "310\n",
      "469.409836066\n",
      "[[[145, 540, 469, 310]], [[847, 540, 483, 310]]]\n",
      "-0.41935483871\n",
      "534.0\n",
      "540\n",
      "-14.3076923077\n",
      "310\n",
      "534.153846154\n",
      "[[[-14, 540, 534, 310]], [[846, 540, 477, 310]]]\n"
     ]
    },
    {
     "name": "stderr",
     "output_type": "stream",
     "text": [
      "\u001b[A\u001b[A\u001b[A\u001b[A\u001b[A\u001b[A\u001b[A\u001b[A\n",
      "\n",
      "\n",
      "\n",
      "\n",
      "\n",
      "\n",
      "\n",
      " 32%|███▏      | 71/222 [00:16<00:35,  4.27it/s]\u001b[A\u001b[A\u001b[A\u001b[A\u001b[A\u001b[A\u001b[A\u001b[A\n",
      "\n",
      "\n",
      "\n",
      "\n",
      "\n",
      "\n",
      "\n",
      " 32%|███▏      | 72/222 [00:17<00:31,  4.71it/s]\u001b[A\u001b[A\u001b[A\u001b[A\u001b[A\u001b[A\u001b[A\u001b[A"
     ]
    },
    {
     "name": "stdout",
     "output_type": "stream",
     "text": [
      "-0.708737864078\n",
      "641.689320388\n",
      "540\n",
      "143.479452055\n",
      "310\n",
      "468.0\n",
      "[[[143, 540, 467, 310]], [[844, 540, 483, 310]]]\n"
     ]
    },
    {
     "name": "stderr",
     "output_type": "stream",
     "text": [
      "\n",
      "\n",
      "\n",
      "\n",
      "\n",
      "\n",
      "\n",
      "\n",
      "\r",
      " 33%|███▎      | 73/222 [00:17<00:34,  4.32it/s]"
     ]
    },
    {
     "name": "stdout",
     "output_type": "stream",
     "text": [
      "-0.715596330275\n",
      "645.183486239\n",
      "540\n",
      "146.987179487\n",
      "310\n",
      "468.397435897\n",
      "[[[146, 540, 468, 310]], [[823, 540, 472, 310]]]\n"
     ]
    },
    {
     "name": "stderr",
     "output_type": "stream",
     "text": [
      "\u001b[A\u001b[A\u001b[A\u001b[A\u001b[A\u001b[A\u001b[A\u001b[A\n",
      "\n",
      "\n",
      "\n",
      "\n",
      "\n",
      "\n",
      "\n",
      " 33%|███▎      | 74/222 [00:17<00:33,  4.42it/s]\u001b[A\u001b[A\u001b[A\u001b[A\u001b[A\u001b[A\u001b[A\u001b[A"
     ]
    },
    {
     "name": "stdout",
     "output_type": "stream",
     "text": [
      "-0.431654676259\n",
      "536.028776978\n",
      "540\n",
      "-9.2\n",
      "310\n",
      "523.633333333\n",
      "[[[-9, 540, 523, 310]], [[843, 540, 481, 310]]]\n",
      "-0.454545454545\n",
      "547.454545455\n",
      "540\n",
      "16.4\n",
      "310\n",
      "522.4\n",
      "[[[16, 540, 522, 310]], [[842, 540, 484, 310]]]\n"
     ]
    },
    {
     "name": "stderr",
     "output_type": "stream",
     "text": [
      "\n",
      "\n",
      "\n",
      "\n",
      "\n",
      "\n",
      "\n",
      "\n",
      " 34%|███▍      | 75/222 [00:17<00:31,  4.68it/s]\u001b[A\u001b[A\u001b[A\u001b[A\u001b[A\u001b[A\u001b[A\u001b[A\n",
      "\n",
      "\n",
      "\n",
      "\n",
      "\n",
      "\n",
      "\n",
      " 34%|███▍      | 76/222 [00:18<00:36,  4.05it/s]"
     ]
    },
    {
     "name": "stdout",
     "output_type": "stream",
     "text": [
      "-0.663551401869\n",
      "624.523364486\n",
      "540\n",
      "127.38028169\n",
      "310\n",
      "474.0\n",
      "[[[127, 540, 473, 310]], [[851, 540, 466, 310]]]\n"
     ]
    },
    {
     "name": "stderr",
     "output_type": "stream",
     "text": [
      "\u001b[A\u001b[A\u001b[A\u001b[A\u001b[A\u001b[A\u001b[A\u001b[A\n",
      "\n",
      "\n",
      "\n",
      "\n",
      "\n",
      "\n",
      "\n",
      " 35%|███▍      | 77/222 [00:18<00:38,  3.77it/s]"
     ]
    },
    {
     "name": "stdout",
     "output_type": "stream",
     "text": [
      "-0.703296703297\n",
      "639.296703297\n",
      "540\n",
      "141.1875\n",
      "310\n",
      "468.21875\n",
      "[[[141, 540, 468, 310]], [[843, 540, 467, 310]]]\n"
     ]
    },
    {
     "name": "stderr",
     "output_type": "stream",
     "text": [
      "\u001b[A\u001b[A\u001b[A\u001b[A\u001b[A\u001b[A\u001b[A\u001b[A\n",
      "\n",
      "\n",
      "\n",
      "\n",
      "\n",
      "\n",
      "\n",
      " 35%|███▌      | 78/222 [00:18<00:36,  3.89it/s]"
     ]
    },
    {
     "name": "stdout",
     "output_type": "stream",
     "text": [
      "-0.704081632653\n",
      "639.948979592\n",
      "540\n",
      "141.956521739\n",
      "310\n",
      "468.623188406\n",
      "[[[141, 540, 468, 310]], [[841, 540, 482, 310]]]\n",
      "-0.719626168224\n",
      "645.186915888\n",
      "540\n",
      "146.168831169\n",
      "310\n",
      "465.779220779\n",
      "[[[146, 540, 465, 310]], [[816, 540, 467, 310]]]\n"
     ]
    },
    {
     "name": "stderr",
     "output_type": "stream",
     "text": [
      "\u001b[A\u001b[A\u001b[A\u001b[A\u001b[A\u001b[A\u001b[A\u001b[A\n",
      "\n",
      "\n",
      "\n",
      "\n",
      "\n",
      "\n",
      "\n",
      " 36%|███▌      | 79/222 [00:18<00:33,  4.27it/s]\u001b[A\u001b[A\u001b[A\u001b[A\u001b[A\u001b[A\u001b[A\u001b[A\n",
      "\n",
      "\n",
      "\n",
      "\n",
      "\n",
      "\n",
      "\n",
      " 36%|███▌      | 80/222 [00:19<00:35,  3.96it/s]"
     ]
    },
    {
     "name": "stdout",
     "output_type": "stream",
     "text": [
      "-0.696078431373\n",
      "637.235294118\n",
      "540\n",
      "139.690140845\n",
      "310\n",
      "470.112676056\n",
      "[[[139, 540, 470, 310]], [[836, 540, 489, 310]]]\n"
     ]
    },
    {
     "name": "stderr",
     "output_type": "stream",
     "text": [
      "\u001b[A\u001b[A\u001b[A\u001b[A\u001b[A\u001b[A\u001b[A\u001b[A\n",
      "\n",
      "\n",
      "\n",
      "\n",
      "\n",
      "\n",
      "\n",
      " 36%|███▋      | 81/222 [00:19<00:37,  3.76it/s]"
     ]
    },
    {
     "name": "stdout",
     "output_type": "stream",
     "text": [
      "-0.666666666667\n",
      "625.0\n",
      "540\n",
      "127.5\n",
      "310\n",
      "472.5\n",
      "[[[127, 540, 472, 310]], [[838, 540, 472, 310]]]\n"
     ]
    },
    {
     "name": "stderr",
     "output_type": "stream",
     "text": [
      "\u001b[A\u001b[A\u001b[A\u001b[A\u001b[A\u001b[A\u001b[A\u001b[A\n",
      "\n",
      "\n",
      "\n",
      "\n",
      "\n",
      "\n",
      "\n",
      " 37%|███▋      | 82/222 [00:19<00:38,  3.59it/s]"
     ]
    },
    {
     "name": "stdout",
     "output_type": "stream",
     "text": [
      "-0.728395061728\n",
      "649.061728395\n",
      "540\n",
      "149.728813559\n",
      "310\n",
      "465.491525424\n",
      "[[[149, 540, 465, 310]], [[834, 540, 467, 310]]]\n"
     ]
    },
    {
     "name": "stderr",
     "output_type": "stream",
     "text": [
      "\u001b[A\u001b[A\u001b[A\u001b[A\u001b[A\u001b[A\u001b[A\u001b[A\n",
      "\n",
      "\n",
      "\n",
      "\n",
      "\n",
      "\n",
      "\n",
      " 37%|███▋      | 83/222 [00:20<00:37,  3.70it/s]"
     ]
    },
    {
     "name": "stdout",
     "output_type": "stream",
     "text": [
      "-0.673469387755\n",
      "628.204081633\n",
      "540\n",
      "130.96969697\n",
      "310\n",
      "472.484848485\n",
      "[[[130, 540, 472, 310]], [[837, 540, 468, 310]]]\n"
     ]
    },
    {
     "name": "stderr",
     "output_type": "stream",
     "text": [
      "\u001b[A\u001b[A\u001b[A\u001b[A\u001b[A\u001b[A\u001b[A\u001b[A\n",
      "\n",
      "\n",
      "\n",
      "\n",
      "\n",
      "\n",
      "\n",
      " 38%|███▊      | 84/222 [00:20<00:34,  3.97it/s]\u001b[A\u001b[A\u001b[A\u001b[A\u001b[A\u001b[A\u001b[A\u001b[A\n",
      "\n",
      "\n",
      "\n",
      "\n",
      "\n",
      "\n",
      "\n",
      " 38%|███▊      | 85/222 [00:20<00:30,  4.45it/s]"
     ]
    },
    {
     "name": "stdout",
     "output_type": "stream",
     "text": [
      "-0.672897196262\n",
      "628.280373832\n",
      "540\n",
      "131.194444444\n",
      "310\n",
      "473.0\n",
      "[[[131, 540, 473, 310]], [[836, 540, 474, 310]]]\n",
      "-0.644444444444\n",
      "616.111111111\n",
      "540\n",
      "118.103448276\n",
      "310\n",
      "475.0\n",
      "[[[118, 540, 475, 310]], [[811, 540, 483, 310]]]\n"
     ]
    },
    {
     "name": "stderr",
     "output_type": "stream",
     "text": [
      "\u001b[A\u001b[A\u001b[A\u001b[A\u001b[A\u001b[A\u001b[A\u001b[A\n",
      "\n",
      "\n",
      "\n",
      "\n",
      "\n",
      "\n",
      "\n",
      " 39%|███▊      | 86/222 [00:20<00:30,  4.51it/s]"
     ]
    },
    {
     "name": "stdout",
     "output_type": "stream",
     "text": [
      "-0.703703703704\n",
      "639.407407407\n",
      "540\n",
      "141.263157895\n",
      "310\n",
      "468.105263158\n",
      "[[[141, 540, 468, 310]], [[836, 540, 464, 310]]]\n"
     ]
    },
    {
     "name": "stderr",
     "output_type": "stream",
     "text": [
      "\u001b[A\u001b[A\u001b[A\u001b[A\u001b[A\u001b[A\u001b[A\u001b[A\n",
      "\n",
      "\n",
      "\n",
      "\n",
      "\n",
      "\n",
      "\n",
      " 39%|███▉      | 87/222 [00:20<00:34,  3.90it/s]"
     ]
    },
    {
     "name": "stdout",
     "output_type": "stream",
     "text": [
      "-0.684210526316\n",
      "631.894736842\n",
      "540\n",
      "134.307692308\n",
      "310\n",
      "470.461538462\n",
      "[[[134, 540, 470, 310]], [[835, 540, 487, 310]]]\n"
     ]
    },
    {
     "name": "stderr",
     "output_type": "stream",
     "text": [
      "\u001b[A\u001b[A\u001b[A\u001b[A\u001b[A\u001b[A\u001b[A\u001b[A\n",
      "\n",
      "\n",
      "\n",
      "\n",
      "\n",
      "\n",
      "\n",
      " 40%|███▉      | 88/222 [00:21<00:35,  3.81it/s]"
     ]
    },
    {
     "name": "stdout",
     "output_type": "stream",
     "text": [
      "-0.433962264151\n",
      "540.830188679\n",
      "540\n",
      "1.91304347826\n",
      "310\n",
      "531.913043478\n",
      "[[[1, 540, 531, 310]], [[811, 540, 487, 310]]]\n"
     ]
    },
    {
     "name": "stderr",
     "output_type": "stream",
     "text": [
      "\u001b[A\u001b[A\u001b[A\u001b[A\u001b[A\u001b[A\u001b[A\u001b[A\n",
      "\n",
      "\n",
      "\n",
      "\n",
      "\n",
      "\n",
      "\n",
      " 40%|████      | 89/222 [00:21<00:32,  4.07it/s]"
     ]
    },
    {
     "name": "stdout",
     "output_type": "stream",
     "text": [
      "-0.470967741935\n",
      "556.432258065\n",
      "540\n",
      "34.8904109589\n",
      "310\n",
      "523.246575342\n",
      "[[[34, 540, 523, 310]], [[832, 540, 483, 310]]]\n"
     ]
    },
    {
     "name": "stderr",
     "output_type": "stream",
     "text": [
      "\u001b[A\u001b[A\u001b[A\u001b[A\u001b[A\u001b[A\u001b[A\u001b[A\n",
      "\n",
      "\n",
      "\n",
      "\n",
      "\n",
      "\n",
      "\n",
      " 41%|████      | 90/222 [00:21<00:39,  3.34it/s]"
     ]
    },
    {
     "name": "stdout",
     "output_type": "stream",
     "text": [
      "-0.45197740113\n",
      "551.644067797\n",
      "540\n",
      "25.7625\n",
      "310\n",
      "534.6375\n",
      "[[[25, 540, 534, 310]], [[810, 540, 483, 310]]]\n"
     ]
    },
    {
     "name": "stderr",
     "output_type": "stream",
     "text": [
      "\u001b[A\u001b[A\u001b[A\u001b[A\u001b[A\u001b[A\u001b[A\u001b[A\n",
      "\n",
      "\n",
      "\n",
      "\n",
      "\n",
      "\n",
      "\n",
      " 41%|████      | 91/222 [00:22<00:41,  3.19it/s]"
     ]
    },
    {
     "name": "stdout",
     "output_type": "stream",
     "text": [
      "-0.475675675676\n",
      "563.205405405\n",
      "540\n",
      "48.7840909091\n",
      "310\n",
      "532.306818182\n",
      "[[[48, 540, 532, 310]], [[811, 540, 486, 310]]]\n"
     ]
    },
    {
     "name": "stderr",
     "output_type": "stream",
     "text": [
      "\u001b[A\u001b[A\u001b[A\u001b[A\u001b[A\u001b[A\u001b[A\u001b[A\n",
      "\n",
      "\n",
      "\n",
      "\n",
      "\n",
      "\n",
      "\n",
      " 41%|████▏     | 92/222 [00:22<00:36,  3.58it/s]\u001b[A\u001b[A\u001b[A\u001b[A\u001b[A\u001b[A\u001b[A\u001b[A"
     ]
    },
    {
     "name": "stdout",
     "output_type": "stream",
     "text": [
      "-0.70802919708\n",
      "642.941605839\n",
      "540\n",
      "145.391752577\n",
      "310\n",
      "470.237113402\n",
      "[[[145, 540, 470, 310]], [[810, 540, 472, 310]]]\n"
     ]
    },
    {
     "name": "stderr",
     "output_type": "stream",
     "text": [
      "\n",
      "\n",
      "\n",
      "\n",
      "\n",
      "\n",
      "\n",
      "\n",
      "\r",
      " 42%|████▏     | 93/222 [00:22<00:40,  3.18it/s]"
     ]
    },
    {
     "name": "stdout",
     "output_type": "stream",
     "text": [
      "-0.440298507463\n",
      "539.634328358\n",
      "540\n",
      "-0.830508474575\n",
      "310\n",
      "521.542372881\n",
      "[[[0, 540, 521, 310]], [[809, 540, 489, 310]]]\n"
     ]
    },
    {
     "name": "stderr",
     "output_type": "stream",
     "text": [
      "\u001b[A\u001b[A\u001b[A\u001b[A\u001b[A\u001b[A\u001b[A\u001b[A\n",
      "\n",
      "\n",
      "\n",
      "\n",
      "\n",
      "\n",
      "\n",
      " 42%|████▏     | 94/222 [00:23<00:38,  3.29it/s]"
     ]
    },
    {
     "name": "stdout",
     "output_type": "stream",
     "text": [
      "-0.515021459227\n",
      "585.446351931\n",
      "540\n",
      "88.2416666667\n",
      "310\n",
      "534.825\n",
      "[[[88, 540, 534, 310]], [[832, 540, 488, 310]]]\n"
     ]
    },
    {
     "name": "stderr",
     "output_type": "stream",
     "text": [
      "\u001b[A\u001b[A\u001b[A\u001b[A\u001b[A\u001b[A\u001b[A\u001b[A\n",
      "\n",
      "\n",
      "\n",
      "\n",
      "\n",
      "\n",
      "\n",
      " 43%|████▎     | 95/222 [00:23<00:41,  3.06it/s]"
     ]
    },
    {
     "name": "stdout",
     "output_type": "stream",
     "text": [
      "-0.420382165605\n",
      "534.382165605\n",
      "540\n",
      "-13.3636363636\n",
      "310\n",
      "533.757575758\n",
      "[[[-13, 540, 533, 310]], [[833, 540, 484, 310]]]\n"
     ]
    },
    {
     "name": "stderr",
     "output_type": "stream",
     "text": [
      "\u001b[A\u001b[A\u001b[A\u001b[A\u001b[A\u001b[A\u001b[A\u001b[A\n",
      "\n",
      "\n",
      "\n",
      "\n",
      "\n",
      "\n",
      "\n",
      " 43%|████▎     | 96/222 [00:23<00:41,  3.07it/s]"
     ]
    },
    {
     "name": "stdout",
     "output_type": "stream",
     "text": [
      "-0.656565656566\n",
      "622.95959596\n",
      "540\n",
      "126.353846154\n",
      "310\n",
      "476.661538462\n",
      "[[[126, 540, 476, 310]], [[813, 540, 491, 310]]]\n"
     ]
    },
    {
     "name": "stderr",
     "output_type": "stream",
     "text": [
      "\u001b[A\u001b[A\u001b[A\u001b[A\u001b[A\u001b[A\u001b[A\u001b[A\n",
      "\n",
      "\n",
      "\n",
      "\n",
      "\n",
      "\n",
      "\n",
      " 44%|████▎     | 97/222 [00:24<00:40,  3.06it/s]"
     ]
    },
    {
     "name": "stdout",
     "output_type": "stream",
     "text": [
      "-0.457831325301\n",
      "552.734939759\n",
      "540\n",
      "27.8157894737\n",
      "310\n",
      "530.184210526\n",
      "[[[27, 540, 530, 310]], [[833, 540, 495, 310]]]\n"
     ]
    },
    {
     "name": "stderr",
     "output_type": "stream",
     "text": [
      "\u001b[A\u001b[A\u001b[A\u001b[A\u001b[A\u001b[A\u001b[A\u001b[A\n",
      "\n",
      "\n",
      "\n",
      "\n",
      "\n",
      "\n",
      "\n",
      " 44%|████▍     | 98/222 [00:24<00:37,  3.29it/s]"
     ]
    },
    {
     "name": "stdout",
     "output_type": "stream",
     "text": [
      "-0.408163265306\n",
      "526.510204082\n",
      "540\n",
      "-33.05\n",
      "310\n",
      "530.45\n",
      "[[[-33, 540, 530, 310]], [[833, 540, 491, 310]]]\n"
     ]
    },
    {
     "name": "stderr",
     "output_type": "stream",
     "text": [
      "\u001b[A\u001b[A\u001b[A\u001b[A\u001b[A\u001b[A\u001b[A\u001b[A\n",
      "\n",
      "\n",
      "\n",
      "\n",
      "\n",
      "\n",
      "\n",
      " 45%|████▍     | 99/222 [00:24<00:36,  3.33it/s]"
     ]
    },
    {
     "name": "stdout",
     "output_type": "stream",
     "text": [
      "-0.656565656566\n",
      "622.525252525\n",
      "540\n",
      "125.692307692\n",
      "310\n",
      "476.0\n",
      "[[[125, 540, 476, 310]], [[815, 540, 491, 310]]]\n"
     ]
    },
    {
     "name": "stderr",
     "output_type": "stream",
     "text": [
      "\u001b[A\u001b[A\u001b[A\u001b[A\u001b[A\u001b[A\u001b[A\u001b[A\n",
      "\n",
      "\n",
      "\n",
      "\n",
      "\n",
      "\n",
      "\n",
      " 45%|████▌     | 100/222 [00:24<00:34,  3.56it/s]"
     ]
    },
    {
     "name": "stdout",
     "output_type": "stream",
     "text": [
      "-0.444444444444\n",
      "544.222222222\n",
      "540\n",
      "9.5\n",
      "310\n",
      "527.0\n",
      "[[[9, 540, 527, 310]], [[834, 540, 491, 310]]]\n"
     ]
    },
    {
     "name": "stderr",
     "output_type": "stream",
     "text": [
      "\u001b[A\u001b[A\u001b[A\u001b[A\u001b[A\u001b[A\u001b[A\u001b[A\n",
      "\n",
      "\n",
      "\n",
      "\n",
      "\n",
      "\n",
      "\n",
      " 45%|████▌     | 101/222 [00:25<00:31,  3.85it/s]"
     ]
    },
    {
     "name": "stdout",
     "output_type": "stream",
     "text": [
      "-0.483443708609\n",
      "561.390728477\n",
      "540\n",
      "44.2465753425\n",
      "310\n",
      "520.0\n",
      "[[[44, 540, 519, 310]], [[815, 540, 496, 310]]]\n",
      "-0.714285714286\n",
      "646.285714286\n",
      "540\n",
      "148.8\n",
      "310\n",
      "470.8\n",
      "[[[148, 540, 470, 310]], [[814, 540, 479, 310]]]\n"
     ]
    },
    {
     "name": "stderr",
     "output_type": "stream",
     "text": [
      "\u001b[A\u001b[A\u001b[A\u001b[A\u001b[A\u001b[A\u001b[A\u001b[A\n",
      "\n",
      "\n",
      "\n",
      "\n",
      "\n",
      "\n",
      "\n",
      " 46%|████▌     | 102/222 [00:25<00:27,  4.30it/s]\u001b[A\u001b[A\u001b[A\u001b[A\u001b[A\u001b[A\u001b[A\u001b[A\n",
      "\n",
      "\n",
      "\n",
      "\n",
      "\n",
      "\n",
      "\n",
      " 46%|████▋     | 103/222 [00:25<00:25,  4.67it/s]\u001b[A\u001b[A\u001b[A\u001b[A\u001b[A\u001b[A\u001b[A\u001b[A"
     ]
    },
    {
     "name": "stdout",
     "output_type": "stream",
     "text": [
      "-0.478021978022\n",
      "565.873626374\n",
      "540\n",
      "54.1264367816\n",
      "310\n",
      "535.275862069\n",
      "[[[54, 540, 535, 310]], [[815, 540, 484, 310]]]\n",
      "-0.692913385827\n",
      "642.598425197\n",
      "540\n",
      "148.068181818\n",
      "310\n",
      "480.0\n",
      "[[[148, 540, 479, 310]], [[844, 540, 461, 310]]]\n"
     ]
    },
    {
     "name": "stderr",
     "output_type": "stream",
     "text": [
      "\n",
      "\n",
      "\n",
      "\n",
      "\n",
      "\n",
      "\n",
      "\n",
      " 47%|████▋     | 104/222 [00:25<00:24,  4.91it/s]\u001b[A\u001b[A\u001b[A\u001b[A\u001b[A\u001b[A\u001b[A\u001b[A\n",
      "\n",
      "\n",
      "\n",
      "\n",
      "\n",
      "\n",
      "\n",
      " 47%|████▋     | 105/222 [00:25<00:23,  5.01it/s]\u001b[A\u001b[A\u001b[A\u001b[A\u001b[A\u001b[A\u001b[A\u001b[A"
     ]
    },
    {
     "name": "stdout",
     "output_type": "stream",
     "text": [
      "-0.645161290323\n",
      "619.677419355\n",
      "540\n",
      "123.5\n",
      "310\n",
      "480.0\n",
      "[[[123, 540, 480, 310]], [[838, 540, 488, 310]]]\n"
     ]
    },
    {
     "name": "stderr",
     "output_type": "stream",
     "text": [
      "\n",
      "\n",
      "\n",
      "\n",
      "\n",
      "\n",
      "\n",
      "\n",
      "\r",
      " 48%|████▊     | 106/222 [00:26<00:27,  4.29it/s]"
     ]
    },
    {
     "name": "stdout",
     "output_type": "stream",
     "text": [
      "-0.535714285714\n",
      "593.25\n",
      "540\n",
      "99.4\n",
      "310\n",
      "528.733333333\n",
      "[[[99, 540, 528, 310]], [[839, 540, 488, 310]]]\n"
     ]
    },
    {
     "name": "stderr",
     "output_type": "stream",
     "text": [
      "\u001b[A\u001b[A\u001b[A\u001b[A\u001b[A\u001b[A\u001b[A\u001b[A\n",
      "\n",
      "\n",
      "\n",
      "\n",
      "\n",
      "\n",
      "\n",
      " 48%|████▊     | 107/222 [00:26<00:26,  4.32it/s]\u001b[A\u001b[A\u001b[A\u001b[A\u001b[A\u001b[A\u001b[A\u001b[A"
     ]
    },
    {
     "name": "stdout",
     "output_type": "stream",
     "text": [
      "-0.687179487179\n",
      "639.41025641\n",
      "540\n",
      "144.664179104\n",
      "310\n",
      "479.365671642\n",
      "[[[144, 540, 479, 310]], [[821, 540, 478, 310]]]\n",
      "-0.704035874439\n",
      "643.304932735\n",
      "540\n",
      "146.732484076\n",
      "310\n",
      "473.420382166\n",
      "[[[146, 540, 473, 310]], [[821, 540, 478, 310]]]\n"
     ]
    },
    {
     "name": "stderr",
     "output_type": "stream",
     "text": [
      "\n",
      "\n",
      "\n",
      "\n",
      "\n",
      "\n",
      "\n",
      "\n",
      " 49%|████▊     | 108/222 [00:26<00:24,  4.61it/s]\u001b[A\u001b[A\u001b[A\u001b[A\u001b[A\u001b[A\u001b[A\u001b[A\n",
      "\n",
      "\n",
      "\n",
      "\n",
      "\n",
      "\n",
      "\n",
      " 49%|████▉     | 109/222 [00:26<00:23,  4.72it/s]\u001b[A\u001b[A\u001b[A\u001b[A\u001b[A\u001b[A\u001b[A\u001b[A\n",
      "\n",
      "\n",
      "\n",
      "\n",
      "\n",
      "\n",
      "\n",
      " 50%|████▉     | 110/222 [00:26<00:21,  5.11it/s]"
     ]
    },
    {
     "name": "stdout",
     "output_type": "stream",
     "text": [
      "-0.692607003891\n",
      "642.451361868\n",
      "540\n",
      "147.921348315\n",
      "310\n",
      "480.0\n",
      "[[[147, 540, 479, 310]], [[820, 540, 477, 310]]]\n",
      "-0.697160883281\n",
      "643.940063091\n",
      "540\n",
      "149.090497738\n",
      "310\n",
      "479.0\n",
      "[[[149, 540, 478, 310]], [[820, 540, 493, 310]]]\n"
     ]
    },
    {
     "name": "stderr",
     "output_type": "stream",
     "text": [
      "\u001b[A\u001b[A\u001b[A\u001b[A\u001b[A\u001b[A\u001b[A\u001b[A\n",
      "\n",
      "\n",
      "\n",
      "\n",
      "\n",
      "\n",
      "\n",
      " 50%|█████     | 111/222 [00:27<00:21,  5.28it/s]\u001b[A\u001b[A\u001b[A\u001b[A\u001b[A\u001b[A\u001b[A\u001b[A\n",
      "\n",
      "\n",
      "\n",
      "\n",
      "\n",
      "\n",
      "\n",
      " 50%|█████     | 112/222 [00:27<00:19,  5.56it/s]"
     ]
    },
    {
     "name": "stdout",
     "output_type": "stream",
     "text": [
      "-0.698581560284\n",
      "645.319148936\n",
      "540\n",
      "150.76142132\n",
      "310\n",
      "480.0\n",
      "[[[150, 540, 480, 310]], [[841, 540, 494, 310]]]\n",
      "-0.617486338798\n",
      "632.475409836\n",
      "540\n",
      "149.761061947\n",
      "310\n",
      "522.238938053\n",
      "[[[149, 540, 522, 310]], [[842, 540, 486, 310]]]\n"
     ]
    },
    {
     "name": "stderr",
     "output_type": "stream",
     "text": [
      "\u001b[A\u001b[A\u001b[A\u001b[A\u001b[A\u001b[A\u001b[A\u001b[A\n",
      "\n",
      "\n",
      "\n",
      "\n",
      "\n",
      "\n",
      "\n",
      " 51%|█████     | 113/222 [00:27<00:22,  4.95it/s]"
     ]
    },
    {
     "name": "stdout",
     "output_type": "stream",
     "text": [
      "-0.651785714286\n",
      "623.25\n",
      "540\n",
      "127.726027397\n",
      "310\n",
      "480.602739726\n",
      "[[[127, 540, 480, 310]], [[843, 540, 487, 310]]]\n"
     ]
    },
    {
     "name": "stderr",
     "output_type": "stream",
     "text": [
      "\u001b[A\u001b[A\u001b[A\u001b[A\u001b[A\u001b[A\u001b[A\u001b[A\n",
      "\n",
      "\n",
      "\n",
      "\n",
      "\n",
      "\n",
      "\n",
      " 51%|█████▏    | 114/222 [00:27<00:22,  4.75it/s]"
     ]
    },
    {
     "name": "stdout",
     "output_type": "stream",
     "text": [
      "-0.66393442623\n",
      "629.68852459\n",
      "540\n",
      "135.086419753\n",
      "310\n",
      "481.50617284\n",
      "[[[135, 540, 481, 310]], [[845, 540, 486, 310]]]\n"
     ]
    },
    {
     "name": "stderr",
     "output_type": "stream",
     "text": [
      "\u001b[A\u001b[A\u001b[A\u001b[A\u001b[A\u001b[A\u001b[A\u001b[A\n",
      "\n",
      "\n",
      "\n",
      "\n",
      "\n",
      "\n",
      "\n",
      " 52%|█████▏    | 115/222 [00:28<00:26,  3.98it/s]"
     ]
    },
    {
     "name": "stdout",
     "output_type": "stream",
     "text": [
      "-0.456989247312\n",
      "556.575268817\n",
      "540\n",
      "36.2705882353\n",
      "310\n",
      "539.564705882\n",
      "[[[36, 540, 539, 310]], [[847, 540, 487, 310]]]\n"
     ]
    },
    {
     "name": "stderr",
     "output_type": "stream",
     "text": [
      "\u001b[A\u001b[A\u001b[A\u001b[A\u001b[A\u001b[A\u001b[A\u001b[A\n",
      "\n",
      "\n",
      "\n",
      "\n",
      "\n",
      "\n",
      "\n",
      " 52%|█████▏    | 116/222 [00:28<00:35,  2.95it/s]"
     ]
    },
    {
     "name": "stdout",
     "output_type": "stream",
     "text": [
      "-0.472081218274\n",
      "564.61928934\n",
      "540\n",
      "52.1505376344\n",
      "310\n",
      "539.35483871\n",
      "[[[52, 540, 539, 310]], [[824, 540, 483, 310]]]\n",
      "-0.527918781726\n",
      "585.989847716\n",
      "540\n",
      "87.1153846154\n",
      "310\n",
      "522.788461538\n",
      "[[[87, 540, 522, 310]], [[847, 540, 486, 310]]]\n"
     ]
    },
    {
     "name": "stderr",
     "output_type": "stream",
     "text": [
      "\u001b[A\u001b[A\u001b[A\u001b[A\u001b[A\u001b[A\u001b[A\u001b[A\n",
      "\n",
      "\n",
      "\n",
      "\n",
      "\n",
      "\n",
      "\n",
      " 53%|█████▎    | 117/222 [00:28<00:30,  3.43it/s]\u001b[A\u001b[A\u001b[A\u001b[A\u001b[A\u001b[A\u001b[A\u001b[A\n",
      "\n",
      "\n",
      "\n",
      "\n",
      "\n",
      "\n",
      "\n",
      " 53%|█████▎    | 118/222 [00:28<00:27,  3.78it/s]"
     ]
    },
    {
     "name": "stdout",
     "output_type": "stream",
     "text": [
      "-0.536697247706\n",
      "591.082568807\n",
      "540\n",
      "95.1794871795\n",
      "310\n",
      "523.726495726\n",
      "[[[95, 540, 523, 310]], [[849, 540, 491, 310]]]\n"
     ]
    },
    {
     "name": "stderr",
     "output_type": "stream",
     "text": [
      "\u001b[A\u001b[A\u001b[A\u001b[A\u001b[A\u001b[A\u001b[A\u001b[A\n",
      "\n",
      "\n",
      "\n",
      "\n",
      "\n",
      "\n",
      "\n",
      " 54%|█████▎    | 119/222 [00:29<00:26,  3.84it/s]"
     ]
    },
    {
     "name": "stdout",
     "output_type": "stream",
     "text": [
      "-0.55230125523\n",
      "599.19665272\n",
      "540\n",
      "107.181818182\n",
      "310\n",
      "523.621212121\n",
      "[[[107, 540, 523, 310]], [[857, 540, 487, 310]]]\n"
     ]
    },
    {
     "name": "stderr",
     "output_type": "stream",
     "text": [
      "\u001b[A\u001b[A\u001b[A\u001b[A\u001b[A\u001b[A\u001b[A\u001b[A\n",
      "\n",
      "\n",
      "\n",
      "\n",
      "\n",
      "\n",
      "\n",
      " 54%|█████▍    | 120/222 [00:29<00:34,  2.97it/s]"
     ]
    },
    {
     "name": "stdout",
     "output_type": "stream",
     "text": [
      "-0.569811320755\n",
      "609.871698113\n",
      "540\n",
      "122.622516556\n",
      "310\n",
      "526.264900662\n",
      "[[[122, 540, 526, 310]], [[829, 540, 487, 310]]]\n"
     ]
    },
    {
     "name": "stderr",
     "output_type": "stream",
     "text": [
      "\u001b[A\u001b[A\u001b[A\u001b[A\u001b[A\u001b[A\u001b[A\u001b[A\n",
      "\n",
      "\n",
      "\n",
      "\n",
      "\n",
      "\n",
      "\n",
      " 55%|█████▍    | 121/222 [00:30<00:33,  3.06it/s]"
     ]
    },
    {
     "name": "stdout",
     "output_type": "stream",
     "text": [
      "-0.685823754789\n",
      "641.195402299\n",
      "540\n",
      "147.553072626\n",
      "310\n",
      "482.916201117\n",
      "[[[147, 540, 482, 310]], [[851, 540, 489, 310]]]\n"
     ]
    },
    {
     "name": "stderr",
     "output_type": "stream",
     "text": [
      "\u001b[A\u001b[A\u001b[A\u001b[A\u001b[A\u001b[A\u001b[A\u001b[A\n",
      "\n",
      "\n",
      "\n",
      "\n",
      "\n",
      "\n",
      "\n",
      " 55%|█████▍    | 122/222 [00:30<00:30,  3.25it/s]"
     ]
    },
    {
     "name": "stdout",
     "output_type": "stream",
     "text": [
      "-0.694533762058\n",
      "644.681672026\n",
      "540\n",
      "150.722222222\n",
      "310\n",
      "481.87962963\n",
      "[[[150, 540, 481, 310]], [[856, 540, 484, 310]]]\n"
     ]
    },
    {
     "name": "stderr",
     "output_type": "stream",
     "text": [
      "\u001b[A\u001b[A\u001b[A\u001b[A\u001b[A\u001b[A\u001b[A\u001b[A\n",
      "\n",
      "\n",
      "\n",
      "\n",
      "\n",
      "\n",
      "\n",
      " 55%|█████▌    | 123/222 [00:30<00:34,  2.84it/s]"
     ]
    },
    {
     "name": "stdout",
     "output_type": "stream",
     "text": [
      "-0.694189602446\n",
      "644.516819572\n",
      "540\n",
      "150.559471366\n",
      "310\n",
      "481.881057269\n",
      "[[[150, 540, 481, 310]], [[828, 540, 489, 310]]]\n"
     ]
    },
    {
     "name": "stderr",
     "output_type": "stream",
     "text": [
      "\u001b[A\u001b[A\u001b[A\u001b[A\u001b[A\u001b[A\u001b[A\u001b[A\n",
      "\n",
      "\n",
      "\n",
      "\n",
      "\n",
      "\n",
      "\n",
      " 56%|█████▌    | 124/222 [00:30<00:30,  3.21it/s]"
     ]
    },
    {
     "name": "stdout",
     "output_type": "stream",
     "text": [
      "-0.686868686869\n",
      "641.202020202\n",
      "540\n",
      "147.338235294\n",
      "310\n",
      "482.191176471\n",
      "[[[147, 540, 482, 310]], [[854, 540, 482, 310]]]\n",
      "-0.425925925926\n",
      "538.888888889\n",
      "540\n",
      "-2.60869565217\n",
      "310\n",
      "537.391304348\n",
      "[[[-2, 540, 537, 310]], [[834, 540, 497, 310]]]\n"
     ]
    },
    {
     "name": "stderr",
     "output_type": "stream",
     "text": [
      "\u001b[A\u001b[A\u001b[A\u001b[A\u001b[A\u001b[A\u001b[A\u001b[A\n",
      "\n",
      "\n",
      "\n",
      "\n",
      "\n",
      "\n",
      "\n",
      " 56%|█████▋    | 125/222 [00:31<00:26,  3.68it/s]\u001b[A\u001b[A\u001b[A\u001b[A\u001b[A\u001b[A\u001b[A\u001b[A\n",
      "\n",
      "\n",
      "\n",
      "\n",
      "\n",
      "\n",
      "\n",
      " 57%|█████▋    | 126/222 [00:31<00:22,  4.24it/s]\u001b[A\u001b[A\u001b[A\u001b[A\u001b[A\u001b[A\u001b[A\u001b[A\n",
      "\n",
      "\n",
      "\n",
      "\n",
      "\n",
      "\n",
      "\n",
      " 57%|█████▋    | 127/222 [00:31<00:20,  4.62it/s]"
     ]
    },
    {
     "name": "stdout",
     "output_type": "stream",
     "text": [
      "-0.456140350877\n",
      "554.385964912\n",
      "540\n",
      "31.5384615385\n",
      "310\n",
      "535.769230769\n",
      "[[[31, 540, 535, 310]], [[835, 540, 490, 310]]]\n",
      "-0.644444444444\n",
      "619.977777778\n",
      "540\n",
      "124.103448276\n",
      "310\n",
      "481.0\n",
      "[[[124, 540, 480, 310]], [[859, 540, 490, 310]]]\n"
     ]
    },
    {
     "name": "stderr",
     "output_type": "stream",
     "text": [
      "\u001b[A\u001b[A\u001b[A\u001b[A\u001b[A\u001b[A\u001b[A\u001b[A\n",
      "\n",
      "\n",
      "\n",
      "\n",
      "\n",
      "\n",
      "\n",
      " 58%|█████▊    | 128/222 [00:31<00:18,  5.04it/s]\u001b[A\u001b[A\u001b[A\u001b[A\u001b[A\u001b[A\u001b[A\u001b[A"
     ]
    },
    {
     "name": "stdout",
     "output_type": "stream",
     "text": [
      "-0.734848484848\n",
      "659.787878788\n",
      "540\n",
      "163.010309278\n",
      "310\n",
      "476.0\n",
      "[[[163, 540, 475, 310]], [[840, 540, 490, 310]]]\n"
     ]
    },
    {
     "name": "stderr",
     "output_type": "stream",
     "text": [
      "\n",
      "\n",
      "\n",
      "\n",
      "\n",
      "\n",
      "\n",
      "\n",
      "\r",
      " 58%|█████▊    | 129/222 [00:31<00:21,  4.39it/s]"
     ]
    },
    {
     "name": "stdout",
     "output_type": "stream",
     "text": [
      "-0.522613065327\n",
      "589.417085427\n",
      "540\n",
      "94.5576923077\n",
      "310\n",
      "534.653846154\n",
      "[[[94, 540, 534, 310]], [[840, 540, 491, 310]]]\n"
     ]
    },
    {
     "name": "stderr",
     "output_type": "stream",
     "text": [
      "\u001b[A\u001b[A\u001b[A\u001b[A\u001b[A\u001b[A\u001b[A\u001b[A\n",
      "\n",
      "\n",
      "\n",
      "\n",
      "\n",
      "\n",
      "\n",
      " 59%|█████▊    | 130/222 [00:32<00:21,  4.23it/s]"
     ]
    },
    {
     "name": "stdout",
     "output_type": "stream",
     "text": [
      "-0.688622754491\n",
      "637.652694611\n",
      "540\n",
      "141.808695652\n",
      "310\n",
      "475.808695652\n",
      "[[[141, 540, 475, 310]], [[840, 540, 490, 310]]]\n",
      "-0.697435897436\n",
      "641.282051282\n",
      "540\n",
      "145.220588235\n",
      "310\n",
      "475.0\n",
      "[[[145, 540, 474, 310]], [[841, 540, 484, 310]]]\n"
     ]
    },
    {
     "name": "stderr",
     "output_type": "stream",
     "text": [
      "\u001b[A\u001b[A\u001b[A\u001b[A\u001b[A\u001b[A\u001b[A\u001b[A\n",
      "\n",
      "\n",
      "\n",
      "\n",
      "\n",
      "\n",
      "\n",
      " 59%|█████▉    | 131/222 [00:32<00:19,  4.60it/s]\u001b[A\u001b[A\u001b[A\u001b[A\u001b[A\u001b[A\u001b[A\u001b[A\n",
      "\n",
      "\n",
      "\n",
      "\n",
      "\n",
      "\n",
      "\n",
      " 59%|█████▉    | 132/222 [00:32<00:21,  4.19it/s]"
     ]
    },
    {
     "name": "stdout",
     "output_type": "stream",
     "text": [
      "-0.549450549451\n",
      "603.461538462\n",
      "540\n",
      "115.5\n",
      "310\n",
      "534.1\n",
      "[[[115, 540, 534, 310]], [[839, 540, 485, 310]]]\n"
     ]
    },
    {
     "name": "stderr",
     "output_type": "stream",
     "text": [
      "\u001b[A\u001b[A\u001b[A\u001b[A\u001b[A\u001b[A\u001b[A\u001b[A\n",
      "\n",
      "\n",
      "\n",
      "\n",
      "\n",
      "\n",
      "\n",
      " 60%|█████▉    | 133/222 [00:32<00:20,  4.33it/s]\u001b[A\u001b[A\u001b[A\u001b[A\u001b[A\u001b[A\u001b[A\u001b[A\n",
      "\n",
      "\n",
      "\n",
      "\n",
      "\n",
      "\n",
      "\n",
      " 60%|██████    | 134/222 [00:33<00:18,  4.66it/s]"
     ]
    },
    {
     "name": "stdout",
     "output_type": "stream",
     "text": [
      "-0.716599190283\n",
      "656.384615385\n",
      "540\n",
      "162.412429379\n",
      "310\n",
      "483.372881356\n",
      "[[[162, 540, 483, 310]], [[841, 540, 484, 310]]]\n",
      "-0.72972972973\n",
      "656.432432432\n",
      "540\n",
      "159.555555556\n",
      "310\n",
      "474.740740741\n",
      "[[[159, 540, 474, 310]], [[842, 540, 486, 310]]]\n"
     ]
    },
    {
     "name": "stderr",
     "output_type": "stream",
     "text": [
      "\u001b[A\u001b[A\u001b[A\u001b[A\u001b[A\u001b[A\u001b[A\u001b[A\n",
      "\n",
      "\n",
      "\n",
      "\n",
      "\n",
      "\n",
      "\n",
      " 61%|██████    | 135/222 [00:33<00:18,  4.73it/s]\u001b[A\u001b[A\u001b[A\u001b[A\u001b[A\u001b[A\u001b[A\u001b[A\n",
      "\n",
      "\n",
      "\n",
      "\n",
      "\n",
      "\n",
      "\n",
      " 61%|██████▏   | 136/222 [00:33<00:17,  4.98it/s]"
     ]
    },
    {
     "name": "stdout",
     "output_type": "stream",
     "text": [
      "-0.724683544304\n",
      "656.398734177\n",
      "540\n",
      "160.620087336\n",
      "310\n",
      "478.0\n",
      "[[[160, 540, 477, 310]], [[846, 540, 472, 310]]]\n",
      "-0.724381625442\n",
      "655.80565371\n",
      "540\n",
      "159.868292683\n",
      "310\n",
      "477.380487805\n",
      "[[[159, 540, 477, 310]], [[845, 540, 472, 310]]]\n"
     ]
    },
    {
     "name": "stderr",
     "output_type": "stream",
     "text": [
      "\u001b[A\u001b[A\u001b[A\u001b[A\u001b[A\u001b[A\u001b[A\u001b[A\n",
      "\n",
      "\n",
      "\n",
      "\n",
      "\n",
      "\n",
      "\n",
      " 62%|██████▏   | 137/222 [00:33<00:16,  5.22it/s]\u001b[A\u001b[A\u001b[A\u001b[A\u001b[A\u001b[A\u001b[A\u001b[A"
     ]
    },
    {
     "name": "stdout",
     "output_type": "stream",
     "text": [
      "-0.432098765432\n",
      "541.444444444\n",
      "540\n",
      "3.34285714286\n",
      "310\n",
      "535.628571429\n",
      "[[[3, 540, 535, 310]], [[846, 540, 491, 310]]]\n",
      "-0.690265486726\n",
      "636.495575221\n",
      "540\n",
      "139.794871795\n",
      "310\n",
      "473.0\n",
      "[[[139, 540, 472, 310]], [[847, 540, 490, 310]]]\n"
     ]
    },
    {
     "name": "stderr",
     "output_type": "stream",
     "text": [
      "\n",
      "\n",
      "\n",
      "\n",
      "\n",
      "\n",
      "\n",
      "\n",
      " 62%|██████▏   | 138/222 [00:33<00:16,  5.22it/s]\u001b[A\u001b[A\u001b[A\u001b[A\u001b[A\u001b[A\u001b[A\u001b[A\n",
      "\n",
      "\n",
      "\n",
      "\n",
      "\n",
      "\n",
      "\n",
      " 63%|██████▎   | 139/222 [00:33<00:15,  5.36it/s]\u001b[A\u001b[A\u001b[A\u001b[A\u001b[A\u001b[A\u001b[A\u001b[A"
     ]
    },
    {
     "name": "stdout",
     "output_type": "stream",
     "text": [
      "-0.658914728682\n",
      "625.620155039\n",
      "540\n",
      "129.941176471\n",
      "310\n",
      "479.0\n",
      "[[[129, 540, 478, 310]], [[845, 540, 486, 310]]]\n",
      "-0.702290076336\n",
      "643.076335878\n",
      "540\n",
      "146.77173913\n",
      "310\n",
      "474.27173913\n",
      "[[[146, 540, 474, 310]], [[842, 540, 485, 310]]]\n"
     ]
    },
    {
     "name": "stderr",
     "output_type": "stream",
     "text": [
      "\n",
      "\n",
      "\n",
      "\n",
      "\n",
      "\n",
      "\n",
      "\n",
      " 63%|██████▎   | 140/222 [00:34<00:15,  5.26it/s]\u001b[A\u001b[A\u001b[A\u001b[A\u001b[A\u001b[A\u001b[A\u001b[A\n",
      "\n",
      "\n",
      "\n",
      "\n",
      "\n",
      "\n",
      "\n",
      " 64%|██████▎   | 141/222 [00:34<00:15,  5.27it/s]\u001b[A\u001b[A\u001b[A\u001b[A\u001b[A\u001b[A\u001b[A\u001b[A"
     ]
    },
    {
     "name": "stdout",
     "output_type": "stream",
     "text": [
      "-0.702127659574\n",
      "643.893617021\n",
      "540\n",
      "147.96969697\n",
      "310\n",
      "475.545454545\n",
      "[[[147, 540, 475, 310]], [[842, 540, 491, 310]]]\n",
      "-0.694117647059\n",
      "642.094117647\n",
      "540\n",
      "147.084745763\n",
      "310\n",
      "478.440677966\n",
      "[[[147, 540, 478, 310]], [[839, 540, 492, 310]]]\n"
     ]
    },
    {
     "name": "stderr",
     "output_type": "stream",
     "text": [
      "\n",
      "\n",
      "\n",
      "\n",
      "\n",
      "\n",
      "\n",
      "\n",
      " 64%|██████▍   | 142/222 [00:34<00:14,  5.34it/s]\u001b[A\u001b[A\u001b[A\u001b[A\u001b[A\u001b[A\u001b[A\u001b[A\n",
      "\n",
      "\n",
      "\n",
      "\n",
      "\n",
      "\n",
      "\n",
      " 64%|██████▍   | 143/222 [00:34<00:14,  5.35it/s]\u001b[A\u001b[A\u001b[A\u001b[A\u001b[A\u001b[A\u001b[A\u001b[A"
     ]
    },
    {
     "name": "stdout",
     "output_type": "stream",
     "text": [
      "-0.573913043478\n",
      "609.139130435\n",
      "540\n",
      "120.46969697\n",
      "310\n",
      "521.227272727\n",
      "[[[120, 540, 521, 310]], [[842, 540, 483, 310]]]\n",
      "-0.543795620438\n",
      "605.843065693\n",
      "540\n",
      "121.080536913\n",
      "310\n",
      "544.033557047\n",
      "[[[121, 540, 544, 310]], [[841, 540, 484, 310]]]\n"
     ]
    },
    {
     "name": "stderr",
     "output_type": "stream",
     "text": [
      "\n",
      "\n",
      "\n",
      "\n",
      "\n",
      "\n",
      "\n",
      "\n",
      " 65%|██████▍   | 144/222 [00:34<00:14,  5.41it/s]\u001b[A\u001b[A\u001b[A\u001b[A\u001b[A\u001b[A\u001b[A\u001b[A\n",
      "\n",
      "\n",
      "\n",
      "\n",
      "\n",
      "\n",
      "\n",
      " 65%|██████▌   | 145/222 [00:35<00:15,  5.10it/s]\u001b[A\u001b[A\u001b[A\u001b[A\u001b[A\u001b[A\u001b[A\u001b[A\n",
      "\n",
      "\n",
      "\n",
      "\n",
      "\n",
      "\n",
      "\n",
      " 66%|██████▌   | 146/222 [00:35<00:14,  5.39it/s]"
     ]
    },
    {
     "name": "stdout",
     "output_type": "stream",
     "text": [
      "-0.716049382716\n",
      "650.395061728\n",
      "540\n",
      "154.172413793\n",
      "310\n",
      "475.379310345\n",
      "[[[154, 540, 475, 310]], [[841, 540, 458, 310]]]\n",
      "-0.580281690141\n",
      "623.129577465\n",
      "540\n",
      "143.257281553\n",
      "310\n",
      "539.616504854\n",
      "[[[143, 540, 539, 310]], [[845, 540, 487, 310]]]\n"
     ]
    },
    {
     "name": "stderr",
     "output_type": "stream",
     "text": [
      "\u001b[A\u001b[A\u001b[A\u001b[A\u001b[A\u001b[A\u001b[A\u001b[A\n",
      "\n",
      "\n",
      "\n",
      "\n",
      "\n",
      "\n",
      "\n",
      " 66%|██████▌   | 147/222 [00:35<00:13,  5.48it/s]\u001b[A\u001b[A\u001b[A\u001b[A\u001b[A\u001b[A\u001b[A\u001b[A"
     ]
    },
    {
     "name": "stdout",
     "output_type": "stream",
     "text": [
      "-0.704180064309\n",
      "644.668810289\n",
      "540\n",
      "148.639269406\n",
      "310\n",
      "475.260273973\n",
      "[[[148, 540, 475, 310]], [[846, 540, 488, 310]]]\n",
      "-0.738675958188\n",
      "663.574912892\n",
      "540\n",
      "167.29245283\n",
      "310\n",
      "478.660377358\n",
      "[[[167, 540, 478, 310]], [[847, 540, 486, 310]]]\n"
     ]
    },
    {
     "name": "stderr",
     "output_type": "stream",
     "text": [
      "\n",
      "\n",
      "\n",
      "\n",
      "\n",
      "\n",
      "\n",
      "\n",
      " 67%|██████▋   | 148/222 [00:35<00:13,  5.47it/s]\u001b[A\u001b[A\u001b[A\u001b[A\u001b[A\u001b[A\u001b[A\u001b[A\n",
      "\n",
      "\n",
      "\n",
      "\n",
      "\n",
      "\n",
      "\n",
      " 67%|██████▋   | 149/222 [00:35<00:13,  5.60it/s]\u001b[A\u001b[A\u001b[A\u001b[A\u001b[A\u001b[A\u001b[A\u001b[A\n",
      "\n",
      "\n",
      "\n",
      "\n",
      "\n",
      "\n",
      "\n",
      " 68%|██████▊   | 150/222 [00:35<00:12,  5.80it/s]"
     ]
    },
    {
     "name": "stdout",
     "output_type": "stream",
     "text": [
      "-0.711598746082\n",
      "647.163009404\n",
      "540\n",
      "150.594713656\n",
      "310\n",
      "473.810572687\n",
      "[[[150, 540, 473, 310]], [[853, 540, 484, 310]]]\n",
      "-0.452380952381\n",
      "554.214285714\n",
      "540\n",
      "31.4210526316\n",
      "310\n",
      "539.842105263\n",
      "[[[31, 540, 539, 310]], [[855, 540, 489, 310]]]\n"
     ]
    },
    {
     "name": "stderr",
     "output_type": "stream",
     "text": [
      "\u001b[A\u001b[A\u001b[A\u001b[A\u001b[A\u001b[A\u001b[A\u001b[A\n",
      "\n",
      "\n",
      "\n",
      "\n",
      "\n",
      "\n",
      "\n",
      " 68%|██████▊   | 151/222 [00:36<00:12,  5.66it/s]\u001b[A\u001b[A\u001b[A\u001b[A\u001b[A\u001b[A\u001b[A\u001b[A\n",
      "\n",
      "\n",
      "\n",
      "\n",
      "\n",
      "\n",
      "\n",
      " 68%|██████▊   | 152/222 [00:36<00:11,  5.87it/s]"
     ]
    },
    {
     "name": "stdout",
     "output_type": "stream",
     "text": [
      "-0.451086956522\n",
      "557.233695652\n",
      "540\n",
      "38.2048192771\n",
      "310\n",
      "548.084337349\n",
      "[[[38, 540, 548, 310]], [[851, 540, 489, 310]]]\n",
      "-0.686567164179\n",
      "640.805970149\n",
      "540\n",
      "146.826086957\n",
      "310\n",
      "481.826086957\n",
      "[[[146, 540, 481, 310]], [[849, 540, 485, 310]]]\n"
     ]
    },
    {
     "name": "stderr",
     "output_type": "stream",
     "text": [
      "\u001b[A\u001b[A\u001b[A\u001b[A\u001b[A\u001b[A\u001b[A\u001b[A\n",
      "\n",
      "\n",
      "\n",
      "\n",
      "\n",
      "\n",
      "\n",
      " 69%|██████▉   | 153/222 [00:36<00:12,  5.74it/s]\u001b[A\u001b[A\u001b[A\u001b[A\u001b[A\u001b[A\u001b[A\u001b[A\n",
      "\n",
      "\n",
      "\n",
      "\n",
      "\n",
      "\n",
      "\n",
      " 69%|██████▉   | 154/222 [00:36<00:11,  5.81it/s]"
     ]
    },
    {
     "name": "stdout",
     "output_type": "stream",
     "text": [
      "-0.751773049645\n",
      "670.34751773\n",
      "540\n",
      "173.386792453\n",
      "310\n",
      "479.330188679\n",
      "[[[173, 540, 479, 310]], [[853, 540, 481, 310]]]\n",
      "-0.666666666667\n",
      "630.666666667\n",
      "540\n",
      "136.0\n",
      "310\n",
      "481.0\n",
      "[[[135, 540, 480, 310]], [[852, 540, 487, 310]]]\n"
     ]
    },
    {
     "name": "stderr",
     "output_type": "stream",
     "text": [
      "\u001b[A\u001b[A\u001b[A\u001b[A\u001b[A\u001b[A\u001b[A\u001b[A\n",
      "\n",
      "\n",
      "\n",
      "\n",
      "\n",
      "\n",
      "\n",
      " 70%|██████▉   | 155/222 [00:37<00:23,  2.90it/s]"
     ]
    },
    {
     "name": "stdout",
     "output_type": "stream",
     "text": [
      "-0.550847457627\n",
      "602.745762712\n",
      "540\n",
      "113.907692308\n",
      "310\n",
      "531.446153846\n",
      "[[[113, 540, 531, 310]], [[851, 540, 484, 310]]]\n",
      "-0.762626262626\n",
      "671.196969697\n",
      "540\n",
      "172.033112583\n",
      "310\n",
      "473.622516556\n",
      "[[[172, 540, 473, 310]], [[853, 540, 489, 310]]]\n"
     ]
    },
    {
     "name": "stderr",
     "output_type": "stream",
     "text": [
      "\u001b[A\u001b[A\u001b[A\u001b[A\u001b[A\u001b[A\u001b[A\u001b[A\n",
      "\n",
      "\n",
      "\n",
      "\n",
      "\n",
      "\n",
      "\n",
      " 70%|███████   | 156/222 [00:37<00:19,  3.36it/s]\u001b[A\u001b[A\u001b[A\u001b[A\u001b[A\u001b[A\u001b[A\u001b[A\n",
      "\n",
      "\n",
      "\n",
      "\n",
      "\n",
      "\n",
      "\n",
      " 71%|███████   | 157/222 [00:37<00:16,  3.85it/s]\u001b[A\u001b[A\u001b[A\u001b[A\u001b[A\u001b[A\u001b[A\u001b[A"
     ]
    },
    {
     "name": "stdout",
     "output_type": "stream",
     "text": [
      "-0.716049382716\n",
      "649.543209877\n",
      "540\n",
      "152.982758621\n",
      "310\n",
      "474.189655172\n",
      "[[[152, 540, 474, 310]], [[852, 540, 481, 310]]]\n"
     ]
    },
    {
     "name": "stderr",
     "output_type": "stream",
     "text": [
      "\n",
      "\n",
      "\n",
      "\n",
      "\n",
      "\n",
      "\n",
      "\n",
      "\r",
      " 71%|███████   | 158/222 [00:38<00:16,  3.77it/s]"
     ]
    },
    {
     "name": "stdout",
     "output_type": "stream",
     "text": [
      "-0.723404255319\n",
      "651.765957447\n",
      "540\n",
      "154.5\n",
      "310\n",
      "472.441176471\n",
      "[[[154, 540, 472, 310]], [[855, 540, 486, 310]]]\n"
     ]
    },
    {
     "name": "stderr",
     "output_type": "stream",
     "text": [
      "\u001b[A\u001b[A\u001b[A\u001b[A\u001b[A\u001b[A\u001b[A\u001b[A\n",
      "\n",
      "\n",
      "\n",
      "\n",
      "\n",
      "\n",
      "\n",
      " 72%|███████▏  | 159/222 [00:38<00:16,  3.72it/s]"
     ]
    },
    {
     "name": "stdout",
     "output_type": "stream",
     "text": [
      "-0.711038961039\n",
      "648.321428571\n",
      "540\n",
      "152.342465753\n",
      "310\n",
      "475.812785388\n",
      "[[[152, 540, 475, 310]], [[857, 540, 488, 310]]]\n"
     ]
    },
    {
     "name": "stderr",
     "output_type": "stream",
     "text": [
      "\u001b[A\u001b[A\u001b[A\u001b[A\u001b[A\u001b[A\u001b[A\u001b[A\n",
      "\n",
      "\n",
      "\n",
      "\n",
      "\n",
      "\n",
      "\n",
      " 72%|███████▏  | 160/222 [00:38<00:15,  4.02it/s]\u001b[A\u001b[A\u001b[A\u001b[A\u001b[A\u001b[A\u001b[A\u001b[A\n",
      "\n",
      "\n",
      "\n",
      "\n",
      "\n",
      "\n",
      "\n",
      " 73%|███████▎  | 161/222 [00:38<00:13,  4.56it/s]"
     ]
    },
    {
     "name": "stdout",
     "output_type": "stream",
     "text": [
      "-0.721153846154\n",
      "651.942307692\n",
      "540\n",
      "155.226666667\n",
      "310\n",
      "474.16\n",
      "[[[155, 540, 474, 310]], [[863, 540, 488, 310]]]\n",
      "-0.720257234727\n",
      "652.241157556\n",
      "540\n",
      "155.834821429\n",
      "310\n",
      "475.165178571\n",
      "[[[155, 540, 475, 310]], [[922, 540, 465, 310]]]\n"
     ]
    },
    {
     "name": "stderr",
     "output_type": "stream",
     "text": [
      "\u001b[A\u001b[A\u001b[A\u001b[A\u001b[A\u001b[A\u001b[A\u001b[A\n",
      "\n",
      "\n",
      "\n",
      "\n",
      "\n",
      "\n",
      "\n",
      " 73%|███████▎  | 162/222 [00:38<00:12,  4.93it/s]\u001b[A\u001b[A\u001b[A\u001b[A\u001b[A\u001b[A\u001b[A\u001b[A"
     ]
    },
    {
     "name": "stdout",
     "output_type": "stream",
     "text": [
      "-0.506578947368\n",
      "578.434210526\n",
      "540\n",
      "75.8701298701\n",
      "310\n",
      "529.896103896\n",
      "[[[75, 540, 529, 310]], [[864, 540, 490, 310]]]\n",
      "-0.493975903614\n",
      "573.831325301\n",
      "540\n",
      "68.487804878\n",
      "310\n",
      "534.097560976\n",
      "[[[68, 540, 534, 310]], [[866, 540, 485, 310]]]\n"
     ]
    },
    {
     "name": "stderr",
     "output_type": "stream",
     "text": [
      "\n",
      "\n",
      "\n",
      "\n",
      "\n",
      "\n",
      "\n",
      "\n",
      " 73%|███████▎  | 163/222 [00:39<00:11,  4.92it/s]\u001b[A\u001b[A\u001b[A\u001b[A\u001b[A\u001b[A\u001b[A\u001b[A\n",
      "\n",
      "\n",
      "\n",
      "\n",
      "\n",
      "\n",
      "\n",
      " 74%|███████▍  | 164/222 [00:39<00:11,  4.87it/s]\u001b[A\u001b[A\u001b[A\u001b[A\u001b[A\u001b[A\u001b[A\u001b[A\n",
      "\n",
      "\n",
      "\n",
      "\n",
      "\n",
      "\n",
      "\n",
      " 74%|███████▍  | 165/222 [00:39<00:11,  5.17it/s]"
     ]
    },
    {
     "name": "stdout",
     "output_type": "stream",
     "text": [
      "-0.533707865169\n",
      "591.797752809\n",
      "540\n",
      "97.0526315789\n",
      "310\n",
      "528.0\n",
      "[[[97, 540, 528, 310]], [[867, 540, 492, 310]]]\n",
      "-0.75\n",
      "667.0\n",
      "540\n",
      "169.333333333\n",
      "310\n",
      "476.0\n",
      "[[[169, 540, 475, 310]], [[876, 540, 463, 310]]]\n"
     ]
    },
    {
     "name": "stderr",
     "output_type": "stream",
     "text": [
      "\u001b[A\u001b[A\u001b[A\u001b[A\u001b[A\u001b[A\u001b[A\u001b[A\n",
      "\n",
      "\n",
      "\n",
      "\n",
      "\n",
      "\n",
      "\n",
      " 75%|███████▍  | 166/222 [00:39<00:10,  5.13it/s]\u001b[A\u001b[A\u001b[A\u001b[A\u001b[A\u001b[A\u001b[A\u001b[A"
     ]
    },
    {
     "name": "stdout",
     "output_type": "stream",
     "text": [
      "-0.4609375\n",
      "554.0703125\n",
      "540\n",
      "30.5254237288\n",
      "310\n",
      "529.508474576\n",
      "[[[30, 540, 529, 310]], [[871, 540, 484, 310]]]\n"
     ]
    },
    {
     "name": "stderr",
     "output_type": "stream",
     "text": [
      "\n",
      "\n",
      "\n",
      "\n",
      "\n",
      "\n",
      "\n",
      "\n",
      "\r",
      " 75%|███████▌  | 167/222 [00:39<00:11,  4.68it/s]"
     ]
    },
    {
     "name": "stdout",
     "output_type": "stream",
     "text": [
      "-0.741573033708\n",
      "664.471910112\n",
      "540\n",
      "167.848484848\n",
      "310\n",
      "478.0\n",
      "[[[167, 540, 477, 310]], [[874, 540, 472, 310]]]\n",
      "-0.598393574297\n",
      "626.558232932\n",
      "540\n",
      "144.651006711\n",
      "310\n",
      "529.013422819\n",
      "[[[144, 540, 529, 310]], [[879, 540, 460, 310]]]\n"
     ]
    },
    {
     "name": "stderr",
     "output_type": "stream",
     "text": [
      "\u001b[A\u001b[A\u001b[A\u001b[A\u001b[A\u001b[A\u001b[A\u001b[A\n",
      "\n",
      "\n",
      "\n",
      "\n",
      "\n",
      "\n",
      "\n",
      " 76%|███████▌  | 168/222 [00:40<00:11,  4.78it/s]\u001b[A\u001b[A\u001b[A\u001b[A\u001b[A\u001b[A\u001b[A\u001b[A\n",
      "\n",
      "\n",
      "\n",
      "\n",
      "\n",
      "\n",
      "\n",
      " 76%|███████▌  | 169/222 [00:40<00:10,  4.93it/s]\u001b[A\u001b[A\u001b[A\u001b[A\u001b[A\u001b[A\u001b[A\u001b[A"
     ]
    },
    {
     "name": "stdout",
     "output_type": "stream",
     "text": [
      "-0.742616033755\n",
      "666.713080169\n",
      "540\n",
      "170.630681818\n",
      "310\n",
      "480.346590909\n",
      "[[[170, 540, 480, 310]], [[870, 540, 477, 310]]]\n",
      "-0.631901840491\n",
      "644.852760736\n",
      "540\n",
      "165.932038835\n",
      "310\n",
      "529.912621359\n",
      "[[[165, 540, 529, 310]], [[907, 540, 474, 310]]]\n"
     ]
    },
    {
     "name": "stderr",
     "output_type": "stream",
     "text": [
      "\n",
      "\n",
      "\n",
      "\n",
      "\u001b[A\u001b[A\u001b[A\u001b[AException in thread Thread-5:\n",
      "Traceback (most recent call last):\n",
      "  File \"//anaconda/envs/py35/lib/python3.5/threading.py\", line 914, in _bootstrap_inner\n",
      "    self.run()\n",
      "  File \"//anaconda/envs/py35/lib/python3.5/site-packages/tqdm/_tqdm.py\", line 102, in run\n",
      "    for instance in self.tqdm_cls._instances:\n",
      "  File \"//anaconda/envs/py35/lib/python3.5/_weakrefset.py\", line 60, in __iter__\n",
      "    for itemref in self.data:\n",
      "RuntimeError: Set changed size during iteration\n",
      "\n",
      "\n",
      "\n",
      "\n",
      "\n",
      "\n",
      "\n",
      "\n",
      " 77%|███████▋  | 170/222 [00:40<00:10,  5.11it/s]\u001b[A\u001b[A\u001b[A\u001b[A\u001b[A\u001b[A\u001b[A\n",
      "\n",
      "\n",
      "\n",
      "\n",
      "\n",
      "\n",
      " 77%|███████▋  | 171/222 [00:40<00:09,  5.11it/s]\u001b[A\u001b[A\u001b[A\u001b[A\u001b[A\u001b[A\u001b[A\n",
      "\n",
      "\n",
      "\n",
      "\n",
      "\n",
      "\n",
      " 77%|███████▋  | 172/222 [00:40<00:09,  5.36it/s]"
     ]
    },
    {
     "name": "stdout",
     "output_type": "stream",
     "text": [
      "-0.64553314121\n",
      "650.968299712\n",
      "540\n",
      "171.901785714\n",
      "310\n",
      "528.196428571\n",
      "[[[171, 540, 528, 310]], [[871, 540, 466, 310]]]\n",
      "-0.772108843537\n",
      "674.891156463\n",
      "540\n",
      "174.704845815\n",
      "310\n",
      "472.59030837\n",
      "[[[174, 540, 472, 310]], [[868, 540, 483, 310]]]\n"
     ]
    },
    {
     "name": "stderr",
     "output_type": "stream",
     "text": [
      "\u001b[A\u001b[A\u001b[A\u001b[A\u001b[A\u001b[A\u001b[A\n",
      "\n",
      "\n",
      "\n",
      "\n",
      "\n",
      "\n",
      " 78%|███████▊  | 173/222 [00:40<00:08,  5.47it/s]\u001b[A\u001b[A\u001b[A\u001b[A\u001b[A\u001b[A\u001b[A\n",
      "\n",
      "\n",
      "\n",
      "\n",
      "\n",
      "\n",
      " 78%|███████▊  | 174/222 [00:41<00:08,  5.72it/s]"
     ]
    },
    {
     "name": "stdout",
     "output_type": "stream",
     "text": [
      "-0.759581881533\n",
      "670.926829268\n",
      "540\n",
      "172.366972477\n",
      "310\n",
      "475.165137615\n",
      "[[[172, 540, 475, 310]], [[870, 540, 481, 310]]]\n",
      "-0.683333333333\n",
      "642.883333333\n",
      "540\n",
      "150.56097561\n",
      "310\n",
      "487.146341463\n",
      "[[[150, 540, 487, 310]], [[868, 540, 472, 310]]]\n"
     ]
    },
    {
     "name": "stderr",
     "output_type": "stream",
     "text": [
      "\u001b[A\u001b[A\u001b[A\u001b[A\u001b[A\u001b[A\u001b[A\n",
      "\n",
      "\n",
      "\n",
      "\n",
      "\n",
      "\n",
      " 79%|███████▉  | 175/222 [00:41<00:08,  5.66it/s]\u001b[A\u001b[A\u001b[A\u001b[A\u001b[A\u001b[A\u001b[A"
     ]
    },
    {
     "name": "stdout",
     "output_type": "stream",
     "text": [
      "-0.512048192771\n",
      "581.385542169\n",
      "540\n",
      "80.8235294118\n",
      "310\n",
      "530.0\n",
      "[[[80, 540, 530, 310]], [[871, 540, 467, 310]]]\n",
      "-0.528735632184\n",
      "590.643678161\n",
      "540\n",
      "95.7826086957\n",
      "310\n",
      "530.782608696\n",
      "[[[95, 540, 530, 310]], [[868, 540, 483, 310]]]\n"
     ]
    },
    {
     "name": "stderr",
     "output_type": "stream",
     "text": [
      "\n",
      "\n",
      "\n",
      "\n",
      "\n",
      "\n",
      "\n",
      " 79%|███████▉  | 176/222 [00:41<00:08,  5.63it/s]\u001b[A\u001b[A\u001b[A\u001b[A\u001b[A\u001b[A\u001b[A\n",
      "\n",
      "\n",
      "\n",
      "\n",
      "\n",
      "\n",
      " 80%|███████▉  | 177/222 [00:41<00:07,  5.84it/s]\u001b[A\u001b[A\u001b[A\u001b[A\u001b[A\u001b[A\u001b[A\n",
      "\n",
      "\n",
      "\n",
      "\n",
      "\n",
      "\n",
      " 80%|████████  | 178/222 [00:41<00:07,  6.02it/s]"
     ]
    },
    {
     "name": "stdout",
     "output_type": "stream",
     "text": [
      "-0.546875\n",
      "601.484375\n",
      "540\n",
      "112.428571429\n",
      "310\n",
      "533.0\n",
      "[[[112, 540, 532, 310]], [[863, 540, 489, 310]]]\n",
      "-0.516129032258\n",
      "584.483870968\n",
      "540\n",
      "86.1875\n",
      "310\n",
      "531.8125\n",
      "[[[86, 540, 531, 310]], [[865, 540, 479, 310]]]\n"
     ]
    },
    {
     "name": "stderr",
     "output_type": "stream",
     "text": [
      "\u001b[A\u001b[A\u001b[A\u001b[A\u001b[A\u001b[A\u001b[A\n",
      "\n",
      "\n",
      "\n",
      "\n",
      "\n",
      "\n",
      " 81%|████████  | 179/222 [00:41<00:07,  5.98it/s]\u001b[A\u001b[A\u001b[A\u001b[A\u001b[A\u001b[A\u001b[A"
     ]
    },
    {
     "name": "stdout",
     "output_type": "stream",
     "text": [
      "-0.739726027397\n",
      "665.97260274\n",
      "540\n",
      "170.296296296\n",
      "310\n",
      "481.222222222\n",
      "[[[170, 540, 481, 310]], [[864, 540, 497, 310]]]\n",
      "-0.600823045267\n",
      "628.432098765\n",
      "540\n",
      "147.184931507\n",
      "310\n",
      "529.993150685\n",
      "[[[147, 540, 529, 310]], [[897, 540, 484, 310]]]\n"
     ]
    },
    {
     "name": "stderr",
     "output_type": "stream",
     "text": [
      "\n",
      "\n",
      "\n",
      "\n",
      "\n",
      "\n",
      "\n",
      " 81%|████████  | 180/222 [00:42<00:07,  5.82it/s]\u001b[A\u001b[A\u001b[A\u001b[A\u001b[A\u001b[A\u001b[A\n",
      "\n",
      "\n",
      "\n",
      "\n",
      "\n",
      "\n",
      " 82%|████████▏ | 181/222 [00:42<00:06,  5.98it/s]\u001b[A\u001b[A\u001b[A\u001b[A\u001b[A\u001b[A\u001b[A\n",
      "\n",
      "\n",
      "\n",
      "\n",
      "\n",
      "\n",
      " 82%|████████▏ | 182/222 [00:42<00:06,  6.04it/s]"
     ]
    },
    {
     "name": "stdout",
     "output_type": "stream",
     "text": [
      "-0.77130044843\n",
      "680.367713004\n",
      "540\n",
      "181.988372093\n",
      "310\n",
      "480.186046512\n",
      "[[[181, 540, 480, 310]], [[867, 540, 491, 310]]]\n",
      "-0.770676691729\n",
      "677.530075188\n",
      "540\n",
      "178.453658537\n",
      "310\n",
      "476.892682927\n",
      "[[[178, 540, 476, 310]], [[870, 540, 489, 310]]]\n"
     ]
    },
    {
     "name": "stderr",
     "output_type": "stream",
     "text": [
      "\u001b[A\u001b[A\u001b[A\u001b[A\u001b[A\u001b[A\u001b[A\n",
      "\n",
      "\n",
      "\n",
      "\n",
      "\n",
      "\n",
      " 82%|████████▏ | 183/222 [00:42<00:06,  5.77it/s]\u001b[A\u001b[A\u001b[A\u001b[A\u001b[A\u001b[A\u001b[A\n",
      "\n",
      "\n",
      "\n",
      "\n",
      "\n",
      "\n",
      " 83%|████████▎ | 184/222 [00:42<00:06,  5.99it/s]"
     ]
    },
    {
     "name": "stdout",
     "output_type": "stream",
     "text": [
      "-0.701538461538\n",
      "664.978461538\n",
      "540\n",
      "178.149122807\n",
      "310\n",
      "506.0\n",
      "[[[178, 540, 506, 310]], [[892, 540, 493, 310]]]\n",
      "-0.828685258964\n",
      "702.996015936\n",
      "540\n",
      "196.692307692\n",
      "310\n",
      "474.240384615\n",
      "[[[196, 540, 474, 310]], [[892, 540, 492, 310]]]\n"
     ]
    },
    {
     "name": "stderr",
     "output_type": "stream",
     "text": [
      "\u001b[A\u001b[A\u001b[A\u001b[A\u001b[A\u001b[A\u001b[A\n",
      "\n",
      "\n",
      "\n",
      "\n",
      "\n",
      "\n",
      " 83%|████████▎ | 185/222 [00:42<00:06,  6.02it/s]\u001b[A\u001b[A\u001b[A\u001b[A\u001b[A\u001b[A\u001b[A"
     ]
    },
    {
     "name": "stdout",
     "output_type": "stream",
     "text": [
      "-0.475862068966\n",
      "565.255172414\n",
      "540\n",
      "53.0724637681\n",
      "310\n",
      "536.405797101\n",
      "[[[53, 540, 536, 310]], [[873, 540, 489, 310]]]\n",
      "-0.730769230769\n",
      "659.576923077\n",
      "540\n",
      "163.631578947\n",
      "310\n",
      "478.368421053\n",
      "[[[163, 540, 478, 310]], [[872, 540, 483, 310]]]\n"
     ]
    },
    {
     "name": "stderr",
     "output_type": "stream",
     "text": [
      "\n",
      "\n",
      "\n",
      "\n",
      "\n",
      "\n",
      "\n",
      " 84%|████████▍ | 186/222 [00:43<00:06,  5.86it/s]\u001b[A\u001b[A\u001b[A\u001b[A\u001b[A\u001b[A\u001b[A\n",
      "\n",
      "\n",
      "\n",
      "\n",
      "\n",
      "\n",
      " 84%|████████▍ | 187/222 [00:43<00:05,  5.94it/s]\u001b[A\u001b[A\u001b[A\u001b[A\u001b[A\u001b[A\u001b[A\n",
      "\n",
      "\n",
      "\n",
      "\n",
      "\n",
      "\n",
      " 85%|████████▍ | 188/222 [00:43<00:05,  5.99it/s]"
     ]
    },
    {
     "name": "stdout",
     "output_type": "stream",
     "text": [
      "-0.759615384615\n",
      "670.5\n",
      "540\n",
      "171.797468354\n",
      "310\n",
      "474.582278481\n",
      "[[[171, 540, 474, 310]], [[874, 540, 474, 310]]]\n",
      "-0.728\n",
      "657.256\n",
      "540\n",
      "161.065934066\n",
      "310\n",
      "477.0\n",
      "[[[161, 540, 476, 310]], [[875, 540, 484, 310]]]\n"
     ]
    },
    {
     "name": "stderr",
     "output_type": "stream",
     "text": [
      "\u001b[A\u001b[A\u001b[A\u001b[A\u001b[A\u001b[A\u001b[A\n",
      "\n",
      "\n",
      "\n",
      "\n",
      "\n",
      "\n",
      " 85%|████████▌ | 189/222 [00:43<00:05,  5.67it/s]\u001b[A\u001b[A\u001b[A\u001b[A\u001b[A\u001b[A\u001b[A"
     ]
    },
    {
     "name": "stdout",
     "output_type": "stream",
     "text": [
      "-0.755905511811\n",
      "667.007874016\n",
      "540\n",
      "168.020833333\n",
      "310\n",
      "472.291666667\n",
      "[[[168, 540, 472, 310]], [[882, 540, 487, 310]]]\n",
      "-0.809523809524\n",
      "687.333333333\n",
      "540\n",
      "182.0\n",
      "310\n",
      "466.117647059\n"
     ]
    },
    {
     "name": "stderr",
     "output_type": "stream",
     "text": [
      "\n",
      "\n",
      "\n",
      "\n",
      "\n",
      "\n",
      "\n",
      "\r",
      " 86%|████████▌ | 190/222 [00:43<00:06,  5.31it/s]"
     ]
    },
    {
     "name": "stdout",
     "output_type": "stream",
     "text": [
      "[[[181, 540, 466, 310]], [[891, 540, 488, 310]]]\n"
     ]
    },
    {
     "name": "stderr",
     "output_type": "stream",
     "text": [
      "\u001b[A\u001b[A\u001b[A\u001b[A\u001b[A\u001b[A\u001b[A\n",
      "\n",
      "\n",
      "\n",
      "\n",
      "\n",
      "\n",
      " 86%|████████▌ | 191/222 [00:44<00:06,  4.90it/s]"
     ]
    },
    {
     "name": "stdout",
     "output_type": "stream",
     "text": [
      "-0.75625\n",
      "666.4125\n",
      "540\n",
      "167.157024793\n",
      "310\n",
      "471.289256198\n",
      "[[[167, 540, 471, 310]], [[934, 540, 490, 310]]]\n"
     ]
    },
    {
     "name": "stderr",
     "output_type": "stream",
     "text": [
      "\u001b[A\u001b[A\u001b[A\u001b[A\u001b[A\u001b[A\u001b[A\n",
      "\n",
      "\n",
      "\n",
      "\n",
      "\n",
      "\n",
      " 86%|████████▋ | 192/222 [00:44<00:06,  4.74it/s]"
     ]
    },
    {
     "name": "stdout",
     "output_type": "stream",
     "text": [
      "-0.584677419355\n",
      "622.294354839\n",
      "540\n",
      "140.751724138\n",
      "310\n",
      "534.131034483\n",
      "[[[140, 540, 534, 310]], [[931, 540, 475, 310]]]\n",
      "-0.747826086957\n",
      "669.956521739\n",
      "540\n",
      "173.779069767\n",
      "310\n",
      "481.337209302\n",
      "[[[173, 540, 481, 310]], [[892, 540, 471, 310]]]\n"
     ]
    },
    {
     "name": "stderr",
     "output_type": "stream",
     "text": [
      "\u001b[A\u001b[A\u001b[A\u001b[A\u001b[A\u001b[A\u001b[A\n",
      "\n",
      "\n",
      "\n",
      "\n",
      "\n",
      "\n",
      " 87%|████████▋ | 193/222 [00:44<00:05,  4.99it/s]\u001b[A\u001b[A\u001b[A\u001b[A\u001b[A\u001b[A\u001b[A\n",
      "\n",
      "\n",
      "\n",
      "\n",
      "\n",
      "\n",
      " 87%|████████▋ | 194/222 [00:44<00:06,  4.39it/s]"
     ]
    },
    {
     "name": "stdout",
     "output_type": "stream",
     "text": [
      "-0.754578754579\n",
      "671.688644689\n",
      "540\n",
      "174.519417476\n",
      "310\n",
      "479.325242718\n",
      "[[[174, 540, 479, 310]], [[904, 540, 463, 310]]]\n"
     ]
    },
    {
     "name": "stderr",
     "output_type": "stream",
     "text": [
      "\u001b[A\u001b[A\u001b[A\u001b[A\u001b[A\u001b[A\u001b[A\n",
      "\n",
      "\n",
      "\n",
      "\n",
      "\n",
      "\n",
      " 88%|████████▊ | 195/222 [00:45<00:06,  4.13it/s]"
     ]
    },
    {
     "name": "stdout",
     "output_type": "stream",
     "text": [
      "-0.635097493036\n",
      "652.04735376\n",
      "540\n",
      "176.425438596\n",
      "310\n",
      "538.574561404\n",
      "[[[176, 540, 538, 310]], [[880, 540, 468, 310]]]\n",
      "-0.660766961652\n",
      "655.616519174\n",
      "540\n",
      "174.973214286\n",
      "310\n",
      "523.053571429\n",
      "[[[174, 540, 523, 310]], [[874, 540, 479, 310]]]\n"
     ]
    },
    {
     "name": "stderr",
     "output_type": "stream",
     "text": [
      "\u001b[A\u001b[A\u001b[A\u001b[A\u001b[A\u001b[A\u001b[A\n",
      "\n",
      "\n",
      "\n",
      "\n",
      "\n",
      "\n",
      " 88%|████████▊ | 196/222 [00:45<00:05,  4.53it/s]\u001b[A\u001b[A\u001b[A\u001b[A\u001b[A\u001b[A\u001b[A\n",
      "\n",
      "\n",
      "\n",
      "\n",
      "\n",
      "\n",
      " 89%|████████▊ | 197/222 [00:45<00:05,  4.44it/s]"
     ]
    },
    {
     "name": "stdout",
     "output_type": "stream",
     "text": [
      "-0.775862068966\n",
      "677.879310345\n",
      "540\n",
      "177.711111111\n",
      "310\n",
      "474.155555556\n",
      "[[[177, 540, 474, 310]], [[874, 540, 476, 310]]]\n"
     ]
    },
    {
     "name": "stderr",
     "output_type": "stream",
     "text": [
      "\u001b[A\u001b[A\u001b[A\u001b[A\u001b[A\u001b[A\u001b[A\n",
      "\n",
      "\n",
      "\n",
      "\n",
      "\n",
      "\n",
      " 89%|████████▉ | 198/222 [00:45<00:05,  4.23it/s]"
     ]
    },
    {
     "name": "stdout",
     "output_type": "stream",
     "text": [
      "-0.728971962617\n",
      "659.177570093\n",
      "540\n",
      "163.487179487\n",
      "310\n",
      "479.0\n",
      "[[[163, 540, 478, 310]], [[879, 540, 469, 310]]]\n"
     ]
    },
    {
     "name": "stderr",
     "output_type": "stream",
     "text": [
      "\u001b[A\u001b[A\u001b[A\u001b[A\u001b[A\u001b[A\u001b[A\n",
      "\n",
      "\n",
      "\n",
      "\n",
      "\n",
      "\n",
      " 90%|████████▉ | 199/222 [00:46<00:05,  4.04it/s]"
     ]
    },
    {
     "name": "stdout",
     "output_type": "stream",
     "text": [
      "-0.541401273885\n",
      "591.52866242\n",
      "540\n",
      "95.1764705882\n",
      "310\n",
      "520.0\n",
      "[[[95, 540, 520, 310]], [[888, 540, 474, 310]]]\n",
      "-0.58024691358\n",
      "608.24691358\n",
      "540\n",
      "117.617021277\n",
      "310\n",
      "514.0\n",
      "[[[117, 540, 513, 310]], [[876, 540, 477, 310]]]\n"
     ]
    },
    {
     "name": "stderr",
     "output_type": "stream",
     "text": [
      "\u001b[A\u001b[A\u001b[A\u001b[A\u001b[A\u001b[A\u001b[A\n",
      "\n",
      "\n",
      "\n",
      "\n",
      "\n",
      "\n",
      " 90%|█████████ | 200/222 [00:46<00:04,  4.43it/s]\u001b[A\u001b[A\u001b[A\u001b[A\u001b[A\u001b[A\u001b[A\n",
      "\n",
      "\n",
      "\n",
      "\n",
      "\n",
      "\n",
      " 91%|█████████ | 201/222 [00:46<00:04,  4.42it/s]"
     ]
    },
    {
     "name": "stdout",
     "output_type": "stream",
     "text": [
      "-0.652631578947\n",
      "648.410526316\n",
      "540\n",
      "166.112903226\n",
      "310\n",
      "518.532258065\n",
      "[[[166, 540, 518, 310]], [[904, 540, 478, 310]]]\n"
     ]
    },
    {
     "name": "stderr",
     "output_type": "stream",
     "text": [
      "\u001b[A\u001b[A\u001b[A\u001b[A\u001b[A\u001b[A\u001b[A\n",
      "\n",
      "\n",
      "\n",
      "\n",
      "\n",
      "\n",
      " 91%|█████████ | 202/222 [00:46<00:04,  4.25it/s]"
     ]
    },
    {
     "name": "stdout",
     "output_type": "stream",
     "text": [
      "-0.693037974684\n",
      "663.905063291\n",
      "540\n",
      "178.785388128\n",
      "310\n",
      "510.657534247\n",
      "[[[178, 540, 510, 310]], [[879, 540, 484, 310]]]\n",
      "-0.563318777293\n",
      "611.812227074\n",
      "540\n",
      "127.480620155\n",
      "310"
     ]
    },
    {
     "name": "stderr",
     "output_type": "stream",
     "text": [
      "\u001b[A\u001b[A\u001b[A\u001b[A\u001b[A\u001b[A\u001b[A\n",
      "\n",
      "\n",
      "\n",
      "\n",
      "\n",
      "\n",
      " 91%|█████████▏| 203/222 [00:46<00:04,  4.47it/s]\u001b[A\u001b[A\u001b[A\u001b[A\u001b[A\u001b[A\u001b[A\n",
      "\n",
      "\n",
      "\n",
      "\n",
      "\n",
      "\n",
      " 92%|█████████▏| 204/222 [00:47<00:03,  4.79it/s]"
     ]
    },
    {
     "name": "stdout",
     "output_type": "stream",
     "text": [
      "\n",
      "535.775193798\n",
      "[[[127, 540, 535, 310]], [[875, 540, 485, 310]]]\n",
      "-0.577075098814\n",
      "619.581027668\n",
      "540\n",
      "137.904109589\n",
      "310\n",
      "536.465753425\n",
      "[[[137, 540, 536, 310]], [[910, 540, 485, 310]]]\n"
     ]
    },
    {
     "name": "stderr",
     "output_type": "stream",
     "text": [
      "\u001b[A\u001b[A\u001b[A\u001b[A\u001b[A\u001b[A\u001b[A\n",
      "\n",
      "\n",
      "\n",
      "\n",
      "\n",
      "\n",
      " 92%|█████████▏| 205/222 [00:47<00:03,  4.54it/s]"
     ]
    },
    {
     "name": "stdout",
     "output_type": "stream",
     "text": [
      "-0.747826086957\n",
      "668.208695652\n",
      "540\n",
      "171.441860465\n",
      "310\n",
      "479.0\n",
      "[[[171, 540, 478, 310]], [[887, 540, 482, 310]]]\n"
     ]
    },
    {
     "name": "stderr",
     "output_type": "stream",
     "text": [
      "\u001b[A\u001b[A\u001b[A\u001b[A\u001b[A\u001b[A\u001b[A\n",
      "\n",
      "\n",
      "\n",
      "\n",
      "\n",
      "\n",
      " 93%|█████████▎| 206/222 [00:47<00:03,  4.26it/s]"
     ]
    },
    {
     "name": "stdout",
     "output_type": "stream",
     "text": [
      "-0.772549019608\n",
      "676.37254902\n",
      "540\n",
      "176.52284264\n",
      "310\n",
      "474.23857868\n",
      "[[[176, 540, 474, 310]], [[885, 540, 484, 310]]]\n"
     ]
    },
    {
     "name": "stderr",
     "output_type": "stream",
     "text": [
      "\u001b[A\u001b[A\u001b[A\u001b[A\u001b[A\u001b[A\u001b[A\n",
      "\n",
      "\n",
      "\n",
      "\n",
      "\n",
      "\n",
      " 93%|█████████▎| 207/222 [00:47<00:03,  4.12it/s]\u001b[A\u001b[A\u001b[A\u001b[A\u001b[A\u001b[A\u001b[A\n",
      "\n",
      "\n",
      "\n",
      "\n",
      "\n",
      "\n",
      " 94%|█████████▎| 208/222 [00:48<00:03,  4.57it/s]"
     ]
    },
    {
     "name": "stdout",
     "output_type": "stream",
     "text": [
      "-0.762237762238\n",
      "672.153846154\n",
      "540\n",
      "173.376146789\n",
      "310\n",
      "475.119266055\n",
      "[[[173, 540, 475, 310]], [[931, 540, 478, 310]]]\n",
      "-0.744827586207\n",
      "668.027586207\n",
      "540\n",
      "171.888888889\n",
      "310\n",
      "480.685185185\n",
      "[[[171, 540, 480, 310]], [[925, 540, 482, 310]]]\n"
     ]
    },
    {
     "name": "stderr",
     "output_type": "stream",
     "text": [
      "\u001b[A\u001b[A\u001b[A\u001b[A\u001b[A\u001b[A\u001b[A\n",
      "\n",
      "\n",
      "\n",
      "\n",
      "\n",
      "\n",
      " 94%|█████████▍| 209/222 [00:48<00:02,  4.50it/s]"
     ]
    },
    {
     "name": "stdout",
     "output_type": "stream",
     "text": [
      "-0.771626297578\n",
      "674.577854671\n",
      "540\n",
      "174.408071749\n",
      "310\n",
      "472.479820628\n",
      "[[[174, 540, 472, 310]], [[931, 540, 474, 310]]]\n"
     ]
    },
    {
     "name": "stderr",
     "output_type": "stream",
     "text": [
      "\u001b[A\u001b[A\u001b[A\u001b[A\u001b[A\u001b[A\u001b[A\n",
      "\n",
      "\n",
      "\n",
      "\n",
      "\n",
      "\n",
      " 95%|█████████▍| 210/222 [00:48<00:02,  4.55it/s]"
     ]
    },
    {
     "name": "stdout",
     "output_type": "stream",
     "text": [
      "-0.456790123457\n",
      "556.382716049\n",
      "540\n",
      "35.8648648649\n",
      "310\n",
      "539.378378378\n",
      "[[[35, 540, 539, 310]], [[922, 540, 479, 310]]]\n"
     ]
    },
    {
     "name": "stderr",
     "output_type": "stream",
     "text": [
      "\u001b[A\u001b[A\u001b[A\u001b[A\u001b[A\u001b[A\u001b[A\n",
      "\n",
      "\n",
      "\n",
      "\n",
      "\n",
      "\n",
      " 95%|█████████▌| 211/222 [00:48<00:02,  4.28it/s]"
     ]
    },
    {
     "name": "stdout",
     "output_type": "stream",
     "text": [
      "-0.470930232558\n",
      "564.418604651\n",
      "540\n",
      "51.8518518519\n",
      "310\n",
      "540.24691358\n",
      "[[[51, 540, 540, 310]], [[888, 540, 486, 310]]]\n"
     ]
    },
    {
     "name": "stderr",
     "output_type": "stream",
     "text": [
      "\u001b[A\u001b[A\u001b[A\u001b[A\u001b[A\u001b[A\u001b[A\n",
      "\n",
      "\n",
      "\n",
      "\n",
      "\n",
      "\n",
      " 95%|█████████▌| 212/222 [00:48<00:02,  4.37it/s]"
     ]
    },
    {
     "name": "stdout",
     "output_type": "stream",
     "text": [
      "-0.467391304348\n",
      "566.989130435\n",
      "540\n",
      "57.7441860465\n",
      "310\n",
      "549.837209302\n",
      "[[[57, 540, 549, 310]], [[925, 540, 477, 310]]]\n"
     ]
    },
    {
     "name": "stderr",
     "output_type": "stream",
     "text": [
      "\u001b[A\u001b[A\u001b[A\u001b[A\u001b[A\u001b[A\u001b[A\n",
      "\n",
      "\n",
      "\n",
      "\n",
      "\n",
      "\n",
      " 96%|█████████▌| 213/222 [00:49<00:02,  4.26it/s]"
     ]
    },
    {
     "name": "stdout",
     "output_type": "stream",
     "text": [
      "-0.510101010101\n",
      "586.434343434\n",
      "540\n",
      "91.0297029703\n",
      "310\n",
      "541.920792079\n",
      "[[[91, 540, 541, 310]], [[916, 540, 480, 310]]]\n"
     ]
    },
    {
     "name": "stderr",
     "output_type": "stream",
     "text": [
      "\u001b[A\u001b[A\u001b[A\u001b[A\u001b[A\u001b[A\u001b[A\n",
      "\n",
      "\n",
      "\n",
      "\n",
      "\n",
      "\n",
      " 96%|█████████▋| 214/222 [00:49<00:01,  4.02it/s]"
     ]
    },
    {
     "name": "stdout",
     "output_type": "stream",
     "text": [
      "-0.74358974359\n",
      "667.666666667\n",
      "540\n",
      "171.689655172\n",
      "310\n",
      "481.0\n",
      "[[[171, 540, 480, 310]], [[908, 540, 483, 310]]]\n"
     ]
    },
    {
     "name": "stderr",
     "output_type": "stream",
     "text": [
      "\u001b[A\u001b[A\u001b[A\u001b[A\u001b[A\u001b[A\u001b[A\n",
      "\n",
      "\n",
      "\n",
      "\n",
      "\n",
      "\n",
      " 97%|█████████▋| 215/222 [00:49<00:01,  4.02it/s]\u001b[A\u001b[A\u001b[A\u001b[A\u001b[A\u001b[A\u001b[A\n",
      "\n",
      "\n",
      "\n",
      "\n",
      "\n",
      "\n",
      " 97%|█████████▋| 216/222 [00:49<00:01,  4.52it/s]"
     ]
    },
    {
     "name": "stdout",
     "output_type": "stream",
     "text": [
      "-0.738636363636\n",
      "666.284090909\n",
      "540\n",
      "170.969230769\n",
      "310\n",
      "482.353846154\n",
      "[[[170, 540, 482, 310]], [[894, 540, 476, 310]]]\n",
      "-0.605577689243\n",
      "631.561752988\n",
      "540\n",
      "151.197368421\n",
      "310\n",
      "531.0\n",
      "[[[151, 540, 530, 310]], [[908, 540, 477, 310]]]\n"
     ]
    },
    {
     "name": "stderr",
     "output_type": "stream",
     "text": [
      "\u001b[A\u001b[A\u001b[A\u001b[A\u001b[A\u001b[A\u001b[A\n",
      "\n",
      "\n",
      "\n",
      "\n",
      "\n",
      "\n",
      " 98%|█████████▊| 217/222 [00:50<00:01,  4.34it/s]"
     ]
    },
    {
     "name": "stdout",
     "output_type": "stream",
     "text": [
      "-0.628158844765\n",
      "640.783393502\n",
      "540\n",
      "160.442528736\n",
      "310\n",
      "526.591954023\n",
      "[[[160, 540, 526, 310]], [[883, 540, 480, 310]]]\n"
     ]
    },
    {
     "name": "stderr",
     "output_type": "stream",
     "text": [
      "\u001b[A\u001b[A\u001b[A\u001b[A\u001b[A\u001b[A\u001b[A\n",
      "\n",
      "\n",
      "\n",
      "\n",
      "\n",
      "\n",
      " 98%|█████████▊| 218/222 [00:50<00:00,  4.17it/s]"
     ]
    },
    {
     "name": "stdout",
     "output_type": "stream",
     "text": [
      "-0.748062015504\n",
      "670.856589147\n",
      "540\n",
      "174.92746114\n",
      "310\n",
      "482.388601036\n",
      "[[[174, 540, 482, 310]], [[908, 540, 481, 310]]]\n"
     ]
    },
    {
     "name": "stderr",
     "output_type": "stream",
     "text": [
      "\u001b[A\u001b[A\u001b[A\u001b[A\u001b[A\u001b[A\u001b[A\n",
      "\n",
      "\n",
      "\n",
      "\n",
      "\n",
      "\n",
      " 99%|█████████▊| 219/222 [00:50<00:00,  4.16it/s]\u001b[A\u001b[A\u001b[A\u001b[A\u001b[A\u001b[A\u001b[A\n",
      "\n",
      "\n",
      "\n",
      "\n",
      "\n",
      "\n",
      " 99%|█████████▉| 220/222 [00:50<00:00,  4.59it/s]"
     ]
    },
    {
     "name": "stdout",
     "output_type": "stream",
     "text": [
      "-0.618784530387\n",
      "647.524861878\n",
      "540\n",
      "173.767857143\n",
      "310\n",
      "545.464285714\n",
      "[[[173, 540, 545, 310]], [[896, 540, 486, 310]]]\n",
      "-0.62258953168\n",
      "648.575757576\n",
      "540\n",
      "174.39380531\n",
      "310\n",
      "543.818584071\n",
      "[[[174, 540, 543, 310]], [[900, 540, 481, 310]]]\n"
     ]
    },
    {
     "name": "stderr",
     "output_type": "stream",
     "text": [
      "\u001b[A\u001b[A\u001b[A\u001b[A\u001b[A\u001b[A\u001b[A\n",
      "\n",
      "\n",
      "\n",
      "\n",
      "\n",
      "\n",
      "100%|█████████▉| 221/222 [00:51<00:00,  4.42it/s]"
     ]
    },
    {
     "name": "stdout",
     "output_type": "stream",
     "text": [
      "-0.701923076923\n",
      "649.326923077\n",
      "540\n",
      "155.753424658\n",
      "310\n",
      "483.424657534\n",
      "[[[155, 540, 483, 310]], [[877, 540, 480, 310]]]\n"
     ]
    },
    {
     "name": "stderr",
     "output_type": "stream",
     "text": [
      "\u001b[A\u001b[A\u001b[A\u001b[A\u001b[A\u001b[A\u001b[A\n",
      "\n",
      "\n",
      "\n",
      "\n",
      "\n",
      "\n",
      "\u001b[A\u001b[A\u001b[A\u001b[A\u001b[A\u001b[A\u001b[A"
     ]
    },
    {
     "name": "stdout",
     "output_type": "stream",
     "text": [
      "[MoviePy] Done.\n",
      "[MoviePy] >>>> Video ready: white.mp4 \n",
      "\n",
      "CPU times: user 36.8 s, sys: 3.37 s, total: 40.2 s\n",
      "Wall time: 52.5 s\n"
     ]
    }
   ],
   "source": [
    "white_output = 'white.mp4'\n",
    "clip1 = VideoFileClip(\"solidWhiteRight.mp4\")\n",
    "white_clip = clip1.fl_image(process_image) #NOTE: this function expects color images!!\n",
    "%time white_clip.write_videofile(white_output, audio=False)"
   ]
  },
  {
   "cell_type": "markdown",
   "metadata": {},
   "source": [
    "Play the video inline, or if you prefer find the video in your filesystem (should be in the same directory) and play it in your video player of choice."
   ]
  },
  {
   "cell_type": "code",
   "execution_count": null,
   "metadata": {
    "collapsed": false
   },
   "outputs": [],
   "source": [
    "HTML(\"\"\"\n",
    "<video width=\"960\" height=\"540\" controls>\n",
    "  <source src=\"{0}\">\n",
    "</video>\n",
    "\"\"\".format(white_output))"
   ]
  },
  {
   "cell_type": "markdown",
   "metadata": {},
   "source": [
    "**At this point, if you were successful you probably have the Hough line segments drawn onto the road, but what about identifying the full extent of the lane and marking it clearly as in the example video (P1_example.mp4)?  Think about defining a line to run the full length of the visible lane based on the line segments you identified with the Hough Transform.  Modify your draw_lines function accordingly and try re-running your pipeline.**"
   ]
  },
  {
   "cell_type": "markdown",
   "metadata": {},
   "source": [
    "Now for the one with the solid yellow lane on the left. This one's more tricky!"
   ]
  },
  {
   "cell_type": "code",
   "execution_count": null,
   "metadata": {
    "collapsed": false
   },
   "outputs": [
    {
     "name": "stdout",
     "output_type": "stream",
     "text": [
      "[MoviePy] >>>> Building video yellow.mp4\n",
      "[MoviePy] Writing video yellow.mp4\n"
     ]
    },
    {
     "name": "stderr",
     "output_type": "stream",
     "text": [
      "100%|█████████▉| 681/682 [02:26<00:00,  5.87it/s]     | 1/682 [00:00<02:48,  4.05it/s]\n"
     ]
    },
    {
     "name": "stdout",
     "output_type": "stream",
     "text": [
      "[MoviePy] Done.\n",
      "[MoviePy] >>>> Video ready: yellow.mp4 \n",
      "\n",
      "CPU times: user 1min 50s, sys: 6.39 s, total: 1min 56s\n",
      "Wall time: 2min 27s\n"
     ]
    }
   ],
   "source": [
    "yellow_output = 'yellow.mp4'\n",
    "clip2 = VideoFileClip('solidYellowLeft.mp4')\n",
    "yellow_clip = clip2.fl_image(process_image)\n",
    "%time yellow_clip.write_videofile(yellow_output, audio=False)"
   ]
  },
  {
   "cell_type": "code",
   "execution_count": null,
   "metadata": {
    "collapsed": false
   },
   "outputs": [],
   "source": [
    "HTML(\"\"\"\n",
    "<video width=\"960\" height=\"540\" controls>\n",
    "  <source src=\"{0}\">\n",
    "</video>\n",
    "\"\"\".format(yellow_output))"
   ]
  },
  {
   "cell_type": "markdown",
   "metadata": {},
   "source": [
    "## Reflections\n",
    "\n",
    "Congratulations on finding the lane lines!  As the final step in this project, we would like you to share your thoughts on your lane finding pipeline... specifically, how could you imagine making your algorithm better / more robust?  Where will your current algorithm be likely to fail?\n",
    "\n",
    "Please add your thoughts below,  and if you're up for making your pipeline more robust, be sure to scroll down and check out the optional challenge video below!\n",
    "\n",
    "I think I could make my algorithm more robust by using the starting and end points of the lines detected though the Hough Transform as input to a linear regression. This would make extrapolation take into consideration all the lines that have been detected, not just the line with the longest length.\n",
    "\n",
    "The current algorithm will be likely to fail in situations where there is a S-bend in the road, as we are doing linear extrapolation."
   ]
  },
  {
   "cell_type": "markdown",
   "metadata": {},
   "source": [
    "## Submission\n",
    "\n",
    "If you're satisfied with your video outputs it's time to submit!  Submit this ipython notebook for review.\n"
   ]
  },
  {
   "cell_type": "markdown",
   "metadata": {
    "collapsed": true
   },
   "source": [
    "## Optional Challenge\n",
    "\n",
    "Try your lane finding pipeline on the video below.  Does it still work?  Can you figure out a way to make it more robust?  If you're up for the challenge, modify your pipeline so it works with this video and submit it along with the rest of your project!"
   ]
  },
  {
   "cell_type": "code",
   "execution_count": 31,
   "metadata": {
    "collapsed": false
   },
   "outputs": [
    {
     "name": "stdout",
     "output_type": "stream",
     "text": [
      "[MoviePy] >>>> Building video extra.mp4\n",
      "[MoviePy] Writing video extra.mp4\n"
     ]
    },
    {
     "name": "stderr",
     "output_type": "stream",
     "text": [
      "  0%|          | 0/251 [00:00<?, ?it/s]  0%|          | 1/251 [00:00<01:24,  2.94it/s]"
     ]
    },
    {
     "ename": "ZeroDivisionError",
     "evalue": "('float division by zero', 'occurred at index 45')",
     "output_type": "error",
     "traceback": [
      "\u001b[0;31m---------------------------------------------------------------------------\u001b[0m",
      "\u001b[0;31mZeroDivisionError\u001b[0m                         Traceback (most recent call last)",
      "\u001b[0;32m<ipython-input-31-acb715cf3d57>\u001b[0m in \u001b[0;36m<module>\u001b[0;34m()\u001b[0m\n\u001b[1;32m      2\u001b[0m \u001b[0mclip2\u001b[0m \u001b[0;34m=\u001b[0m \u001b[0mVideoFileClip\u001b[0m\u001b[0;34m(\u001b[0m\u001b[0;34m'challenge.mp4'\u001b[0m\u001b[0;34m)\u001b[0m\u001b[0;34m\u001b[0m\u001b[0m\n\u001b[1;32m      3\u001b[0m \u001b[0mchallenge_clip\u001b[0m \u001b[0;34m=\u001b[0m \u001b[0mclip2\u001b[0m\u001b[0;34m.\u001b[0m\u001b[0mfl_image\u001b[0m\u001b[0;34m(\u001b[0m\u001b[0mprocess_image\u001b[0m\u001b[0;34m)\u001b[0m\u001b[0;34m\u001b[0m\u001b[0m\n\u001b[0;32m----> 4\u001b[0;31m \u001b[0mget_ipython\u001b[0m\u001b[0;34m(\u001b[0m\u001b[0;34m)\u001b[0m\u001b[0;34m.\u001b[0m\u001b[0mmagic\u001b[0m\u001b[0;34m(\u001b[0m\u001b[0;34m'time challenge_clip.write_videofile(challenge_output, audio=False)'\u001b[0m\u001b[0;34m)\u001b[0m\u001b[0;34m\u001b[0m\u001b[0m\n\u001b[0m",
      "\u001b[0;32m//anaconda/envs/py35/lib/python3.5/site-packages/IPython/core/interactiveshell.py\u001b[0m in \u001b[0;36mmagic\u001b[0;34m(self, arg_s)\u001b[0m\n\u001b[1;32m   2156\u001b[0m         \u001b[0mmagic_name\u001b[0m\u001b[0;34m,\u001b[0m \u001b[0m_\u001b[0m\u001b[0;34m,\u001b[0m \u001b[0mmagic_arg_s\u001b[0m \u001b[0;34m=\u001b[0m \u001b[0marg_s\u001b[0m\u001b[0;34m.\u001b[0m\u001b[0mpartition\u001b[0m\u001b[0;34m(\u001b[0m\u001b[0;34m' '\u001b[0m\u001b[0;34m)\u001b[0m\u001b[0;34m\u001b[0m\u001b[0m\n\u001b[1;32m   2157\u001b[0m         \u001b[0mmagic_name\u001b[0m \u001b[0;34m=\u001b[0m \u001b[0mmagic_name\u001b[0m\u001b[0;34m.\u001b[0m\u001b[0mlstrip\u001b[0m\u001b[0;34m(\u001b[0m\u001b[0mprefilter\u001b[0m\u001b[0;34m.\u001b[0m\u001b[0mESC_MAGIC\u001b[0m\u001b[0;34m)\u001b[0m\u001b[0;34m\u001b[0m\u001b[0m\n\u001b[0;32m-> 2158\u001b[0;31m         \u001b[0;32mreturn\u001b[0m \u001b[0mself\u001b[0m\u001b[0;34m.\u001b[0m\u001b[0mrun_line_magic\u001b[0m\u001b[0;34m(\u001b[0m\u001b[0mmagic_name\u001b[0m\u001b[0;34m,\u001b[0m \u001b[0mmagic_arg_s\u001b[0m\u001b[0;34m)\u001b[0m\u001b[0;34m\u001b[0m\u001b[0m\n\u001b[0m\u001b[1;32m   2159\u001b[0m \u001b[0;34m\u001b[0m\u001b[0m\n\u001b[1;32m   2160\u001b[0m     \u001b[0;31m#-------------------------------------------------------------------------\u001b[0m\u001b[0;34m\u001b[0m\u001b[0;34m\u001b[0m\u001b[0m\n",
      "\u001b[0;32m//anaconda/envs/py35/lib/python3.5/site-packages/IPython/core/interactiveshell.py\u001b[0m in \u001b[0;36mrun_line_magic\u001b[0;34m(self, magic_name, line)\u001b[0m\n\u001b[1;32m   2077\u001b[0m                 \u001b[0mkwargs\u001b[0m\u001b[0;34m[\u001b[0m\u001b[0;34m'local_ns'\u001b[0m\u001b[0;34m]\u001b[0m \u001b[0;34m=\u001b[0m \u001b[0msys\u001b[0m\u001b[0;34m.\u001b[0m\u001b[0m_getframe\u001b[0m\u001b[0;34m(\u001b[0m\u001b[0mstack_depth\u001b[0m\u001b[0;34m)\u001b[0m\u001b[0;34m.\u001b[0m\u001b[0mf_locals\u001b[0m\u001b[0;34m\u001b[0m\u001b[0m\n\u001b[1;32m   2078\u001b[0m             \u001b[0;32mwith\u001b[0m \u001b[0mself\u001b[0m\u001b[0;34m.\u001b[0m\u001b[0mbuiltin_trap\u001b[0m\u001b[0;34m:\u001b[0m\u001b[0;34m\u001b[0m\u001b[0m\n\u001b[0;32m-> 2079\u001b[0;31m                 \u001b[0mresult\u001b[0m \u001b[0;34m=\u001b[0m \u001b[0mfn\u001b[0m\u001b[0;34m(\u001b[0m\u001b[0;34m*\u001b[0m\u001b[0margs\u001b[0m\u001b[0;34m,\u001b[0m\u001b[0;34m**\u001b[0m\u001b[0mkwargs\u001b[0m\u001b[0;34m)\u001b[0m\u001b[0;34m\u001b[0m\u001b[0m\n\u001b[0m\u001b[1;32m   2080\u001b[0m             \u001b[0;32mreturn\u001b[0m \u001b[0mresult\u001b[0m\u001b[0;34m\u001b[0m\u001b[0m\n\u001b[1;32m   2081\u001b[0m \u001b[0;34m\u001b[0m\u001b[0m\n",
      "\u001b[0;32m<decorator-gen-59>\u001b[0m in \u001b[0;36mtime\u001b[0;34m(self, line, cell, local_ns)\u001b[0m\n",
      "\u001b[0;32m//anaconda/envs/py35/lib/python3.5/site-packages/IPython/core/magic.py\u001b[0m in \u001b[0;36m<lambda>\u001b[0;34m(f, *a, **k)\u001b[0m\n\u001b[1;32m    186\u001b[0m     \u001b[0;31m# but it's overkill for just that one bit of state.\u001b[0m\u001b[0;34m\u001b[0m\u001b[0;34m\u001b[0m\u001b[0m\n\u001b[1;32m    187\u001b[0m     \u001b[0;32mdef\u001b[0m \u001b[0mmagic_deco\u001b[0m\u001b[0;34m(\u001b[0m\u001b[0marg\u001b[0m\u001b[0;34m)\u001b[0m\u001b[0;34m:\u001b[0m\u001b[0;34m\u001b[0m\u001b[0m\n\u001b[0;32m--> 188\u001b[0;31m         \u001b[0mcall\u001b[0m \u001b[0;34m=\u001b[0m \u001b[0;32mlambda\u001b[0m \u001b[0mf\u001b[0m\u001b[0;34m,\u001b[0m \u001b[0;34m*\u001b[0m\u001b[0ma\u001b[0m\u001b[0;34m,\u001b[0m \u001b[0;34m**\u001b[0m\u001b[0mk\u001b[0m\u001b[0;34m:\u001b[0m \u001b[0mf\u001b[0m\u001b[0;34m(\u001b[0m\u001b[0;34m*\u001b[0m\u001b[0ma\u001b[0m\u001b[0;34m,\u001b[0m \u001b[0;34m**\u001b[0m\u001b[0mk\u001b[0m\u001b[0;34m)\u001b[0m\u001b[0;34m\u001b[0m\u001b[0m\n\u001b[0m\u001b[1;32m    189\u001b[0m \u001b[0;34m\u001b[0m\u001b[0m\n\u001b[1;32m    190\u001b[0m         \u001b[0;32mif\u001b[0m \u001b[0mcallable\u001b[0m\u001b[0;34m(\u001b[0m\u001b[0marg\u001b[0m\u001b[0;34m)\u001b[0m\u001b[0;34m:\u001b[0m\u001b[0;34m\u001b[0m\u001b[0m\n",
      "\u001b[0;32m//anaconda/envs/py35/lib/python3.5/site-packages/IPython/core/magics/execution.py\u001b[0m in \u001b[0;36mtime\u001b[0;34m(self, line, cell, local_ns)\u001b[0m\n\u001b[1;32m   1174\u001b[0m         \u001b[0;32mif\u001b[0m \u001b[0mmode\u001b[0m\u001b[0;34m==\u001b[0m\u001b[0;34m'eval'\u001b[0m\u001b[0;34m:\u001b[0m\u001b[0;34m\u001b[0m\u001b[0m\n\u001b[1;32m   1175\u001b[0m             \u001b[0mst\u001b[0m \u001b[0;34m=\u001b[0m \u001b[0mclock2\u001b[0m\u001b[0;34m(\u001b[0m\u001b[0;34m)\u001b[0m\u001b[0;34m\u001b[0m\u001b[0m\n\u001b[0;32m-> 1176\u001b[0;31m             \u001b[0mout\u001b[0m \u001b[0;34m=\u001b[0m \u001b[0meval\u001b[0m\u001b[0;34m(\u001b[0m\u001b[0mcode\u001b[0m\u001b[0;34m,\u001b[0m \u001b[0mglob\u001b[0m\u001b[0;34m,\u001b[0m \u001b[0mlocal_ns\u001b[0m\u001b[0;34m)\u001b[0m\u001b[0;34m\u001b[0m\u001b[0m\n\u001b[0m\u001b[1;32m   1177\u001b[0m             \u001b[0mend\u001b[0m \u001b[0;34m=\u001b[0m \u001b[0mclock2\u001b[0m\u001b[0;34m(\u001b[0m\u001b[0;34m)\u001b[0m\u001b[0;34m\u001b[0m\u001b[0m\n\u001b[1;32m   1178\u001b[0m         \u001b[0;32melse\u001b[0m\u001b[0;34m:\u001b[0m\u001b[0;34m\u001b[0m\u001b[0m\n",
      "\u001b[0;32m<timed eval>\u001b[0m in \u001b[0;36m<module>\u001b[0;34m()\u001b[0m\n",
      "\u001b[0;32m<decorator-gen-172>\u001b[0m in \u001b[0;36mwrite_videofile\u001b[0;34m(self, filename, fps, codec, bitrate, audio, audio_fps, preset, audio_nbytes, audio_codec, audio_bitrate, audio_bufsize, temp_audiofile, rewrite_audio, remove_temp, write_logfile, verbose, threads, ffmpeg_params)\u001b[0m\n",
      "\u001b[0;32m//anaconda/envs/py35/lib/python3.5/site-packages/moviepy/decorators.py\u001b[0m in \u001b[0;36mrequires_duration\u001b[0;34m(f, clip, *a, **k)\u001b[0m\n\u001b[1;32m     52\u001b[0m         \u001b[0;32mraise\u001b[0m \u001b[0mValueError\u001b[0m\u001b[0;34m(\u001b[0m\u001b[0;34m\"Attribute 'duration' not set\"\u001b[0m\u001b[0;34m)\u001b[0m\u001b[0;34m\u001b[0m\u001b[0m\n\u001b[1;32m     53\u001b[0m     \u001b[0;32melse\u001b[0m\u001b[0;34m:\u001b[0m\u001b[0;34m\u001b[0m\u001b[0m\n\u001b[0;32m---> 54\u001b[0;31m         \u001b[0;32mreturn\u001b[0m \u001b[0mf\u001b[0m\u001b[0;34m(\u001b[0m\u001b[0mclip\u001b[0m\u001b[0;34m,\u001b[0m \u001b[0;34m*\u001b[0m\u001b[0ma\u001b[0m\u001b[0;34m,\u001b[0m \u001b[0;34m**\u001b[0m\u001b[0mk\u001b[0m\u001b[0;34m)\u001b[0m\u001b[0;34m\u001b[0m\u001b[0m\n\u001b[0m\u001b[1;32m     55\u001b[0m \u001b[0;34m\u001b[0m\u001b[0m\n\u001b[1;32m     56\u001b[0m \u001b[0;34m\u001b[0m\u001b[0m\n",
      "\u001b[0;32m<decorator-gen-171>\u001b[0m in \u001b[0;36mwrite_videofile\u001b[0;34m(self, filename, fps, codec, bitrate, audio, audio_fps, preset, audio_nbytes, audio_codec, audio_bitrate, audio_bufsize, temp_audiofile, rewrite_audio, remove_temp, write_logfile, verbose, threads, ffmpeg_params)\u001b[0m\n",
      "\u001b[0;32m//anaconda/envs/py35/lib/python3.5/site-packages/moviepy/decorators.py\u001b[0m in \u001b[0;36muse_clip_fps_by_default\u001b[0;34m(f, clip, *a, **k)\u001b[0m\n\u001b[1;32m    135\u001b[0m              for (k,v) in k.items()}\n\u001b[1;32m    136\u001b[0m \u001b[0;34m\u001b[0m\u001b[0m\n\u001b[0;32m--> 137\u001b[0;31m     \u001b[0;32mreturn\u001b[0m \u001b[0mf\u001b[0m\u001b[0;34m(\u001b[0m\u001b[0mclip\u001b[0m\u001b[0;34m,\u001b[0m \u001b[0;34m*\u001b[0m\u001b[0mnew_a\u001b[0m\u001b[0;34m,\u001b[0m \u001b[0;34m**\u001b[0m\u001b[0mnew_kw\u001b[0m\u001b[0;34m)\u001b[0m\u001b[0;34m\u001b[0m\u001b[0m\n\u001b[0m",
      "\u001b[0;32m<decorator-gen-170>\u001b[0m in \u001b[0;36mwrite_videofile\u001b[0;34m(self, filename, fps, codec, bitrate, audio, audio_fps, preset, audio_nbytes, audio_codec, audio_bitrate, audio_bufsize, temp_audiofile, rewrite_audio, remove_temp, write_logfile, verbose, threads, ffmpeg_params)\u001b[0m\n",
      "\u001b[0;32m//anaconda/envs/py35/lib/python3.5/site-packages/moviepy/decorators.py\u001b[0m in \u001b[0;36mconvert_masks_to_RGB\u001b[0;34m(f, clip, *a, **k)\u001b[0m\n\u001b[1;32m     20\u001b[0m     \u001b[0;32mif\u001b[0m \u001b[0mclip\u001b[0m\u001b[0;34m.\u001b[0m\u001b[0mismask\u001b[0m\u001b[0;34m:\u001b[0m\u001b[0;34m\u001b[0m\u001b[0m\n\u001b[1;32m     21\u001b[0m         \u001b[0mclip\u001b[0m \u001b[0;34m=\u001b[0m \u001b[0mclip\u001b[0m\u001b[0;34m.\u001b[0m\u001b[0mto_RGB\u001b[0m\u001b[0;34m(\u001b[0m\u001b[0;34m)\u001b[0m\u001b[0;34m\u001b[0m\u001b[0m\n\u001b[0;32m---> 22\u001b[0;31m     \u001b[0;32mreturn\u001b[0m \u001b[0mf\u001b[0m\u001b[0;34m(\u001b[0m\u001b[0mclip\u001b[0m\u001b[0;34m,\u001b[0m \u001b[0;34m*\u001b[0m\u001b[0ma\u001b[0m\u001b[0;34m,\u001b[0m \u001b[0;34m**\u001b[0m\u001b[0mk\u001b[0m\u001b[0;34m)\u001b[0m\u001b[0;34m\u001b[0m\u001b[0m\n\u001b[0m\u001b[1;32m     23\u001b[0m \u001b[0;34m\u001b[0m\u001b[0m\n\u001b[1;32m     24\u001b[0m \u001b[0;34m@\u001b[0m\u001b[0mdecorator\u001b[0m\u001b[0;34m.\u001b[0m\u001b[0mdecorator\u001b[0m\u001b[0;34m\u001b[0m\u001b[0m\n",
      "\u001b[0;32m//anaconda/envs/py35/lib/python3.5/site-packages/moviepy/video/VideoClip.py\u001b[0m in \u001b[0;36mwrite_videofile\u001b[0;34m(self, filename, fps, codec, bitrate, audio, audio_fps, preset, audio_nbytes, audio_codec, audio_bitrate, audio_bufsize, temp_audiofile, rewrite_audio, remove_temp, write_logfile, verbose, threads, ffmpeg_params)\u001b[0m\n\u001b[1;32m    337\u001b[0m                            \u001b[0maudiofile\u001b[0m \u001b[0;34m=\u001b[0m \u001b[0maudiofile\u001b[0m\u001b[0;34m,\u001b[0m\u001b[0;34m\u001b[0m\u001b[0m\n\u001b[1;32m    338\u001b[0m                            \u001b[0mverbose\u001b[0m\u001b[0;34m=\u001b[0m\u001b[0mverbose\u001b[0m\u001b[0;34m,\u001b[0m \u001b[0mthreads\u001b[0m\u001b[0;34m=\u001b[0m\u001b[0mthreads\u001b[0m\u001b[0;34m,\u001b[0m\u001b[0;34m\u001b[0m\u001b[0m\n\u001b[0;32m--> 339\u001b[0;31m                            ffmpeg_params=ffmpeg_params)\n\u001b[0m\u001b[1;32m    340\u001b[0m \u001b[0;34m\u001b[0m\u001b[0m\n\u001b[1;32m    341\u001b[0m         \u001b[0;32mif\u001b[0m \u001b[0mremove_temp\u001b[0m \u001b[0;32mand\u001b[0m \u001b[0mmake_audio\u001b[0m\u001b[0;34m:\u001b[0m\u001b[0;34m\u001b[0m\u001b[0m\n",
      "\u001b[0;32m//anaconda/envs/py35/lib/python3.5/site-packages/moviepy/video/io/ffmpeg_writer.py\u001b[0m in \u001b[0;36mffmpeg_write_video\u001b[0;34m(clip, filename, fps, codec, bitrate, preset, withmask, write_logfile, audiofile, verbose, threads, ffmpeg_params)\u001b[0m\n\u001b[1;32m    202\u001b[0m \u001b[0;34m\u001b[0m\u001b[0m\n\u001b[1;32m    203\u001b[0m     for t,frame in clip.iter_frames(progress_bar=True, with_times=True,\n\u001b[0;32m--> 204\u001b[0;31m                                     fps=fps, dtype=\"uint8\"):\n\u001b[0m\u001b[1;32m    205\u001b[0m         \u001b[0;32mif\u001b[0m \u001b[0mwithmask\u001b[0m\u001b[0;34m:\u001b[0m\u001b[0;34m\u001b[0m\u001b[0m\n\u001b[1;32m    206\u001b[0m             \u001b[0mmask\u001b[0m \u001b[0;34m=\u001b[0m \u001b[0;34m(\u001b[0m\u001b[0;36m255\u001b[0m\u001b[0;34m*\u001b[0m\u001b[0mclip\u001b[0m\u001b[0;34m.\u001b[0m\u001b[0mmask\u001b[0m\u001b[0;34m.\u001b[0m\u001b[0mget_frame\u001b[0m\u001b[0;34m(\u001b[0m\u001b[0mt\u001b[0m\u001b[0;34m)\u001b[0m\u001b[0;34m)\u001b[0m\u001b[0;34m\u001b[0m\u001b[0m\n",
      "\u001b[0;32m//anaconda/envs/py35/lib/python3.5/site-packages/tqdm/_tqdm.py\u001b[0m in \u001b[0;36m__iter__\u001b[0;34m(self)\u001b[0m\n\u001b[1;32m    814\u001b[0m \"\"\", fp_write=getattr(self.fp, 'write', sys.stderr.write))\n\u001b[1;32m    815\u001b[0m \u001b[0;34m\u001b[0m\u001b[0m\n\u001b[0;32m--> 816\u001b[0;31m             \u001b[0;32mfor\u001b[0m \u001b[0mobj\u001b[0m \u001b[0;32min\u001b[0m \u001b[0miterable\u001b[0m\u001b[0;34m:\u001b[0m\u001b[0;34m\u001b[0m\u001b[0m\n\u001b[0m\u001b[1;32m    817\u001b[0m                 \u001b[0;32myield\u001b[0m \u001b[0mobj\u001b[0m\u001b[0;34m\u001b[0m\u001b[0m\n\u001b[1;32m    818\u001b[0m                 \u001b[0;31m# Update and print the progressbar.\u001b[0m\u001b[0;34m\u001b[0m\u001b[0;34m\u001b[0m\u001b[0m\n",
      "\u001b[0;32m//anaconda/envs/py35/lib/python3.5/site-packages/moviepy/Clip.py\u001b[0m in \u001b[0;36mgenerator\u001b[0;34m()\u001b[0m\n\u001b[1;32m    471\u001b[0m             \u001b[0;32mfor\u001b[0m \u001b[0mt\u001b[0m \u001b[0;32min\u001b[0m \u001b[0mnp\u001b[0m\u001b[0;34m.\u001b[0m\u001b[0marange\u001b[0m\u001b[0;34m(\u001b[0m\u001b[0;36m0\u001b[0m\u001b[0;34m,\u001b[0m \u001b[0mself\u001b[0m\u001b[0;34m.\u001b[0m\u001b[0mduration\u001b[0m\u001b[0;34m,\u001b[0m \u001b[0;36m1.0\u001b[0m\u001b[0;34m/\u001b[0m\u001b[0mfps\u001b[0m\u001b[0;34m)\u001b[0m\u001b[0;34m:\u001b[0m\u001b[0;34m\u001b[0m\u001b[0m\n\u001b[1;32m    472\u001b[0m \u001b[0;34m\u001b[0m\u001b[0m\n\u001b[0;32m--> 473\u001b[0;31m                 \u001b[0mframe\u001b[0m \u001b[0;34m=\u001b[0m \u001b[0mself\u001b[0m\u001b[0;34m.\u001b[0m\u001b[0mget_frame\u001b[0m\u001b[0;34m(\u001b[0m\u001b[0mt\u001b[0m\u001b[0;34m)\u001b[0m\u001b[0;34m\u001b[0m\u001b[0m\n\u001b[0m\u001b[1;32m    474\u001b[0m \u001b[0;34m\u001b[0m\u001b[0m\n\u001b[1;32m    475\u001b[0m                 \u001b[0;32mif\u001b[0m \u001b[0;34m(\u001b[0m\u001b[0mdtype\u001b[0m \u001b[0;32mis\u001b[0m \u001b[0;32mnot\u001b[0m \u001b[0;32mNone\u001b[0m\u001b[0;34m)\u001b[0m \u001b[0;32mand\u001b[0m \u001b[0;34m(\u001b[0m\u001b[0mframe\u001b[0m\u001b[0;34m.\u001b[0m\u001b[0mdtype\u001b[0m \u001b[0;34m!=\u001b[0m \u001b[0mdtype\u001b[0m\u001b[0;34m)\u001b[0m\u001b[0;34m:\u001b[0m\u001b[0;34m\u001b[0m\u001b[0m\n",
      "\u001b[0;32m<decorator-gen-135>\u001b[0m in \u001b[0;36mget_frame\u001b[0;34m(self, t)\u001b[0m\n",
      "\u001b[0;32m//anaconda/envs/py35/lib/python3.5/site-packages/moviepy/decorators.py\u001b[0m in \u001b[0;36mwrapper\u001b[0;34m(f, *a, **kw)\u001b[0m\n\u001b[1;32m     87\u001b[0m         new_kw = {k: fun(v) if k in varnames else v\n\u001b[1;32m     88\u001b[0m                  for (k,v) in kw.items()}\n\u001b[0;32m---> 89\u001b[0;31m         \u001b[0;32mreturn\u001b[0m \u001b[0mf\u001b[0m\u001b[0;34m(\u001b[0m\u001b[0;34m*\u001b[0m\u001b[0mnew_a\u001b[0m\u001b[0;34m,\u001b[0m \u001b[0;34m**\u001b[0m\u001b[0mnew_kw\u001b[0m\u001b[0;34m)\u001b[0m\u001b[0;34m\u001b[0m\u001b[0m\n\u001b[0m\u001b[1;32m     90\u001b[0m     \u001b[0;32mreturn\u001b[0m \u001b[0mdecorator\u001b[0m\u001b[0;34m.\u001b[0m\u001b[0mdecorator\u001b[0m\u001b[0;34m(\u001b[0m\u001b[0mwrapper\u001b[0m\u001b[0;34m)\u001b[0m\u001b[0;34m\u001b[0m\u001b[0m\n\u001b[1;32m     91\u001b[0m \u001b[0;34m\u001b[0m\u001b[0m\n",
      "\u001b[0;32m//anaconda/envs/py35/lib/python3.5/site-packages/moviepy/Clip.py\u001b[0m in \u001b[0;36mget_frame\u001b[0;34m(self, t)\u001b[0m\n\u001b[1;32m     93\u001b[0m                 \u001b[0;32mreturn\u001b[0m \u001b[0mframe\u001b[0m\u001b[0;34m\u001b[0m\u001b[0m\n\u001b[1;32m     94\u001b[0m         \u001b[0;32melse\u001b[0m\u001b[0;34m:\u001b[0m\u001b[0;34m\u001b[0m\u001b[0m\n\u001b[0;32m---> 95\u001b[0;31m             \u001b[0;32mreturn\u001b[0m \u001b[0mself\u001b[0m\u001b[0;34m.\u001b[0m\u001b[0mmake_frame\u001b[0m\u001b[0;34m(\u001b[0m\u001b[0mt\u001b[0m\u001b[0;34m)\u001b[0m\u001b[0;34m\u001b[0m\u001b[0m\n\u001b[0m\u001b[1;32m     96\u001b[0m \u001b[0;34m\u001b[0m\u001b[0m\n\u001b[1;32m     97\u001b[0m     \u001b[0;32mdef\u001b[0m \u001b[0mfl\u001b[0m\u001b[0;34m(\u001b[0m\u001b[0mself\u001b[0m\u001b[0;34m,\u001b[0m \u001b[0mfun\u001b[0m\u001b[0;34m,\u001b[0m \u001b[0mapply_to\u001b[0m\u001b[0;34m=\u001b[0m\u001b[0;34m[\u001b[0m\u001b[0;34m]\u001b[0m \u001b[0;34m,\u001b[0m \u001b[0mkeep_duration\u001b[0m\u001b[0;34m=\u001b[0m\u001b[0;32mTrue\u001b[0m\u001b[0;34m)\u001b[0m\u001b[0;34m:\u001b[0m\u001b[0;34m\u001b[0m\u001b[0m\n",
      "\u001b[0;32m//anaconda/envs/py35/lib/python3.5/site-packages/moviepy/Clip.py\u001b[0m in \u001b[0;36m<lambda>\u001b[0;34m(t)\u001b[0m\n\u001b[1;32m    134\u001b[0m \u001b[0;34m\u001b[0m\u001b[0m\n\u001b[1;32m    135\u001b[0m         \u001b[0;31m#mf = copy(self.make_frame)\u001b[0m\u001b[0;34m\u001b[0m\u001b[0;34m\u001b[0m\u001b[0m\n\u001b[0;32m--> 136\u001b[0;31m         \u001b[0mnewclip\u001b[0m \u001b[0;34m=\u001b[0m \u001b[0mself\u001b[0m\u001b[0;34m.\u001b[0m\u001b[0mset_make_frame\u001b[0m\u001b[0;34m(\u001b[0m\u001b[0;32mlambda\u001b[0m \u001b[0mt\u001b[0m\u001b[0;34m:\u001b[0m \u001b[0mfun\u001b[0m\u001b[0;34m(\u001b[0m\u001b[0mself\u001b[0m\u001b[0;34m.\u001b[0m\u001b[0mget_frame\u001b[0m\u001b[0;34m,\u001b[0m \u001b[0mt\u001b[0m\u001b[0;34m)\u001b[0m\u001b[0;34m)\u001b[0m\u001b[0;34m\u001b[0m\u001b[0m\n\u001b[0m\u001b[1;32m    137\u001b[0m \u001b[0;34m\u001b[0m\u001b[0m\n\u001b[1;32m    138\u001b[0m         \u001b[0;32mif\u001b[0m \u001b[0;32mnot\u001b[0m \u001b[0mkeep_duration\u001b[0m\u001b[0;34m:\u001b[0m\u001b[0;34m\u001b[0m\u001b[0m\n",
      "\u001b[0;32m//anaconda/envs/py35/lib/python3.5/site-packages/moviepy/video/VideoClip.py\u001b[0m in \u001b[0;36m<lambda>\u001b[0;34m(gf, t)\u001b[0m\n\u001b[1;32m    512\u001b[0m         \u001b[0;31m`\u001b[0m\u001b[0mget_frame\u001b[0m\u001b[0;34m(\u001b[0m\u001b[0mt\u001b[0m\u001b[0;34m)\u001b[0m\u001b[0;31m`\u001b[0m \u001b[0mby\u001b[0m \u001b[0manother\u001b[0m \u001b[0mframe\u001b[0m\u001b[0;34m,\u001b[0m\u001b[0;31m \u001b[0m\u001b[0;31m \u001b[0m\u001b[0;31m`\u001b[0m\u001b[0mimage_func\u001b[0m\u001b[0;34m(\u001b[0m\u001b[0mget_frame\u001b[0m\u001b[0;34m(\u001b[0m\u001b[0mt\u001b[0m\u001b[0;34m)\u001b[0m\u001b[0;34m)\u001b[0m\u001b[0;31m`\u001b[0m\u001b[0;34m\u001b[0m\u001b[0m\n\u001b[1;32m    513\u001b[0m         \"\"\"\n\u001b[0;32m--> 514\u001b[0;31m         \u001b[0;32mreturn\u001b[0m \u001b[0mself\u001b[0m\u001b[0;34m.\u001b[0m\u001b[0mfl\u001b[0m\u001b[0;34m(\u001b[0m\u001b[0;32mlambda\u001b[0m \u001b[0mgf\u001b[0m\u001b[0;34m,\u001b[0m \u001b[0mt\u001b[0m\u001b[0;34m:\u001b[0m \u001b[0mimage_func\u001b[0m\u001b[0;34m(\u001b[0m\u001b[0mgf\u001b[0m\u001b[0;34m(\u001b[0m\u001b[0mt\u001b[0m\u001b[0;34m)\u001b[0m\u001b[0;34m)\u001b[0m\u001b[0;34m,\u001b[0m \u001b[0mapply_to\u001b[0m\u001b[0;34m)\u001b[0m\u001b[0;34m\u001b[0m\u001b[0m\n\u001b[0m\u001b[1;32m    515\u001b[0m \u001b[0;34m\u001b[0m\u001b[0m\n\u001b[1;32m    516\u001b[0m     \u001b[0;31m# --------------------------------------------------------------\u001b[0m\u001b[0;34m\u001b[0m\u001b[0;34m\u001b[0m\u001b[0m\n",
      "\u001b[0;32m<ipython-input-30-12020cf5a1ab>\u001b[0m in \u001b[0;36mprocess_image\u001b[0;34m(image)\u001b[0m\n\u001b[1;32m    108\u001b[0m \u001b[0;34m\u001b[0m\u001b[0m\n\u001b[1;32m    109\u001b[0m     \u001b[0;31m# Or use lambda functions\u001b[0m\u001b[0;34m\u001b[0m\u001b[0;34m\u001b[0m\u001b[0m\n\u001b[0;32m--> 110\u001b[0;31m     \u001b[0mlines_df\u001b[0m\u001b[0;34m[\u001b[0m\u001b[0;34m\"slope\"\u001b[0m\u001b[0;34m]\u001b[0m \u001b[0;34m=\u001b[0m \u001b[0mlines_df\u001b[0m\u001b[0;34m.\u001b[0m\u001b[0mapply\u001b[0m\u001b[0;34m(\u001b[0m\u001b[0mslope\u001b[0m\u001b[0;34m,\u001b[0m \u001b[0maxis\u001b[0m \u001b[0;34m=\u001b[0m \u001b[0;36m1\u001b[0m\u001b[0;34m)\u001b[0m\u001b[0;34m\u001b[0m\u001b[0m\n\u001b[0m\u001b[1;32m    111\u001b[0m     \u001b[0mlines_df\u001b[0m\u001b[0;34m[\u001b[0m\u001b[0;34m\"length\"\u001b[0m\u001b[0;34m]\u001b[0m \u001b[0;34m=\u001b[0m \u001b[0mlines_df\u001b[0m\u001b[0;34m.\u001b[0m\u001b[0mapply\u001b[0m\u001b[0;34m(\u001b[0m\u001b[0mlength\u001b[0m\u001b[0;34m,\u001b[0m \u001b[0maxis\u001b[0m \u001b[0;34m=\u001b[0m \u001b[0;36m1\u001b[0m\u001b[0;34m)\u001b[0m\u001b[0;34m\u001b[0m\u001b[0m\n\u001b[1;32m    112\u001b[0m \u001b[0;34m\u001b[0m\u001b[0m\n",
      "\u001b[0;32m//anaconda/envs/py35/lib/python3.5/site-packages/pandas/core/frame.py\u001b[0m in \u001b[0;36mapply\u001b[0;34m(self, func, axis, broadcast, raw, reduce, args, **kwds)\u001b[0m\n\u001b[1;32m   4161\u001b[0m                     \u001b[0;32mif\u001b[0m \u001b[0mreduce\u001b[0m \u001b[0;32mis\u001b[0m \u001b[0;32mNone\u001b[0m\u001b[0;34m:\u001b[0m\u001b[0;34m\u001b[0m\u001b[0m\n\u001b[1;32m   4162\u001b[0m                         \u001b[0mreduce\u001b[0m \u001b[0;34m=\u001b[0m \u001b[0;32mTrue\u001b[0m\u001b[0;34m\u001b[0m\u001b[0m\n\u001b[0;32m-> 4163\u001b[0;31m                     \u001b[0;32mreturn\u001b[0m \u001b[0mself\u001b[0m\u001b[0;34m.\u001b[0m\u001b[0m_apply_standard\u001b[0m\u001b[0;34m(\u001b[0m\u001b[0mf\u001b[0m\u001b[0;34m,\u001b[0m \u001b[0maxis\u001b[0m\u001b[0;34m,\u001b[0m \u001b[0mreduce\u001b[0m\u001b[0;34m=\u001b[0m\u001b[0mreduce\u001b[0m\u001b[0;34m)\u001b[0m\u001b[0;34m\u001b[0m\u001b[0m\n\u001b[0m\u001b[1;32m   4164\u001b[0m             \u001b[0;32melse\u001b[0m\u001b[0;34m:\u001b[0m\u001b[0;34m\u001b[0m\u001b[0m\n\u001b[1;32m   4165\u001b[0m                 \u001b[0;32mreturn\u001b[0m \u001b[0mself\u001b[0m\u001b[0;34m.\u001b[0m\u001b[0m_apply_broadcast\u001b[0m\u001b[0;34m(\u001b[0m\u001b[0mf\u001b[0m\u001b[0;34m,\u001b[0m \u001b[0maxis\u001b[0m\u001b[0;34m)\u001b[0m\u001b[0;34m\u001b[0m\u001b[0m\n",
      "\u001b[0;32m//anaconda/envs/py35/lib/python3.5/site-packages/pandas/core/frame.py\u001b[0m in \u001b[0;36m_apply_standard\u001b[0;34m(self, func, axis, ignore_failures, reduce)\u001b[0m\n\u001b[1;32m   4257\u001b[0m             \u001b[0;32mtry\u001b[0m\u001b[0;34m:\u001b[0m\u001b[0;34m\u001b[0m\u001b[0m\n\u001b[1;32m   4258\u001b[0m                 \u001b[0;32mfor\u001b[0m \u001b[0mi\u001b[0m\u001b[0;34m,\u001b[0m \u001b[0mv\u001b[0m \u001b[0;32min\u001b[0m \u001b[0menumerate\u001b[0m\u001b[0;34m(\u001b[0m\u001b[0mseries_gen\u001b[0m\u001b[0;34m)\u001b[0m\u001b[0;34m:\u001b[0m\u001b[0;34m\u001b[0m\u001b[0m\n\u001b[0;32m-> 4259\u001b[0;31m                     \u001b[0mresults\u001b[0m\u001b[0;34m[\u001b[0m\u001b[0mi\u001b[0m\u001b[0;34m]\u001b[0m \u001b[0;34m=\u001b[0m \u001b[0mfunc\u001b[0m\u001b[0;34m(\u001b[0m\u001b[0mv\u001b[0m\u001b[0;34m)\u001b[0m\u001b[0;34m\u001b[0m\u001b[0m\n\u001b[0m\u001b[1;32m   4260\u001b[0m                     \u001b[0mkeys\u001b[0m\u001b[0;34m.\u001b[0m\u001b[0mappend\u001b[0m\u001b[0;34m(\u001b[0m\u001b[0mv\u001b[0m\u001b[0;34m.\u001b[0m\u001b[0mname\u001b[0m\u001b[0;34m)\u001b[0m\u001b[0;34m\u001b[0m\u001b[0m\n\u001b[1;32m   4261\u001b[0m             \u001b[0;32mexcept\u001b[0m \u001b[0mException\u001b[0m \u001b[0;32mas\u001b[0m \u001b[0me\u001b[0m\u001b[0;34m:\u001b[0m\u001b[0;34m\u001b[0m\u001b[0m\n",
      "\u001b[0;32m<ipython-input-19-efb1f6ce5be5>\u001b[0m in \u001b[0;36mslope\u001b[0;34m(row)\u001b[0m\n\u001b[1;32m      1\u001b[0m \u001b[0;31m# define the slope function\u001b[0m\u001b[0;34m\u001b[0m\u001b[0;34m\u001b[0m\u001b[0m\n\u001b[1;32m      2\u001b[0m \u001b[0;32mdef\u001b[0m \u001b[0mslope\u001b[0m\u001b[0;34m(\u001b[0m\u001b[0mrow\u001b[0m\u001b[0;34m)\u001b[0m\u001b[0;34m:\u001b[0m\u001b[0;34m\u001b[0m\u001b[0m\n\u001b[0;32m----> 3\u001b[0;31m     \u001b[0;32mreturn\u001b[0m \u001b[0;34m(\u001b[0m\u001b[0mrow\u001b[0m\u001b[0;34m[\u001b[0m\u001b[0;34m\"y_1\"\u001b[0m\u001b[0;34m]\u001b[0m \u001b[0;34m-\u001b[0m \u001b[0mrow\u001b[0m\u001b[0;34m[\u001b[0m\u001b[0;34m\"y_0\"\u001b[0m\u001b[0;34m]\u001b[0m\u001b[0;34m)\u001b[0m\u001b[0;34m/\u001b[0m\u001b[0;34m(\u001b[0m\u001b[0mrow\u001b[0m\u001b[0;34m[\u001b[0m\u001b[0;34m\"x_1\"\u001b[0m\u001b[0;34m]\u001b[0m \u001b[0;34m-\u001b[0m \u001b[0mrow\u001b[0m\u001b[0;34m[\u001b[0m\u001b[0;34m\"x_0\"\u001b[0m\u001b[0;34m]\u001b[0m\u001b[0;34m)\u001b[0m\u001b[0;34m\u001b[0m\u001b[0m\n\u001b[0m\u001b[1;32m      4\u001b[0m \u001b[0;34m\u001b[0m\u001b[0m\n\u001b[1;32m      5\u001b[0m \u001b[0;32mdef\u001b[0m \u001b[0mlength\u001b[0m\u001b[0;34m(\u001b[0m\u001b[0mrow\u001b[0m\u001b[0;34m)\u001b[0m\u001b[0;34m:\u001b[0m\u001b[0;34m\u001b[0m\u001b[0m\n",
      "\u001b[0;31mZeroDivisionError\u001b[0m: ('float division by zero', 'occurred at index 45')"
     ]
    },
    {
     "data": {
      "image/png": "[encoded data removed]",
      "text/plain": [
       "<matplotlib.figure.Figure at 0x11993de48>"
      ]
     },
     "metadata": {},
     "output_type": "display_data"
    }
   ],
   "source": [
    "challenge_output = 'extra.mp4'\n",
    "clip2 = VideoFileClip('challenge.mp4')\n",
    "challenge_clip = clip2.fl_image(process_image)\n",
    "%time challenge_clip.write_videofile(challenge_output, audio=False)"
   ]
  },
  {
   "cell_type": "code",
   "execution_count": null,
   "metadata": {
    "collapsed": true
   },
   "outputs": [],
   "source": [
    "HTML(\"\"\"\n",
    "<video width=\"960\" height=\"540\" controls>\n",
    "  <source src=\"{0}\">\n",
    "</video>\n",
    "\"\"\".format(challenge_output))"
   ]
  }
 ],
 "metadata": {
  "anaconda-cloud": {},
  "kernelspec": {
   "display_name": "python3.5",
   "language": "python",
   "name": "python3.5"
  },
  "language_info": {
   "codemirror_mode": {
    "name": "ipython",
    "version": 3
   },
   "file_extension": ".py",
   "mimetype": "text/x-python",
   "name": "python",
   "nbconvert_exporter": "python",
   "pygments_lexer": "ipython3",
   "version": "3.5.2"
  }
 },
 "nbformat": 4,
 "nbformat_minor": 0
}
