{
 "cells": [
  {
   "cell_type": "markdown",
   "metadata": {
    "collapsed": false
   },
   "source": [
    "# Creating a neural network from scratch"
   ]
  },
  {
   "cell_type": "code",
   "execution_count": 1,
   "metadata": {
    "collapsed": true
   },
   "outputs": [],
   "source": [
    "import numpy as np "
   ]
  },
  {
   "cell_type": "code",
   "execution_count": 2,
   "metadata": {
    "collapsed": true
   },
   "outputs": [],
   "source": [
    "class Layer:\n",
    "    \"\"\"\n",
    "    Base class for layers in the network\n",
    "    \n",
    "    Arguments:\n",
    "        `inbound_layers`: A list of layers with edges into this class\n",
    "    \"\"\"\n",
    "    def __init__(self, inbound_layers = []):\n",
    "        \n",
    "        # The list of layers with edges into the class\n",
    "        self.inbound_layers = inbound_layers\n",
    "        \n",
    "        # The value of this layer which is calculated during the forward pass\n",
    "        self.value = None\n",
    "        \n",
    "        # The layers that the this layer outputs to\n",
    "        self.outbound_layers = []\n",
    "        \n",
    "        # The gradients for this layer\n",
    "        # The keys are the input to this layer and their values are the \n",
    "        # partials of this layer with respect to that layer \n",
    "        self.gradients = {}\n",
    "        \n",
    "        # Sets this layer as an outbound layer for all of this layer's inputs\n",
    "        for layer in inbound_layers: \n",
    "            layer.outbound_layers.append(self)\n",
    "        \n",
    "    def forward():\n",
    "        # Abstract method that should be implemented for all the derived classes\n",
    "        raise NotImplementedError\n",
    "        \n",
    "    def backward():\n",
    "        # Abstract method that should be implemented for all the derived classes \n",
    "        raise NotImplementedError"
   ]
  },
  {
   "cell_type": "code",
   "execution_count": 3,
   "metadata": {
    "collapsed": false
   },
   "outputs": [],
   "source": [
    "class Input(Layer):\n",
    "    \"\"\"\n",
    "    This layer accepts inputs to the neural network\n",
    "    \"\"\"\n",
    "    def __init__(self):\n",
    "        # Note here that nothing is set because these values are set during\n",
    "        # the topological sort\n",
    "        Layer.__init__(self)\n",
    "        \n",
    "    def forward(self):\n",
    "        # Do nothing because nothing is calculated\n",
    "        pass\n",
    "    \n",
    "    def backward(self):\n",
    "        # An Input layer has no inputs so the gradient is zero \n",
    "        self.gradients = {self : 0}\n",
    "        \n",
    "        # Weights and bias may be inputs, so we need to sum the gradients \n",
    "        # from their outbound layers during the backward pass.\n",
    "        \n",
    "        # Remember that the goal is to figure out the total change in the cost function\n",
    "        # with respect to a single parameter, hence the addition\n",
    "  \n",
    "        for n in self.outbound_layers:\n",
    "#             a = self.gradients[self]\n",
    "#             print(a)\n",
    "#             b = n.gradients[self]\n",
    "#             print(b)\n",
    "            self.gradients[self] += n.gradients[self] "
   ]
  },
  {
   "cell_type": "code",
   "execution_count": 4,
   "metadata": {
    "collapsed": true
   },
   "outputs": [],
   "source": [
    "class Linear(Layer):\n",
    "    def __init__(self, X, W, b):\n",
    "        Layer.__init__(self, [X, W, b])\n",
    "    \n",
    "    def forward(self):\n",
    "        X = self.inbound_layers[0].value\n",
    "        W = self.inbound_layers[1].value\n",
    "        b = self.inbound_layers[2].value\n",
    "        self.value = np.dot(X, W) + b\n",
    "#         print(\"Input to layer is:\")\n",
    "#         print(X)\n",
    "        \n",
    "#         print(\"Weights of layer is:\")\n",
    "#         print(W)\n",
    "        \n",
    "#         print(\"Bias of layer is:\")\n",
    "#         print(b)\n",
    "        \n",
    "    def backward(self):\n",
    "        \n",
    "        # Initialize a partial derivative for each of the inbound_layers,\n",
    "        # remembering here that this dictionary stores the partial derivative of\n",
    "        # this layer with respect to the inbound layers\n",
    "        self.gradients = {n: np.zeros_like(n.value) for n in self.inbound_layers}\n",
    "        \n",
    "        for n in self.outbound_layers:\n",
    "            # Get the partial derivative for each of the variables in this layer \n",
    "            # with respect to the cost\n",
    "            grad_cost = n.gradients[self]\n",
    "            \n",
    "            # To find the partial derivative with respect to inputs to this layer we first have to realise\n",
    "            # three things:\n",
    "            \n",
    "            # 1. The inputs (self.inbound_layer[0].value) to this layer will be a \n",
    "            #    (number of samples in batch) x (number of nodes in previous layer) matrix\n",
    "            # \n",
    "            # 2. The grad_cost will be a (number of samples in batch) x (number of nodes in this layer) matrix\n",
    "            # \n",
    "            # 3. The partial derivative of this layer with respect to the inputs to this layer will be a weight of THIS layer\n",
    "            #    more specifically: \n",
    "            # \n",
    "            #    input_(1,1) will correspond to w_1 of this layer\n",
    "            #    input_(1,10) will correspond to w_10 of this layer\n",
    "            # \n",
    "            #    So more generally:\n",
    "            # \n",
    "            #    input_(i,j) will correspond to w_j of this layer or \n",
    "            #\n",
    "            #    Hence:\n",
    "            # \n",
    "            #    The partial derivative with respect to each of the inputs is:\n",
    "            #    np.dot(grad_cost, self.inbound_layers[1].value.T) \n",
    "            \n",
    "            self.gradients[self.inbound_layers[0]] += np.dot(grad_cost, self.inbound_layers[1].value.T)\n",
    "            \n",
    "            # To find the partial derivative with respect to the weights of this we have two main points to realise:\n",
    "            \n",
    "            # 1. The weights (self.inbound_layer[1].value) to this layer will be a\n",
    "            #    (number of nodes in the previous layer) x (number of nodes in this layer) matrix\n",
    "            # \n",
    "            # 2. Since a change in one of the weights will affect the cost of all the samples in the batch, to find \n",
    "            #    the change in a weight with respect to the cost function. All of the changes in each sample have \n",
    "            #    to be added up\n",
    "            \n",
    "            self.gradients[self.inbound_layers[1]] += np.dot(self.inbound_layers[0].value.T, grad_cost)\n",
    "            \n",
    "            # To find the partial derivates with respect to the bias of this layer we simply sum the grad_cost of this \n",
    "            # layer. This is because the derivative of the bias with respect to this layer is 1.\n",
    "            \n",
    "            self.gradients[self.inbound_layers[2]] += np.sum(grad_cost, axis = 0, keepdims = False)\n",
    "            \n",
    "    "
   ]
  },
  {
   "cell_type": "code",
   "execution_count": 5,
   "metadata": {
    "collapsed": false
   },
   "outputs": [],
   "source": [
    "class Sigmoid(Layer):\n",
    "    def __init__(self, layer):\n",
    "        Layer.__init__(self, [layer])\n",
    "        \n",
    "    def _sigmoid(self, x):\n",
    "        return 1./(1. + np.exp(-x))\n",
    "    \n",
    "    def forward(self):\n",
    "        self.value = self._sigmoid(self.inbound_layers[0].value)\n",
    "        \n",
    "    def backward(self):\n",
    "        self.gradients = {n : np.zeros_like(n.value) for n in self.inbound_layers}\n",
    "        \n",
    "        for n in self.outbound_layers:\n",
    "            grad_cost = n.gradients[self]\n",
    "            sigmoid = self.value\n",
    "            self.gradients[self.inbound_layers[0]] += sigmoid * (1 - sigmoid) * grad_cost\n",
    "        "
   ]
  },
  {
   "cell_type": "code",
   "execution_count": 6,
   "metadata": {
    "collapsed": false
   },
   "outputs": [],
   "source": [
    "class MSE(Layer):\n",
    "    def __init__(self, y, a):\n",
    "        Layer.__init__(self, [y, a])\n",
    "        \n",
    "    def forward(self):\n",
    "        y = self.inbound_layers[0].value.reshape(-1, 1)\n",
    "        a = self.inbound_layers[1].value.reshape(-1, 1) \n",
    "#         print(\"True value of y is:\")\n",
    "#         print(y)\n",
    "        \n",
    "#         print(\"Predicted value of y is:\")\n",
    "#         print(a)\n",
    "        \n",
    "        # get the number of samples\n",
    "        self.m = self.inbound_layers[0].value.shape[0]\n",
    "        \n",
    "        self.diff = y - a\n",
    "        self.value = np.mean(self.diff**2)\n",
    "        \n",
    "    def backward(self):\n",
    "        self.gradients[self.inbound_layers[0]] = (2/self.m) * self.diff\n",
    "        self.gradients[self.inbound_layers[1]] = (-2/self.m) * self.diff"
   ]
  },
  {
   "cell_type": "code",
   "execution_count": 10,
   "metadata": {
    "collapsed": false
   },
   "outputs": [],
   "source": [
    "def topological_sort(feed_dict):\n",
    "    input_layers = [n for n in feed_dict.keys()]\n",
    "    \n",
    "    G = {}\n",
    "    \n",
    "    layers = [n for n in input_layers]\n",
    "    \n",
    "    # Think of each element in the layer as a node, in this while loop\n",
    "    # we are simply finding which layers are connected to which other layers\n",
    "    while len(layers) > 0:\n",
    "        # Get the first element of the array\n",
    "        n = layers.pop(0)\n",
    "        \n",
    "        # Check if this layer n is in the dictionary if it isn't add it in\n",
    "        if n not in G:\n",
    "            G[n] = {'in' : set(), 'out' : set()}\n",
    "        # Check if this layer m is in the dictionary if it isn't add it in \n",
    "        for m in n.outbound_layers:\n",
    "            if m not in G:\n",
    "                G[m] = {'in' : set(), 'out' : set()}\n",
    "            # Add the edges between the nodes\n",
    "            G[n]['out'].add(m)\n",
    "            G[m]['in'].add(n)\n",
    "            layers.append(m)\n",
    "        \n",
    "    L = []\n",
    "    S = set(input_layers)\n",
    "    \n",
    "    while len(S) > 0:\n",
    "        # Get the last layer \n",
    "        n = S.pop()\n",
    "        \n",
    "        # Check if it is an input layer, if it is then initialize the value\n",
    "        if (isinstance(n, Input)):\n",
    "            n.value = feed_dict[n]\n",
    "            \n",
    "        L.append(n)\n",
    "        for m in n.outbound_layers:\n",
    "            G[n]['out'].remove(m)\n",
    "            G[m]['in'].remove(n)\n",
    "            \n",
    "            # if there are no incoming edges to m then add it to S\n",
    "            if len(G[m]['in']) == 0:\n",
    "                S.add(m)\n",
    "    return(L)"
   ]
  },
  {
   "cell_type": "code",
   "execution_count": 11,
   "metadata": {
    "collapsed": false
   },
   "outputs": [],
   "source": [
    "def forward_pass(graph):\n",
    "    for n in graph:\n",
    "        n.forward()\n",
    "\n",
    "def backward_pass(graph):\n",
    "    for n in graph[::-1]:\n",
    "        n.backward() "
   ]
  },
  {
   "cell_type": "code",
   "execution_count": 12,
   "metadata": {
    "collapsed": true
   },
   "outputs": [],
   "source": [
    "def sgd_update(trainable, learning_rate = 1e-2): \n",
    "     \n",
    "    for t in trainable:\n",
    "        partial = t.gradients[t]\n",
    "#         print(\"Partial derivatives are:\")\n",
    "#         print(partial)\n",
    "        t.value -= learning_rate * partial "
   ]
  },
  {
   "cell_type": "markdown",
   "metadata": {},
   "source": [
    "# Creating a neural network to predict Boston housing prices"
   ]
  },
  {
   "cell_type": "code",
   "execution_count": 13,
   "metadata": {
    "collapsed": true
   },
   "outputs": [],
   "source": [
    "from sklearn.datasets import load_boston\n",
    "from sklearn.utils import shuffle, resample\n",
    "from sklearn.model_selection import train_test_split"
   ]
  },
  {
   "cell_type": "code",
   "execution_count": 14,
   "metadata": {
    "collapsed": false
   },
   "outputs": [
    {
     "name": "stdout",
     "output_type": "stream",
     "text": [
      "(506, 13)\n",
      "(506,)\n"
     ]
    }
   ],
   "source": [
    "# Load the Boston housing data\n",
    "data = load_boston()\n",
    "X_ = data['data']\n",
    "y_ = data['target']\n",
    "print(X_.shape)\n",
    "print(y_.shape)"
   ]
  },
  {
   "cell_type": "code",
   "execution_count": 15,
   "metadata": {
    "collapsed": false
   },
   "outputs": [
    {
     "name": "stdout",
     "output_type": "stream",
     "text": [
      "(323, 13)\n",
      "(81, 13)\n",
      "(323,)\n",
      "(81,)\n"
     ]
    }
   ],
   "source": [
    "# Normalize the data so that the SGD will perform better\n",
    "X_ = (X_-np.mean(X_,axis = 0))/np.std(X_, axis = 0) # note here that axis = 0 is the vertical axis\n",
    "# print(X_)\n",
    "# Now split the data into training and testing\n",
    "X_train, X_test, y_train, y_test = train_test_split(X_, y_, test_size = 0.2)\n",
    "X_train, X_validation, y_train, y_validation = train_test_split(X_train, y_train, test_size = 0.2)\n",
    "print(X_train.shape)\n",
    "print(X_validation.shape)\n",
    "print(y_train.shape)\n",
    "print(y_validation.shape)"
   ]
  },
  {
   "cell_type": "code",
   "execution_count": 16,
   "metadata": {
    "collapsed": false
   },
   "outputs": [],
   "source": [
    "# Setup the hidden layer\n",
    "n_features = X_train.shape[1]\n",
    "n_hidden = 10\n",
    "\n",
    "# Initialize the weights \n",
    "W1_ = np.random.randn(n_features, n_hidden)\n",
    "b1_ = np.zeros(n_hidden)\n",
    "W2_ = np.random.randn(n_hidden, 1)\n",
    "b2_ = np.zeros(1)\n",
    "\n",
    "# Build the layers for the neural network\n",
    "X, y, = Input(), Input()\n",
    "W1, b1 = Input(), Input()\n",
    "W2, b2 = Input(), Input()\n",
    "\n",
    "l1 = Linear(X, W1, b1)\n",
    "s1 = Sigmoid(l1)\n",
    "l2 = Linear(s1, W2, b2)\n",
    "cost = MSE(y, l2)\n",
    "\n",
    "# Define the input layers to the neural network \n",
    "feed_dict = {\n",
    "    X: X_train,\n",
    "    y: y_train,\n",
    "    W1: W1_,\n",
    "    b1: b1_,\n",
    "    W2: W2_,\n",
    "    b2: b2_\n",
    "}"
   ]
  },
  {
   "cell_type": "code",
   "execution_count": 17,
   "metadata": {
    "collapsed": false
   },
   "outputs": [],
   "source": [
    "# Setup the parameters for training the network\n",
    "epochs = 500\n",
    "show_per_step = 50\n",
    "n_samples = X_train.shape[0]\n",
    "batch_size = 11\n",
    "steps_per_epoch = n_samples // batch_size\n",
    "\n",
    "# Now define the graph\n",
    "graph = topological_sort(feed_dict)\n",
    "forward_pass(graph)\n",
    "trainables = [W1, b1, W2, b2]"
   ]
  },
  {
   "cell_type": "code",
   "execution_count": 18,
   "metadata": {
    "collapsed": false
   },
   "outputs": [
    {
     "name": "stdout",
     "output_type": "stream",
     "text": [
      "Loss of validation set in epoch 1 is: 461.1955014912776\n",
      "Loss of validation set in epoch 51 is: 26.093871323559608\n",
      "Loss of validation set in epoch 101 is: 20.948910970739092\n",
      "Loss of validation set in epoch 151 is: 18.10372957256834\n",
      "Loss of validation set in epoch 201 is: 16.03413194154353\n",
      "Loss of validation set in epoch 251 is: 14.486948592060013\n",
      "Loss of validation set in epoch 301 is: 12.600360829022726\n",
      "Loss of validation set in epoch 351 is: 11.655713819097473\n",
      "Loss of validation set in epoch 401 is: 11.280432445373773\n",
      "Loss of validation set in epoch 451 is: 10.621722572588979\n",
      "Loss of test set is: 12.937706015383514\n"
     ]
    }
   ],
   "source": [
    "# Now lets run the model\n",
    "for i in range(epochs):\n",
    "    loss = 0\n",
    "    for j in range(steps_per_epoch):\n",
    "        # Sample a random batch of data \n",
    "        X_batch, y_batch = resample(X_train, y_train, n_samples = batch_size)\n",
    "        \n",
    "        # Reset the values of X and y \n",
    "        X.value = X_batch\n",
    "        y.value = y_batch\n",
    "#         print(X.value)\n",
    "#         print(y.value)\n",
    "        \n",
    "        # Now run the forward and backward propagation\n",
    "        forward_pass(graph) \n",
    "        backward_pass(graph)\n",
    "        \n",
    "        # Update the weights of or biases and weights\n",
    "        sgd_update(trainables, learning_rate = 1e-3) \n",
    "        \n",
    "#         print(\"Loss is {0}\".format(graph[-1].value))\n",
    "        loss += graph[-1].value\n",
    "#     print(\"Epoch: {}, Loss {:.3f}\".format(i + 1, loss/steps_per_epoch))\n",
    "    \n",
    "    # Use the validation set\n",
    "    X.value = X_validation\n",
    "    y.value = y_validation\n",
    "    \n",
    "    forward_pass(graph)\n",
    "    \n",
    "    if (i%show_per_step == 0):\n",
    "        print(\"Loss of validation set in epoch {0} is: {1}\".format(i + 1, graph[-1].value))\n",
    "\n",
    "# Test it on the test set\n",
    "X.value = X_test\n",
    "y.value = y_test\n",
    "forward_pass(graph)\n",
    "print(\"Loss of test set is: {0}\".format(graph[-1].value))"
   ]
  }
 ],
 "metadata": {
  "kernelspec": {
   "display_name": "Python 3",
   "language": "python",
   "name": "python3"
  },
  "language_info": {
   "codemirror_mode": {
    "name": "ipython",
    "version": 3
   },
   "file_extension": ".py",
   "mimetype": "text/x-python",
   "name": "python",
   "nbconvert_exporter": "python",
   "pygments_lexer": "ipython3",
   "version": "3.5.2"
  },
  "widgets": {
   "state": {},
   "version": "1.1.2"
  }
 },
 "nbformat": 4,
 "nbformat_minor": 0
}
